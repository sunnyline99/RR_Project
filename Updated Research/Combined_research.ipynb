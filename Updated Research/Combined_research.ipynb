{
 "cells": [
  {
   "cell_type": "markdown",
   "id": "a181cd30",
   "metadata": {},
   "source": [
    "# Spam Detection Project Reproduced One-to-One"
   ]
  },
  {
   "cell_type": "markdown",
   "id": "b60d81aa",
   "metadata": {},
   "source": [
    "# Reproducible Research Project\n",
    "\n",
    "### Jakub Cudak\n",
    "### Paulina Sereikyte\n",
    "### Dawid Szyszko-Celinski\n",
    "\n",
    "![alt text](https://www.netia.pl/Netia/media/blog/spam-co-to-jest.png)\n",
    "\n",
    "Source: https://www.netia.pl/Netia/media/blog/spam-co-to-jest.png\n",
    "\n",
    "## Aim of the initial project\n",
    "\n",
    "The main aim of the project is to reproduce the econometric project submitted for the \"Advanced Econometric\" subject. The initial project idea was to create a logit and probit econometric model in RStudio that would predict if the email is spam. The dataset used for the initial analysis mainly consisted of certain keywords frequenies in the text and additional metrics such as a number of words in the email.\n",
    "\n",
    "The approach of the modelling was as follows:\n",
    "1) Create a basic probit and logit model that consists of all explanatory variables\n",
    "2) Perform LR (likelihood Ratio) test to verify if the model`s parameters are jointly significant\n",
    "3) Perform stepwise regression for both models to remove all coefficients whose p-value is above the 5% threshold\n",
    "4) Again perform the LR test and additional Link test that would check if the model has a good specification\n",
    "5) Add interaction between variables to the analysis\n",
    "6) Perform stepwise regression\n",
    "7) Execute LR and Link test\n",
    "8) Execute the Hosmer-Lemershow test and Osjus-Rojek test to verify the specification\n",
    "9) Verify goodness of fit statistics\n",
    "10) Calculate marginal effects\n",
    "\n",
    "The whole analysis and report can be found in the \"Initial research\" file:\n",
    "1) The \"Advanced Econometrics 2022 project\" contains a report and description of the steps of the analysis\n",
    "2) \"spambase - raw data\" consists of the raw dataset used for initial analysis\n",
    "3) \"Spam detection codes\" - consist of R script used to perform the analysis\n",
    "4) \"names.csv\" is an updated file with variables names, that can be read by R studio in CSV format\n",
    "5) \"linktest.R\" and \"marginaleffects.R\" are custom functions written in R by dr Rafal Wozniak, Faculty of Economic Sciences, University of Warsaw\n",
    "\n",
    "## Aim of this project\n",
    "\n",
    "The aim of this project is to try reproducing the initial research in a different programming language - Python. We would like to verify if the actions performed in R can be easily translated into Python codes. We would like to verify if the outcomes are the same or if they differ due to possibly different algorithms that could be used in certain functions.\n",
    "\n",
    "What is more, we would like to perform the same analysis, but on a different dataset with the same keyword that was used in the initial research. Based on the new dataset new keywords will be also obtained and a new model will be produced to verify how probit and logit models will work on the different datasets and keywords. The new dataset that will be used contains only text and labels if the message is spam or not, which is why it will be necessary to perform some data transformations. The process of the initial research will be followed.\n",
    "\n",
    "In this part of the analysis we will try to recreate the previous research on the new data directly. We use an Email Spam Detection Dataset, which is available on Kaggle, and can be accessed via: https://www.kaggle.com/datasets/shantanudhakadd/email-spam-detection-dataset-classification\n",
    "\n",
    "The dataset contains 5169 unique observations, out of which 87% are non-spam emails, while only 13% are classified as spam. While split is more challenging in terms of training our models, we can expect results to be less accurate. The e-mails in the dataset are not\n",
    "\n",
    "The whole analysis can be found in the \"Updated Research\" file:\n",
    "1) \"Combined research\" consists of a report and codes in jupyter notebook that contains all codes necessary to recreate initial research one-to-one and 2 updated versions: with old and new keywords on the new dataset.\n",
    "2) \"new_data_new_words.csv\" dataset that will be used to analyse new keywords on a new dataset\n",
    "3) \"new_data_old_words.csv\" dataset that will be used to analyse old keywords on a new dataset\n",
    "4) \"Technical\" folder that contains all codes that were used as technical parts to create the main file \"Combined research\"\n",
    "5) \"Link to the dataset\" - a text file containing a link to the new dataset\n",
    "\n",
    "## General results\n",
    "\n",
    "We were able to replicate the analysis, which was originally designed in R, in Python. Some adjustments had to be made to create new formulas and utilise a different set of packages, however the results generated in Python were the same as the results generated in R when using the same dataset.\n",
    "\n",
    "Applying the same methodologies to a new dataset were more challenging, as the initial analysis was based on the word frequencies of certain words in the text. At first, the analysis was conducted based on the most common words and characters present in the new dataset. Then the models were replicated by calculating the frequencies of the words from the initial word list. \n",
    "While it was still possible to construct the models, they were generally less efficient in detecting spam. One of the main reasons was the much lower frequencies of the selected and previously used words in the new text. This resulted in very low variances within the variable which then had to be removed to be included in the models.\n",
    "This issue was more prevalent when trying to replicate the analysis using the old word list - many of the words were highly specific to the initial dataset and thus were not found in the new data. This resulted in a big reduction in the number of variables and possible interactions, therefore the analysis could not be replicated exactly.\n",
    "\n",
    "Overall, this excercise has proven what has been discussed in the initial research report- while econometric analysis performed well or on par with more complex models, it was determined to be highly specific to the data it was built on. As spam detection is a fast evolving subject that would need frequent updating and flexibility, other models, such as machine learning, are preferable.\n",
    "\n",
    "## Disclaimer: AI Tools were used to reproduce the research\n",
    "\n",
    "Our translation from R to Python was aided by the use of ChatGPT. The process involved an initial machine translation, after which we have fixed mistakes in subsequent iterations. ChatGPT provided also an alternative to Stack Overflow while searching for solutions to bugs we encountered. While using ChatGPT we have used queries that contained R code and the error messages."
   ]
  },
  {
   "cell_type": "markdown",
   "id": "eff7ca13",
   "metadata": {},
   "source": [
    "Load the necessary packages"
   ]
  },
  {
   "cell_type": "code",
   "execution_count": 62,
   "id": "cf0eb124",
   "metadata": {},
   "outputs": [],
   "source": [
    "import os\n",
    "import pandas as pd\n",
    "import statsmodels.api as sm\n",
    "import statsmodels.formula.api as smf\n",
    "import numpy as np\n",
    "import matplotlib.pyplot as plt\n",
    "from scipy import stats\n",
    "import patsy\n",
    "from statsmodels.discrete.discrete_model import ProbitResults, LogitResults\n",
    "from scipy.stats import chi2\n",
    "from scipy.stats import norm\n",
    "\n",
    "import nltk\n",
    "from nltk.corpus import stopwords\n",
    "from nltk.stem import WordNetLemmatizer\n",
    "from nltk import FreqDist\n",
    "from sklearn.feature_extraction.text import CountVectorizer\n",
    "import re\n",
    "from sklearn.preprocessing import MinMaxScaler"
   ]
  },
  {
   "cell_type": "markdown",
   "id": "1497ff39",
   "metadata": {},
   "source": [
    "Import the initial dataset:"
   ]
  },
  {
   "cell_type": "code",
   "execution_count": 63,
   "id": "20412dfc",
   "metadata": {},
   "outputs": [],
   "source": [
    "spam = pd.read_csv(\"/Inital research/spambase.data\", header=None)\n",
    "names = pd.read_csv(\"names.csv\", header=None)"
   ]
  },
  {
   "cell_type": "code",
   "execution_count": 64,
   "id": "f2f3f7c2",
   "metadata": {},
   "outputs": [
    {
     "data": {
      "text/plain": [
       "<bound method NDFrame.describe of         0     1     2    3     4     5     6     7     8     9   ...     48  \\\n",
       "0     0.00  0.64  0.64  0.0  0.32  0.00  0.00  0.00  0.00  0.00  ...  0.000   \n",
       "1     0.21  0.28  0.50  0.0  0.14  0.28  0.21  0.07  0.00  0.94  ...  0.000   \n",
       "2     0.06  0.00  0.71  0.0  1.23  0.19  0.19  0.12  0.64  0.25  ...  0.010   \n",
       "3     0.00  0.00  0.00  0.0  0.63  0.00  0.31  0.63  0.31  0.63  ...  0.000   \n",
       "4     0.00  0.00  0.00  0.0  0.63  0.00  0.31  0.63  0.31  0.63  ...  0.000   \n",
       "...    ...   ...   ...  ...   ...   ...   ...   ...   ...   ...  ...    ...   \n",
       "4596  0.31  0.00  0.62  0.0  0.00  0.31  0.00  0.00  0.00  0.00  ...  0.000   \n",
       "4597  0.00  0.00  0.00  0.0  0.00  0.00  0.00  0.00  0.00  0.00  ...  0.000   \n",
       "4598  0.30  0.00  0.30  0.0  0.00  0.00  0.00  0.00  0.00  0.00  ...  0.102   \n",
       "4599  0.96  0.00  0.00  0.0  0.32  0.00  0.00  0.00  0.00  0.00  ...  0.000   \n",
       "4600  0.00  0.00  0.65  0.0  0.00  0.00  0.00  0.00  0.00  0.00  ...  0.000   \n",
       "\n",
       "         49   50     51     52     53     54   55    56  57  \n",
       "0     0.000  0.0  0.778  0.000  0.000  3.756   61   278   1  \n",
       "1     0.132  0.0  0.372  0.180  0.048  5.114  101  1028   1  \n",
       "2     0.143  0.0  0.276  0.184  0.010  9.821  485  2259   1  \n",
       "3     0.137  0.0  0.137  0.000  0.000  3.537   40   191   1  \n",
       "4     0.135  0.0  0.135  0.000  0.000  3.537   40   191   1  \n",
       "...     ...  ...    ...    ...    ...    ...  ...   ...  ..  \n",
       "4596  0.232  0.0  0.000  0.000  0.000  1.142    3    88   0  \n",
       "4597  0.000  0.0  0.353  0.000  0.000  1.555    4    14   0  \n",
       "4598  0.718  0.0  0.000  0.000  0.000  1.404    6   118   0  \n",
       "4599  0.057  0.0  0.000  0.000  0.000  1.147    5    78   0  \n",
       "4600  0.000  0.0  0.125  0.000  0.000  1.250    5    40   0  \n",
       "\n",
       "[4601 rows x 58 columns]>"
      ]
     },
     "execution_count": 64,
     "metadata": {},
     "output_type": "execute_result"
    }
   ],
   "source": [
    "spam.describe"
   ]
  },
  {
   "cell_type": "code",
   "execution_count": 65,
   "id": "251713ef",
   "metadata": {},
   "outputs": [
    {
     "data": {
      "text/plain": [
       "<bound method NDFrame.describe of                              0\n",
       "0               word_freq_make\n",
       "1            word_freq_address\n",
       "2                word_freq_all\n",
       "3                 word_freq_3d\n",
       "4                word_freq_our\n",
       "5               word_freq_over\n",
       "6             word_freq_remove\n",
       "7           word_freq_internet\n",
       "8              word_freq_order\n",
       "9               word_freq_mail\n",
       "10           word_freq_receive\n",
       "11              word_freq_will\n",
       "12            word_freq_people\n",
       "13            word_freq_report\n",
       "14         word_freq_addresses\n",
       "15              word_freq_free\n",
       "16          word_freq_business\n",
       "17             word_freq_email\n",
       "18               word_freq_you\n",
       "19            word_freq_credit\n",
       "20              word_freq_your\n",
       "21              word_freq_font\n",
       "22               word_freq_000\n",
       "23             word_freq_money\n",
       "24                word_freq_hp\n",
       "25               word_freq_hpl\n",
       "26            word_freq_george\n",
       "27               word_freq_650\n",
       "28               word_freq_lab\n",
       "29              word_freq_labs\n",
       "30            word_freq_telnet\n",
       "31               word_freq_857\n",
       "32              word_freq_data\n",
       "33               word_freq_415\n",
       "34                word_freq_85\n",
       "35        word_freq_technology\n",
       "36              word_freq_1999\n",
       "37             word_freq_parts\n",
       "38                word_freq_pm\n",
       "39            word_freq_direct\n",
       "40                word_freq_cs\n",
       "41           word_freq_meeting\n",
       "42          word_freq_original\n",
       "43           word_freq_project\n",
       "44                word_freq_re\n",
       "45               word_freq_edu\n",
       "46             word_freq_table\n",
       "47        word_freq_conference\n",
       "48                 char_freq_;\n",
       "49                 char_freq_(\n",
       "50                 char_freq_[\n",
       "51                 char_freq_!\n",
       "52                 char_freq_$\n",
       "53                 char_freq_#\n",
       "54  capital_run_length_average\n",
       "55  capital_run_length_longest\n",
       "56    capital_run_length_total>"
      ]
     },
     "execution_count": 65,
     "metadata": {},
     "output_type": "execute_result"
    }
   ],
   "source": [
    "names.describe"
   ]
  },
  {
   "cell_type": "code",
   "execution_count": 66,
   "id": "e25ea9e6",
   "metadata": {},
   "outputs": [],
   "source": [
    "#rename columns\n",
    "\n",
    "names.loc[48, 0] = \"char_freq_semicolon\"\n",
    "names.loc[49, 0] = \"char_freq_bracket\"\n",
    "names.loc[50, 0] = \"char_freq_square_bracket\"\n",
    "names.loc[51, 0] = \"char_freq_exclamation\"\n",
    "names.loc[52, 0] = \"char_freq_dollar\"\n",
    "names.loc[53, 0] = \"char_freq_hashtag\"\n",
    "names.loc[57, 0] = \"spam\""
   ]
  },
  {
   "cell_type": "code",
   "execution_count": 67,
   "id": "e08fef1a",
   "metadata": {},
   "outputs": [],
   "source": [
    "#remove missing values\n",
    "\n",
    "spam.columns = names[0].values\n",
    "\n",
    "spam.dropna(inplace=True)"
   ]
  },
  {
   "cell_type": "code",
   "execution_count": 68,
   "id": "7daf3969",
   "metadata": {},
   "outputs": [
    {
     "data": {
      "text/plain": [
       "Index(['word_freq_make', 'word_freq_address', 'word_freq_all', 'word_freq_3d',\n",
       "       'word_freq_our', 'word_freq_over', 'word_freq_remove',\n",
       "       'word_freq_internet', 'word_freq_order', 'word_freq_mail',\n",
       "       'word_freq_receive', 'word_freq_will', 'word_freq_people',\n",
       "       'word_freq_report', 'word_freq_addresses', 'word_freq_free',\n",
       "       'word_freq_business', 'word_freq_email', 'word_freq_you',\n",
       "       'word_freq_credit', 'word_freq_your', 'word_freq_font', 'word_freq_000',\n",
       "       'word_freq_money', 'word_freq_hp', 'word_freq_hpl', 'word_freq_george',\n",
       "       'word_freq_650', 'word_freq_lab', 'word_freq_labs', 'word_freq_telnet',\n",
       "       'word_freq_857', 'word_freq_data', 'word_freq_415', 'word_freq_85',\n",
       "       'word_freq_technology', 'word_freq_1999', 'word_freq_parts',\n",
       "       'word_freq_pm', 'word_freq_direct', 'word_freq_cs', 'word_freq_meeting',\n",
       "       'word_freq_original', 'word_freq_project', 'word_freq_re',\n",
       "       'word_freq_edu', 'word_freq_table', 'word_freq_conference',\n",
       "       'char_freq_semicolon', 'char_freq_bracket', 'char_freq_square_bracket',\n",
       "       'char_freq_exclamation', 'char_freq_dollar', 'char_freq_hashtag',\n",
       "       'capital_run_length_average', 'capital_run_length_longest',\n",
       "       'capital_run_length_total', 'spam'],\n",
       "      dtype='object')"
      ]
     },
     "execution_count": 68,
     "metadata": {},
     "output_type": "execute_result"
    }
   ],
   "source": [
    "#overview of our database\n",
    "\n",
    "spam.columns"
   ]
  },
  {
   "cell_type": "markdown",
   "id": "d595875b",
   "metadata": {},
   "source": [
    "Let us check the distribution of spam and non-spam mails"
   ]
  },
  {
   "cell_type": "code",
   "execution_count": 69,
   "id": "ea06ef2d",
   "metadata": {},
   "outputs": [
    {
     "data": {
      "image/png": "[encoded data removed]",
      "text/plain": [
       "<Figure size 432x288 with 1 Axes>"
      ]
     },
     "metadata": {
      "needs_background": "light"
     },
     "output_type": "display_data"
    }
   ],
   "source": [
    "spam_count = spam[\"spam\"].value_counts()\n",
    "perc_yes = round(spam_count[1] / len(spam) * 100, 2)\n",
    "perc_no = round(spam_count[0] / len(spam) * 100, 2)\n",
    "\n",
    "plt.bar([\"Non-spam\", \"Spam\"], spam_count, color=[\"#31d64f\", \"#ed3b3b\"])\n",
    "plt.title(\"Number of spam/non-spam mails\")\n",
    "plt.xlabel(\"Type of mail\")\n",
    "plt.ylabel(\"Frequency\")\n",
    "plt.legend([\"Non-spam\", \"Spam\"])\n",
    "plt.show()"
   ]
  },
  {
   "cell_type": "markdown",
   "id": "207735ce",
   "metadata": {},
   "source": [
    "We see that the dataset consists of 1813 observations in the “spam” category and 2788 in the “non-spam” category, providing a ca. 40/60 class distribution. Moreover, there are no missing values in the data."
   ]
  },
  {
   "cell_type": "markdown",
   "id": "e4d25fc9",
   "metadata": {},
   "source": [
    "## Start from the most general model that contains all explanatory variables"
   ]
  },
  {
   "cell_type": "markdown",
   "id": "451d0fa9",
   "metadata": {},
   "source": [
    "Create a formula that consists of all variables"
   ]
  },
  {
   "cell_type": "code",
   "execution_count": 70,
   "id": "b02c215f",
   "metadata": {},
   "outputs": [],
   "source": [
    "formula = \"spam ~ \" + \" + \".join(spam.columns[:-1])"
   ]
  },
  {
   "cell_type": "markdown",
   "id": "246073b9",
   "metadata": {},
   "source": [
    "We build two classification models, probit and logit, both binary dependent variable predictive models. "
   ]
  },
  {
   "cell_type": "markdown",
   "id": "52ffe5b2",
   "metadata": {},
   "source": [
    "Probit inital model"
   ]
  },
  {
   "cell_type": "code",
   "execution_count": 71,
   "id": "0f4781df",
   "metadata": {},
   "outputs": [
    {
     "name": "stdout",
     "output_type": "stream",
     "text": [
      "Optimization terminated successfully.\n",
      "         Current function value: 0.207573\n",
      "         Iterations 15\n",
      "                          Probit Regression Results                           \n",
      "==============================================================================\n",
      "Dep. Variable:                   spam   No. Observations:                 4601\n",
      "Model:                         Probit   Df Residuals:                     4543\n",
      "Method:                           MLE   Df Model:                           57\n",
      "Date:                Sun, 18 Jun 2023   Pseudo R-squ.:                  0.6904\n",
      "Time:                        22:37:48   Log-Likelihood:                -955.04\n",
      "converged:                       True   LL-Null:                       -3085.1\n",
      "Covariance Type:            nonrobust   LLR p-value:                     0.000\n",
      "==============================================================================================\n",
      "                                 coef    std err          z      P>|z|      [0.025      0.975]\n",
      "----------------------------------------------------------------------------------------------\n",
      "Intercept                     -0.8356      0.075    -11.098      0.000      -0.983      -0.688\n",
      "word_freq_make                -0.1751      0.115     -1.520      0.128      -0.401       0.051\n",
      "word_freq_address             -0.0858      0.035     -2.462      0.014      -0.154      -0.017\n",
      "word_freq_all                  0.1134      0.063      1.803      0.071      -0.010       0.237\n",
      "word_freq_3d                   1.3766      0.803      1.713      0.087      -0.198       2.951\n",
      "word_freq_our                  0.3122      0.047      6.652      0.000       0.220       0.404\n",
      "word_freq_over                 0.4709      0.108      4.363      0.000       0.259       0.683\n",
      "word_freq_remove               0.9894      0.121      8.146      0.000       0.751       1.227\n",
      "word_freq_internet             0.2829      0.080      3.534      0.000       0.126       0.440\n",
      "word_freq_order                0.2988      0.120      2.493      0.013       0.064       0.534\n",
      "word_freq_mail                 0.0786      0.039      2.033      0.042       0.003       0.154\n",
      "word_freq_receive             -0.0800      0.151     -0.531      0.595      -0.375       0.215\n",
      "word_freq_will                -0.0867      0.041     -2.129      0.033      -0.167      -0.007\n",
      "word_freq_people              -0.0279      0.126     -0.221      0.825      -0.276       0.220\n",
      "word_freq_report               0.1086      0.078      1.396      0.163      -0.044       0.261\n",
      "word_freq_addresses            0.8329      0.362      2.298      0.022       0.122       1.543\n",
      "word_freq_free                 0.5191      0.062      8.437      0.000       0.399       0.640\n",
      "word_freq_business             0.4645      0.109      4.248      0.000       0.250       0.679\n",
      "word_freq_email                0.1029      0.064      1.595      0.111      -0.024       0.229\n",
      "word_freq_you                  0.0401      0.019      2.079      0.038       0.002       0.078\n",
      "word_freq_credit               0.4384      0.211      2.079      0.038       0.025       0.852\n",
      "word_freq_your                 0.1487      0.028      5.359      0.000       0.094       0.203\n",
      "word_freq_font                 0.1434      0.087      1.652      0.098      -0.027       0.313\n",
      "word_freq_000                  1.2991      0.212      6.142      0.000       0.885       1.714\n",
      "word_freq_money                0.2165      0.062      3.466      0.001       0.094       0.339\n",
      "word_freq_hp                  -0.7846      0.108     -7.271      0.000      -0.996      -0.573\n",
      "word_freq_hpl                 -0.6996      0.200     -3.505      0.000      -1.091      -0.308\n",
      "word_freq_george              -3.5943      0.564     -6.370      0.000      -4.700      -2.488\n",
      "word_freq_650                  0.2448      0.101      2.421      0.015       0.047       0.443\n",
      "word_freq_lab                 -1.4529      0.775     -1.874      0.061      -2.972       0.067\n",
      "word_freq_labs                -0.2275      0.166     -1.375      0.169      -0.552       0.097\n",
      "word_freq_telnet              -0.0992      0.231     -0.429      0.668      -0.553       0.354\n",
      "word_freq_857                  1.1786      1.536      0.767      0.443      -1.832       4.189\n",
      "word_freq_data                -0.4158      0.161     -2.590      0.010      -0.730      -0.101\n",
      "word_freq_415                 -0.2320      0.819     -0.283      0.777      -1.837       1.373\n",
      "word_freq_85                  -1.2428      0.406     -3.060      0.002      -2.039      -0.447\n",
      "word_freq_technology           0.4606      0.161      2.860      0.004       0.145       0.776\n",
      "word_freq_1999                 0.0014      0.097      0.014      0.989      -0.188       0.191\n",
      "word_freq_parts               -0.3007      0.227     -1.324      0.185      -0.746       0.144\n",
      "word_freq_pm                  -0.4698      0.208     -2.255      0.024      -0.878      -0.061\n",
      "word_freq_direct              -0.1422      0.201     -0.708      0.479      -0.536       0.251\n",
      "word_freq_cs                 -24.2110     13.248     -1.828      0.068     -50.177       1.755\n",
      "word_freq_meeting             -1.5055      0.431     -3.496      0.000      -2.350      -0.662\n",
      "word_freq_original            -0.6552      0.400     -1.640      0.101      -1.438       0.128\n",
      "word_freq_project             -0.8125      0.264     -3.081      0.002      -1.329      -0.296\n",
      "word_freq_re                  -0.4094      0.074     -5.507      0.000      -0.555      -0.264\n",
      "word_freq_edu                 -0.6755      0.114     -5.923      0.000      -0.899      -0.452\n",
      "word_freq_table               -1.2250      0.764     -1.604      0.109      -2.722       0.272\n",
      "word_freq_conference          -2.0125      0.746     -2.699      0.007      -3.474      -0.551\n",
      "char_freq_semicolon           -0.8079      0.248     -3.257      0.001      -1.294      -0.322\n",
      "char_freq_bracket             -0.1302      0.139     -0.933      0.351      -0.404       0.143\n",
      "char_freq_square_bracket      -0.4066      0.452     -0.899      0.369      -1.293       0.480\n",
      "char_freq_exclamation          0.1572      0.027      5.901      0.000       0.105       0.209\n",
      "char_freq_dollar               2.2585      0.283      7.994      0.000       1.705       2.812\n",
      "char_freq_hashtag              1.3189      0.329      4.012      0.000       0.675       1.963\n",
      "capital_run_length_average    -0.0027      0.008     -0.333      0.739      -0.019       0.013\n",
      "capital_run_length_longest     0.0043      0.001      3.595      0.000       0.002       0.007\n",
      "capital_run_length_total       0.0005   9.83e-05      5.006      0.000       0.000       0.001\n",
      "==============================================================================================\n",
      "\n",
      "Possibly complete quasi-separation: A fraction 0.33 of observations can be\n",
      "perfectly predicted. This might indicate that there is complete\n",
      "quasi-separation. In this case some parameters will not be identified.\n"
     ]
    }
   ],
   "source": [
    "myprobit = sm.Probit.from_formula(formula, data=spam).fit()\n",
    "print(myprobit.summary())"
   ]
  },
  {
   "cell_type": "markdown",
   "id": "d5a94060",
   "metadata": {},
   "source": [
    "Logit initial model"
   ]
  },
  {
   "cell_type": "code",
   "execution_count": 72,
   "id": "69db3ff8",
   "metadata": {},
   "outputs": [
    {
     "name": "stdout",
     "output_type": "stream",
     "text": [
      "Optimization terminated successfully.\n",
      "         Current function value: 0.197323\n",
      "         Iterations 15\n",
      "                           Logit Regression Results                           \n",
      "==============================================================================\n",
      "Dep. Variable:                   spam   No. Observations:                 4601\n",
      "Model:                          Logit   Df Residuals:                     4543\n",
      "Method:                           MLE   Df Model:                           57\n",
      "Date:                Sun, 18 Jun 2023   Pseudo R-squ.:                  0.7057\n",
      "Time:                        22:37:49   Log-Likelihood:                -907.88\n",
      "converged:                       True   LL-Null:                       -3085.1\n",
      "Covariance Type:            nonrobust   LLR p-value:                     0.000\n",
      "==============================================================================================\n",
      "                                 coef    std err          z      P>|z|      [0.025      0.975]\n",
      "----------------------------------------------------------------------------------------------\n",
      "Intercept                     -1.5686      0.142    -11.044      0.000      -1.847      -1.290\n",
      "word_freq_make                -0.3895      0.231     -1.683      0.092      -0.843       0.064\n",
      "word_freq_address             -0.1458      0.069     -2.104      0.035      -0.282      -0.010\n",
      "word_freq_all                  0.1141      0.110      1.035      0.301      -0.102       0.330\n",
      "word_freq_3d                   2.2515      1.507      1.494      0.135      -0.702       5.205\n",
      "word_freq_our                  0.5624      0.102      5.524      0.000       0.363       0.762\n",
      "word_freq_over                 0.8830      0.250      3.534      0.000       0.393       1.373\n",
      "word_freq_remove               2.2785      0.333      6.846      0.000       1.626       2.931\n",
      "word_freq_internet             0.5696      0.168      3.387      0.001       0.240       0.899\n",
      "word_freq_order                0.7343      0.285      2.577      0.010       0.176       1.293\n",
      "word_freq_mail                 0.1275      0.073      1.755      0.079      -0.015       0.270\n",
      "word_freq_receive             -0.2557      0.298     -0.858      0.391      -0.840       0.328\n",
      "word_freq_will                -0.1383      0.074     -1.868      0.062      -0.283       0.007\n",
      "word_freq_people              -0.0796      0.230     -0.346      0.730      -0.531       0.372\n",
      "word_freq_report               0.1447      0.136      1.061      0.289      -0.123       0.412\n",
      "word_freq_addresses            1.2362      0.725      1.704      0.088      -0.186       2.658\n",
      "word_freq_free                 1.0386      0.146      7.128      0.000       0.753       1.324\n",
      "word_freq_business             0.9599      0.225      4.264      0.000       0.519       1.401\n",
      "word_freq_email                0.1203      0.117      1.027      0.305      -0.109       0.350\n",
      "word_freq_you                  0.0813      0.035      2.320      0.020       0.013       0.150\n",
      "word_freq_credit               1.0474      0.538      1.946      0.052      -0.008       2.102\n",
      "word_freq_your                 0.2419      0.052      4.615      0.000       0.139       0.345\n",
      "word_freq_font                 0.2013      0.163      1.238      0.216      -0.117       0.520\n",
      "word_freq_000                  2.2452      0.471      4.762      0.000       1.321       3.169\n",
      "word_freq_money                0.4264      0.162      2.630      0.009       0.109       0.744\n",
      "word_freq_hp                  -1.9204      0.313     -6.139      0.000      -2.534      -1.307\n",
      "word_freq_hpl                 -1.0402      0.440     -2.366      0.018      -1.902      -0.179\n",
      "word_freq_george             -11.7672      2.113     -5.569      0.000     -15.909      -7.626\n",
      "word_freq_650                  0.4454      0.199      2.237      0.025       0.055       0.836\n",
      "word_freq_lab                 -2.4864      1.502     -1.656      0.098      -5.429       0.457\n",
      "word_freq_labs                -0.3299      0.314     -1.052      0.293      -0.945       0.285\n",
      "word_freq_telnet              -0.1702      0.482     -0.353      0.724      -1.114       0.774\n",
      "word_freq_857                  2.5488      3.283      0.776      0.438      -3.886       8.984\n",
      "word_freq_data                -0.7383      0.312     -2.369      0.018      -1.349      -0.127\n",
      "word_freq_415                  0.6679      1.601      0.417      0.676      -2.469       3.805\n",
      "word_freq_85                  -2.0554      0.788     -2.607      0.009      -3.601      -0.510\n",
      "word_freq_technology           0.9237      0.309      2.989      0.003       0.318       1.530\n",
      "word_freq_1999                 0.0465      0.175      0.265      0.791      -0.297       0.390\n",
      "word_freq_parts               -0.5968      0.423     -1.410      0.158      -1.426       0.233\n",
      "word_freq_pm                  -0.8650      0.383     -2.260      0.024      -1.615      -0.115\n",
      "word_freq_direct              -0.3046      0.364     -0.838      0.402      -1.017       0.408\n",
      "word_freq_cs                 -45.0480     26.600     -1.694      0.090     -97.182       7.086\n",
      "word_freq_meeting             -2.6887      0.838     -3.207      0.001      -4.332      -1.045\n",
      "word_freq_original            -1.2471      0.806     -1.547      0.122      -2.828       0.333\n",
      "word_freq_project             -1.5732      0.529     -2.973      0.003      -2.610      -0.536\n",
      "word_freq_re                  -0.7923      0.156     -5.091      0.000      -1.097      -0.487\n",
      "word_freq_edu                 -1.4592      0.269     -5.434      0.000      -1.986      -0.933\n",
      "word_freq_table               -2.3259      1.659     -1.402      0.161      -5.578       0.926\n",
      "word_freq_conference          -4.0156      1.611     -2.493      0.013      -7.173      -0.858\n",
      "char_freq_semicolon           -1.2911      0.442     -2.920      0.004      -2.158      -0.424\n",
      "char_freq_bracket             -0.1881      0.249     -0.754      0.451      -0.677       0.301\n",
      "char_freq_square_bracket      -0.6574      0.838     -0.784      0.433      -2.301       0.986\n",
      "char_freq_exclamation          0.3472      0.089      3.890      0.000       0.172       0.522\n",
      "char_freq_dollar               5.3360      0.706      7.553      0.000       3.951       6.721\n",
      "char_freq_hashtag              2.4032      1.113      2.159      0.031       0.221       4.585\n",
      "capital_run_length_average     0.0120      0.019      0.636      0.525      -0.025       0.049\n",
      "capital_run_length_longest     0.0091      0.003      3.618      0.000       0.004       0.014\n",
      "capital_run_length_total       0.0008      0.000      3.747      0.000       0.000       0.001\n",
      "==============================================================================================\n",
      "\n",
      "Possibly complete quasi-separation: A fraction 0.28 of observations can be\n",
      "perfectly predicted. This might indicate that there is complete\n",
      "quasi-separation. In this case some parameters will not be identified.\n"
     ]
    }
   ],
   "source": [
    "mylogit = sm.Logit.from_formula(formula, data=spam).fit()\n",
    "print(mylogit.summary())"
   ]
  },
  {
   "cell_type": "markdown",
   "id": "433aef44",
   "metadata": {},
   "source": [
    "# Significance test of models coeeficients - LR test\n",
    "\n",
    "H0: Beta1 = 0 & Beta2 = 0 & … & Beta57 = 0 (the general model can be simplified to restricted model based only on constant / all Betas are jointly insignificant)\n",
    "H1: The general model cannot be simplified to a restricted model. All Betas are jointly significant.\n",
    "\n",
    "Both models p-values are 0, so null hypothesis can be rejected. It means that for both models, the coefficients are jointly significant"
   ]
  },
  {
   "cell_type": "code",
   "execution_count": 73,
   "id": "3af6d927",
   "metadata": {},
   "outputs": [
    {
     "name": "stdout",
     "output_type": "stream",
     "text": [
      "Optimization terminated successfully.\n",
      "         Current function value: 0.670523\n",
      "         Iterations 4\n",
      "Probit likelihood ratio test p-value: 0.0\n"
     ]
    }
   ],
   "source": [
    "null_probit = sm.Probit(spam[\"spam\"], sm.add_constant(pd.Series([1] * len(spam)))).fit()\n",
    "probit_lrtest = stats.chi2.sf(2 * (myprobit.llf - null_probit.llf), 1)\n",
    "print(\"Probit likelihood ratio test p-value:\", probit_lrtest)"
   ]
  },
  {
   "cell_type": "code",
   "execution_count": 74,
   "id": "fb8447e9",
   "metadata": {},
   "outputs": [
    {
     "name": "stdout",
     "output_type": "stream",
     "text": [
      "Optimization terminated successfully.\n",
      "         Current function value: 0.670523\n",
      "         Iterations 4\n",
      "Logit likelihood ratio test p-value: 0.0\n"
     ]
    }
   ],
   "source": [
    "null_logit = sm.Logit(spam[\"spam\"], sm.add_constant(pd.Series([1] * len(spam)))).fit()\n",
    "logit_lrtest = stats.chi2.sf(2 * (mylogit.llf - null_logit.llf), 1)\n",
    "print(\"Logit likelihood ratio test p-value:\", logit_lrtest)"
   ]
  },
  {
   "cell_type": "markdown",
   "id": "68ab87c0",
   "metadata": {},
   "source": [
    "## Stepwise regression\n",
    "\n",
    "As not all variables are individually significant, we perform the stepwise regression, which removes variables below the 5% significance threshold"
   ]
  },
  {
   "cell_type": "code",
   "execution_count": 75,
   "id": "f50e6e0b",
   "metadata": {},
   "outputs": [
    {
     "name": "stdout",
     "output_type": "stream",
     "text": [
      "word_freq_1999\n",
      "Optimization terminated successfully.\n",
      "         Current function value: 0.207573\n",
      "         Iterations 15\n",
      "2024.088917331387\n",
      "word_freq_people\n",
      "Optimization terminated successfully.\n",
      "         Current function value: 0.207579\n",
      "         Iterations 15\n",
      "2022.1381806395907\n",
      "word_freq_415\n",
      "Optimization terminated successfully.\n",
      "         Current function value: 0.207587\n",
      "         Iterations 15\n",
      "2020.2155613834486\n",
      "capital_run_length_average\n",
      "Optimization terminated successfully.\n",
      "         Current function value: 0.207597\n",
      "         Iterations 15\n",
      "2018.3090124810756\n",
      "word_freq_telnet\n",
      "Optimization terminated successfully.\n",
      "         Current function value: 0.207632\n",
      "         Iterations 15\n",
      "2016.6278326615745\n",
      "word_freq_receive\n",
      "Optimization terminated successfully.\n",
      "         Current function value: 0.207662\n",
      "         Iterations 15\n",
      "2014.9078328699995\n",
      "word_freq_direct\n",
      "Optimization terminated successfully.\n",
      "         Current function value: 0.207723\n",
      "         Iterations 15\n",
      "2013.4677960927206\n",
      "word_freq_857\n",
      "Optimization terminated successfully.\n",
      "         Current function value: 0.207781\n",
      "         Iterations 15\n",
      "2011.9973433071923\n",
      "char_freq_bracket\n",
      "Optimization terminated successfully.\n",
      "         Current function value: 0.207870\n",
      "         Iterations 15\n",
      "2010.8215432666034\n",
      "char_freq_square_bracket\n",
      "Optimization terminated successfully.\n",
      "         Current function value: 0.208013\n",
      "         Iterations 15\n",
      "2010.1315739685158\n",
      "word_freq_parts\n",
      "Optimization terminated successfully.\n",
      "         Current function value: 0.208293\n",
      "         Iterations 15\n",
      "2010.7134011600897\n",
      "word_freq_labs\n",
      "Optimization terminated successfully.\n",
      "         Current function value: 0.208496\n",
      "         Iterations 15\n",
      "2010.5829619277797\n",
      "word_freq_report\n",
      "Optimization terminated successfully.\n",
      "         Current function value: 0.208711\n",
      "         Iterations 15\n",
      "2010.5603090443033\n",
      "word_freq_table\n",
      "Optimization terminated successfully.\n",
      "         Current function value: 0.209245\n",
      "         Iterations 15\n",
      "2013.470853221295\n",
      "word_freq_email\n",
      "Optimization terminated successfully.\n",
      "         Current function value: 0.209514\n",
      "         Iterations 15\n",
      "2013.9508016037705\n",
      "word_freq_original\n",
      "Optimization terminated successfully.\n",
      "         Current function value: 0.209999\n",
      "         Iterations 15\n",
      "2016.412114345779\n",
      "word_freq_3d\n",
      "Optimization terminated successfully.\n",
      "         Current function value: 0.211320\n",
      "         Iterations 15\n",
      "2026.567296884151\n",
      "word_freq_font\n",
      "Optimization terminated successfully.\n",
      "         Current function value: 0.211849\n",
      "         Iterations 15\n",
      "2029.4377589667429\n",
      "word_freq_all\n",
      "Optimization terminated successfully.\n",
      "         Current function value: 0.212171\n",
      "         Iterations 15\n",
      "2030.398643225174\n",
      "word_freq_mail\n",
      "Optimization terminated successfully.\n",
      "         Current function value: 0.212520\n",
      "         Iterations 15\n",
      "2031.6074027190002\n",
      "word_freq_cs\n",
      "Optimization terminated successfully.\n",
      "         Current function value: 0.215982\n",
      "         Iterations 13\n",
      "2061.4663901491\n",
      "word_freq_lab\n",
      "Optimization terminated successfully.\n",
      "         Current function value: 0.217255\n",
      "         Iterations 13\n",
      "2071.1786079184076\n",
      "word_freq_make\n",
      "Optimization terminated successfully.\n",
      "         Current function value: 0.217638\n",
      "         Iterations 13\n",
      "2072.7084984515222\n"
     ]
    }
   ],
   "source": [
    "p_probit = myprobit.pvalues\n",
    "spam_temp_probit = spam.copy()\n",
    "\n",
    "while any(p_probit > 0.05):\n",
    "    worstp = p_probit.idxmax()\n",
    "    \n",
    "    print(worstp)\n",
    "    spam_temp_probit.drop(columns=worstp, inplace=True)\n",
    "    \n",
    "    formula = \"spam ~\"\n",
    "    \n",
    "    for column in spam_temp_probit.columns[:-1]:\n",
    "        formula += f\" + {column}\"\n",
    "    \n",
    "    myprobit = sm.Probit.from_formula(formula, data=spam_temp_probit).fit()\n",
    "    p_probit = myprobit.pvalues\n",
    "    print(myprobit.aic)"
   ]
  },
  {
   "cell_type": "code",
   "execution_count": 76,
   "id": "09ce8b5c",
   "metadata": {},
   "outputs": [
    {
     "name": "stdout",
     "output_type": "stream",
     "text": [
      "word_freq_1999\n",
      "Optimization terminated successfully.\n",
      "         Current function value: 0.197330\n",
      "         Iterations 15\n",
      "1929.8351001472463\n",
      "word_freq_telnet\n",
      "Optimization terminated successfully.\n",
      "         Current function value: 0.197358\n",
      "         Iterations 15\n",
      "1928.0866448894978\n",
      "word_freq_people\n",
      "Optimization terminated successfully.\n",
      "         Current function value: 0.197372\n",
      "         Iterations 15\n",
      "1926.2137629946117\n",
      "word_freq_415\n",
      "Optimization terminated successfully.\n",
      "         Current function value: 0.197392\n",
      "         Iterations 15\n",
      "1924.4056155735882\n",
      "capital_run_length_average\n",
      "Optimization terminated successfully.\n",
      "         Current function value: 0.197440\n",
      "         Iterations 15\n",
      "1922.846172866969\n",
      "char_freq_bracket\n",
      "Optimization terminated successfully.\n",
      "         Current function value: 0.197500\n",
      "         Iterations 15\n",
      "1921.3991742674934\n",
      "word_freq_857\n",
      "Optimization terminated successfully.\n",
      "         Current function value: 0.197573\n",
      "         Iterations 15\n",
      "1920.0647903082443\n",
      "char_freq_square_bracket\n",
      "Optimization terminated successfully.\n",
      "         Current function value: 0.197678\n",
      "         Iterations 15\n",
      "1919.0337948154875\n",
      "word_freq_direct\n",
      "Optimization terminated successfully.\n",
      "         Current function value: 0.197763\n",
      "         Iterations 15\n",
      "1917.8151918506705\n",
      "word_freq_receive\n",
      "Optimization terminated successfully.\n",
      "         Current function value: 0.197849\n",
      "         Iterations 15\n",
      "1916.6081205165324\n",
      "word_freq_email\n",
      "Optimization terminated successfully.\n",
      "         Current function value: 0.197952\n",
      "         Iterations 15\n",
      "1915.5504717918839\n",
      "word_freq_report\n",
      "Optimization terminated successfully.\n",
      "         Current function value: 0.198051\n",
      "         Iterations 15\n",
      "1914.4675229356426\n",
      "word_freq_labs\n",
      "Optimization terminated successfully.\n",
      "         Current function value: 0.198186\n",
      "         Iterations 15\n",
      "1913.7108461065413\n",
      "word_freq_all\n",
      "Optimization terminated successfully.\n",
      "         Current function value: 0.198313\n",
      "         Iterations 15\n",
      "1912.8758937291022\n",
      "word_freq_table\n",
      "Optimization terminated successfully.\n",
      "         Current function value: 0.198761\n",
      "         Iterations 15\n",
      "1914.9965439222237\n",
      "word_freq_font\n",
      "Optimization terminated successfully.\n",
      "         Current function value: 0.199029\n",
      "         Iterations 15\n",
      "1915.4664193981243\n",
      "word_freq_parts\n",
      "Optimization terminated successfully.\n",
      "         Current function value: 0.199435\n",
      "         Iterations 15\n",
      "1917.1989978378258\n",
      "word_freq_3d\n",
      "Optimization terminated successfully.\n",
      "         Current function value: 0.200416\n",
      "         Iterations 15\n",
      "1924.2281989342282\n",
      "word_freq_original\n",
      "Optimization terminated successfully.\n",
      "         Current function value: 0.200923\n",
      "         Iterations 15\n",
      "1926.890731198925\n",
      "word_freq_lab\n",
      "Optimization terminated successfully.\n",
      "         Current function value: 0.201978\n",
      "         Iterations 15\n",
      "1934.5974196686414\n",
      "word_freq_mail\n",
      "Optimization terminated successfully.\n",
      "         Current function value: 0.202278\n",
      "         Iterations 15\n",
      "1935.3616724448575\n",
      "word_freq_cs\n",
      "Optimization terminated successfully.\n",
      "         Current function value: 0.205096\n",
      "         Iterations 13\n",
      "1959.2969039457766\n",
      "word_freq_will\n",
      "Optimization terminated successfully.\n",
      "         Current function value: 0.205470\n",
      "         Iterations 13\n",
      "1960.7358706869513\n",
      "word_freq_addresses\n",
      "Optimization terminated successfully.\n",
      "         Current function value: 0.205945\n",
      "         Iterations 13\n",
      "1963.1088921606406\n"
     ]
    }
   ],
   "source": [
    "p_logit = mylogit.pvalues\n",
    "spam_temp_logit = spam.copy()\n",
    "\n",
    "while any(p_logit > 0.05):\n",
    "    worstp = p_logit.idxmax()\n",
    "    \n",
    "    print(worstp)\n",
    "    spam_temp_logit.drop(columns=worstp, inplace=True)\n",
    "    \n",
    "    formula = \"spam ~\"\n",
    "    \n",
    "    for column in spam_temp_logit.columns[:-1]:\n",
    "        formula += f\" + {column}\"\n",
    "    \n",
    "    mylogit = sm.Logit.from_formula(formula, data=spam_temp_logit).fit()\n",
    "    p_logit = mylogit.pvalues\n",
    "    print(mylogit.aic)"
   ]
  },
  {
   "cell_type": "markdown",
   "id": "415ba833",
   "metadata": {},
   "source": [
    "## Link test - it verifies the model specification\n",
    "\n",
    "If yhat is significant and yhat2 is not signifficant: model has a good specification\n",
    "\n",
    "If yhat is / is not significant and yhat2 is signifficant: model does not have a good specification"
   ]
  },
  {
   "cell_type": "markdown",
   "id": "b316024b",
   "metadata": {},
   "source": [
    "The defined functions were recreated from R codes that can be found in the \"Initial Research\" folder on GitHub. The functions were written by dr Rafal Wozniak, Faculty of Economic Sciences, University of Warsaw"
   ]
  },
  {
   "cell_type": "code",
   "execution_count": 77,
   "id": "5a7e8229",
   "metadata": {},
   "outputs": [],
   "source": [
    "def linktest_probit(model):\n",
    "    \"\"\"\n",
    "    Function to perform linktest on a logistic regression model.\n",
    "    \n",
    "    Args:\n",
    "    - model: logistic regression model object\n",
    "    \n",
    "    Returns:\n",
    "    - aux_reg: auxiliary regression model object\n",
    "    \"\"\"\n",
    "    \n",
    "    # Prepare the data\n",
    "    y = model.model.endog\n",
    "    pred = model.predict()\n",
    "    pred = np.clip(pred, 1e-12, 1 - 1e-12)\n",
    "    yhat = np.log(pred/(1-pred))\n",
    "    yhat2 = yhat**2\n",
    "\n",
    "    # Add constant column to predictor variables\n",
    "    X = np.column_stack((np.ones_like(y), yhat, yhat2))\n",
    "\n",
    "    # Remove rows with missing or infinite values\n",
    "    valid_idx = np.isfinite(X).all(axis=1)\n",
    "    X = X[valid_idx]\n",
    "    y = y[valid_idx]\n",
    "\n",
    "    # Fit the binomial regression model\n",
    "    model = sm.GLM(y, X, family=sm.families.Binomial(link=sm.genmod.families.links.probit()))\n",
    "    result = model.fit()\n",
    "    \n",
    "    return result"
   ]
  },
  {
   "cell_type": "code",
   "execution_count": 78,
   "id": "0e1be571",
   "metadata": {},
   "outputs": [],
   "source": [
    "def linktest_logit(model):\n",
    "    \"\"\"\n",
    "    Function to perform linktest on a logistic regression model.\n",
    "    \n",
    "    Args:\n",
    "    - model: logistic regression model object\n",
    "    \n",
    "    Returns:\n",
    "    - aux_reg: auxiliary regression model object\n",
    "    \"\"\"\n",
    "    \n",
    "    # Prepare the data\n",
    "    y = model.model.endog\n",
    "    pred = model.predict()\n",
    "    pred = np.clip(pred, 1e-12, 1 - 1e-12)\n",
    "    yhat = np.log(pred/(1-pred))\n",
    "    yhat2 = yhat**2\n",
    "\n",
    "    # Add constant column to predictor variables\n",
    "    X = np.column_stack((np.ones_like(y), yhat, yhat2))\n",
    "\n",
    "    # Remove rows with missing or infinite values\n",
    "    valid_idx = np.isfinite(X).all(axis=1)\n",
    "    X = X[valid_idx]\n",
    "    y = y[valid_idx]\n",
    "\n",
    "    # Fit the binomial regression model\n",
    "    model = sm.GLM(y, X, family=sm.families.Binomial(link=sm.genmod.families.links.logit()))\n",
    "    result = model.fit()\n",
    "    \n",
    "    return result"
   ]
  },
  {
   "cell_type": "code",
   "execution_count": 79,
   "id": "aad47d8c",
   "metadata": {},
   "outputs": [
    {
     "name": "stdout",
     "output_type": "stream",
     "text": [
      "                 Generalized Linear Model Regression Results                  \n",
      "==============================================================================\n",
      "Dep. Variable:                      y   No. Observations:                 4601\n",
      "Model:                            GLM   Df Residuals:                     4598\n",
      "Model Family:                Binomial   Df Model:                            2\n",
      "Link Function:                 probit   Scale:                          1.0000\n",
      "Method:                          IRLS   Log-Likelihood:                    nan\n",
      "Date:                Sun, 18 Jun 2023   Deviance:                       34907.\n",
      "Time:                        22:38:17   Pearson chi2:                 1.71e+18\n",
      "No. Iterations:                   100   Pseudo R-squ. (CS):                nan\n",
      "Covariance Type:            nonrobust                                         \n",
      "==============================================================================\n",
      "                 coef    std err          z      P>|z|      [0.025      0.975]\n",
      "------------------------------------------------------------------------------\n",
      "const      -4.972e+12    1.4e+05  -3.54e+07      0.000   -4.97e+12   -4.97e+12\n",
      "x1          2.363e+13   1.21e+04   1.95e+09      0.000    2.36e+13    2.36e+13\n",
      "x2          2.199e+11    536.177    4.1e+08      0.000     2.2e+11     2.2e+11\n",
      "==============================================================================\n"
     ]
    },
    {
     "name": "stderr",
     "output_type": "stream",
     "text": [
      "c:\\Users\\justy\\AppData\\Local\\Programs\\Python\\Python39\\lib\\site-packages\\statsmodels\\genmod\\families\\family.py:1014: RuntimeWarning: divide by zero encountered in log\n",
      "  special.gammaln(n - y + 1) + y * np.log(mu / (1 - mu + 1e-20)) +\n",
      "c:\\Users\\justy\\AppData\\Local\\Programs\\Python\\Python39\\lib\\site-packages\\statsmodels\\genmod\\families\\family.py:1014: RuntimeWarning: invalid value encountered in multiply\n",
      "  special.gammaln(n - y + 1) + y * np.log(mu / (1 - mu + 1e-20)) +\n"
     ]
    }
   ],
   "source": [
    "# Linktest for probit model - after stepwise regression\n",
    "linktest_result_probit = linktest_probit(myprobit)\n",
    "print(linktest_result_probit.summary())"
   ]
  },
  {
   "cell_type": "code",
   "execution_count": 80,
   "id": "cdcefa2a",
   "metadata": {},
   "outputs": [
    {
     "name": "stdout",
     "output_type": "stream",
     "text": [
      "                 Generalized Linear Model Regression Results                  \n",
      "==============================================================================\n",
      "Dep. Variable:                      y   No. Observations:                 4601\n",
      "Model:                            GLM   Df Residuals:                     4598\n",
      "Model Family:                Binomial   Df Model:                            2\n",
      "Link Function:                  logit   Scale:                          1.0000\n",
      "Method:                          IRLS   Log-Likelihood:                -940.83\n",
      "Date:                Sun, 18 Jun 2023   Deviance:                       1881.7\n",
      "Time:                        22:38:17   Pearson chi2:                 7.32e+09\n",
      "No. Iterations:                    16   Pseudo R-squ. (CS):             0.6063\n",
      "Covariance Type:            nonrobust                                         \n",
      "==============================================================================\n",
      "                 coef    std err          z      P>|z|      [0.025      0.975]\n",
      "------------------------------------------------------------------------------\n",
      "const          0.0902      0.060      1.501      0.133      -0.028       0.208\n",
      "x1             1.0204      0.036     28.024      0.000       0.949       1.092\n",
      "x2            -0.0319      0.004     -8.966      0.000      -0.039      -0.025\n",
      "==============================================================================\n"
     ]
    }
   ],
   "source": [
    "# Linktest for logit model - after stepwise regression\n",
    "linktest_result_logit = linktest_logit(mylogit)\n",
    "print(linktest_result_logit.summary())"
   ]
  },
  {
   "cell_type": "markdown",
   "id": "42a2b95a",
   "metadata": {},
   "source": [
    "Based on the previousle mentioned criteria both model does not have good specification. The results are the same as in R.\n",
    "\n",
    "The next thing to consider is adding interaction terms to the models, so that it may help with the correct specification."
   ]
  },
  {
   "cell_type": "markdown",
   "id": "530c1348",
   "metadata": {},
   "source": [
    "### Interaction terms\n",
    "Adding interaction terms and deleting insignificant ones for probit."
   ]
  },
  {
   "cell_type": "code",
   "execution_count": 81,
   "id": "d94c22fb",
   "metadata": {},
   "outputs": [
    {
     "name": "stdout",
     "output_type": "stream",
     "text": [
      "Intercept                                                                       2.345811e-40\n",
      "word_freq_make                                                                  3.224714e-03\n",
      "word_freq_address                                                               4.307141e-02\n",
      "word_freq_make:word_freq_address                                                8.881067e-01\n",
      "word_freq_our                                                                   2.474520e-06\n",
      "                                                                                    ...     \n",
      "char_freq_semicolon:char_freq_dollar:char_freq_hashtag                          5.911354e-01\n",
      "char_freq_exclamation:char_freq_dollar:char_freq_hashtag                        8.673990e-01\n",
      "char_freq_semicolon:char_freq_exclamation:char_freq_dollar:char_freq_hashtag    4.725009e-01\n",
      "capital_run_length_longest                                                      1.011262e-11\n",
      "capital_run_length_total                                                        2.849669e-03\n",
      "Length: 61, dtype: float64\n"
     ]
    }
   ],
   "source": [
    "formula_interactions = \"spam ~ word_freq_make * word_freq_address * word_freq_our + word_freq_over + word_freq_remove + word_freq_internet * word_freq_order * word_freq_free * word_freq_business + word_freq_you + word_freq_credit * word_freq_your + word_freq_000 + word_freq_money + word_freq_hp + word_freq_hpl + word_freq_george + word_freq_650 + word_freq_data + word_freq_85 + word_freq_technology + word_freq_pm + word_freq_meeting + word_freq_project + word_freq_re + word_freq_edu + word_freq_conference + char_freq_semicolon * char_freq_exclamation * char_freq_dollar * char_freq_hashtag + capital_run_length_longest + capital_run_length_total\"\n",
    "\n",
    "mylogit = sm.formula.glm(formula_interactions, data=spam, family=sm.families.Binomial(sm.genmod.families.links.logit())).fit()\n",
    "\n",
    "p = mylogit.pvalues\n",
    "print(p)"
   ]
  },
  {
   "cell_type": "code",
   "execution_count": 82,
   "id": "a25a7e66",
   "metadata": {},
   "outputs": [
    {
     "name": "stdout",
     "output_type": "stream",
     "text": [
      "word_freq_make:word_freq_address\n",
      "word_freq_make:word_freq_address\n",
      "1920.299552620765\n",
      "word_freq_free:word_freq_business\n",
      "1918.3214384510645\n",
      "char_freq_exclamation:char_freq_dollar:char_freq_hashtag\n",
      "1916.348191039537\n",
      "char_freq_dollar:char_freq_hashtag\n",
      "1914.4148815341832\n",
      "word_freq_internet:word_freq_order\n",
      "1912.4856492302165\n",
      "char_freq_semicolon:char_freq_dollar\n",
      "1910.5750425935366\n",
      "char_freq_semicolon\n",
      "1908.6438618622913\n",
      "word_freq_internet:word_freq_order:word_freq_free\n",
      "1907.0447361830134\n",
      "word_freq_order:word_freq_free:word_freq_business\n",
      "1905.190842218639\n",
      "char_freq_semicolon:char_freq_exclamation:char_freq_hashtag\n",
      "1903.310937284863\n",
      "word_freq_internet:word_freq_order:word_freq_free:word_freq_business\n",
      "1902.5509796521967\n",
      "char_freq_semicolon:char_freq_dollar:char_freq_hashtag\n",
      "1904.0768697569106\n",
      "word_freq_internet:word_freq_free:word_freq_business\n",
      "1902.9043406399896\n",
      "word_freq_make:word_freq_address:word_freq_our\n",
      "1901.8527243664184\n",
      "word_freq_internet:word_freq_order:word_freq_business\n",
      "1902.6999170599224\n",
      "word_freq_internet:word_freq_business\n",
      "1900.9356701267802\n",
      "char_freq_semicolon:char_freq_exclamation:char_freq_dollar\n",
      "1901.7231435100807\n",
      "char_freq_semicolon:char_freq_exclamation:char_freq_dollar:char_freq_hashtag\n",
      "1899.7247495339152\n",
      "char_freq_exclamation:char_freq_hashtag\n",
      "1903.578313488078\n",
      "word_freq_make:word_freq_our\n",
      "1904.9415055038694\n",
      "word_freq_internet:word_freq_free\n",
      "1907.0817098338614\n"
     ]
    }
   ],
   "source": [
    "i = 1\n",
    "while any(p > 0.05):\n",
    "    worstp = p.idxmax()\n",
    "    print(worstp)\n",
    "\n",
    "    if i == 1:\n",
    "        # Remove the outcome variable from the formula\n",
    "        formula_interactions = formula_interactions.replace(\"spam ~ \", \"\")\n",
    "\n",
    "        # Create the design matrix with interaction terms\n",
    "        X = patsy.dmatrix(formula_interactions, data=spam)\n",
    "\n",
    "        # Convert the design matrix to a DataFrame\n",
    "        X = pd.DataFrame(X, columns=X.design_info.column_names)\n",
    "        i=2\n",
    "    else:\n",
    "        X = X.drop(worstp, axis=1)\n",
    "        X_names = ['Intercept'] + list(X.columns)[1:]\n",
    "        X.columns = X_names\n",
    "\n",
    "        mylogit = sm.GLM(spam['spam'], X, family=sm.families.Binomial(sm.families.links.logit())).fit()\n",
    "\n",
    "        p = mylogit.pvalues\n",
    "        print(mylogit.aic)"
   ]
  },
  {
   "cell_type": "code",
   "execution_count": 83,
   "id": "c174e69b",
   "metadata": {},
   "outputs": [
    {
     "name": "stdout",
     "output_type": "stream",
     "text": [
      "                 Generalized Linear Model Regression Results                  \n",
      "==============================================================================\n",
      "Dep. Variable:                   spam   No. Observations:                 4601\n",
      "Model:                            GLM   Df Residuals:                     4561\n",
      "Model Family:                Binomial   Df Model:                           39\n",
      "Link Function:                  logit   Scale:                          1.0000\n",
      "Method:                          IRLS   Log-Likelihood:                -913.54\n",
      "Date:                Sun, 18 Jun 2023   Deviance:                       1827.1\n",
      "Time:                        22:38:29   Pearson chi2:                 3.35e+06\n",
      "No. Iterations:                    12   Pseudo R-squ. (CS):             0.6109\n",
      "Covariance Type:            nonrobust                                         \n",
      "=============================================================================================================\n",
      "                                                coef    std err          z      P>|z|      [0.025      0.975]\n",
      "-------------------------------------------------------------------------------------------------------------\n",
      "Intercept                                    -1.6595      0.121    -13.711      0.000      -1.897      -1.422\n",
      "word_freq_make                               -0.5586      0.222     -2.516      0.012      -0.994      -0.124\n",
      "word_freq_address                            -0.1505      0.075     -2.009      0.045      -0.297      -0.004\n",
      "word_freq_our                                 0.5501      0.103      5.347      0.000       0.348       0.752\n",
      "word_freq_address:word_freq_our               1.1544      0.462      2.497      0.013       0.248       2.060\n",
      "word_freq_over                                0.7901      0.248      3.189      0.001       0.305       1.276\n",
      "word_freq_remove                              2.4200      0.338      7.163      0.000       1.758       3.082\n",
      "word_freq_internet                            0.5753      0.158      3.645      0.000       0.266       0.885\n",
      "word_freq_order                               1.3900      0.318      4.378      0.000       0.768       2.012\n",
      "word_freq_free                                1.0134      0.143      7.073      0.000       0.733       1.294\n",
      "word_freq_order:word_freq_free               -1.3862      0.690     -2.008      0.045      -2.739      -0.033\n",
      "word_freq_business                            1.1386      0.231      4.927      0.000       0.686       1.592\n",
      "word_freq_order:word_freq_business           -0.8560      0.173     -4.937      0.000      -1.196      -0.516\n",
      "word_freq_you                                 0.0876      0.034      2.552      0.011       0.020       0.155\n",
      "word_freq_credit                              1.8744      0.643      2.914      0.004       0.614       3.135\n",
      "word_freq_your                                0.2142      0.048      4.422      0.000       0.119       0.309\n",
      "word_freq_credit:word_freq_your              -0.4809      0.230     -2.093      0.036      -0.931      -0.031\n",
      "word_freq_000                                 2.2078      0.445      4.962      0.000       1.336       3.080\n",
      "word_freq_money                               0.5605      0.191      2.938      0.003       0.187       0.934\n",
      "word_freq_hp                                 -2.1414      0.288     -7.444      0.000      -2.705      -1.578\n",
      "word_freq_hpl                                -1.4390      0.469     -3.067      0.002      -2.359      -0.520\n",
      "word_freq_george                            -12.7754      1.777     -7.189      0.000     -16.259      -9.292\n",
      "word_freq_650                                 0.5676      0.253      2.239      0.025       0.071       1.064\n",
      "word_freq_data                               -0.8550      0.317     -2.698      0.007      -1.476      -0.234\n",
      "word_freq_85                                 -2.5413      1.074     -2.365      0.018      -4.647      -0.435\n",
      "word_freq_technology                          0.9503      0.321      2.962      0.003       0.322       1.579\n",
      "word_freq_pm                                 -1.2787      0.423     -3.024      0.002      -2.108      -0.450\n",
      "word_freq_meeting                            -3.1280      0.894     -3.499      0.000      -4.880      -1.376\n",
      "word_freq_project                            -2.0414      0.576     -3.544      0.000      -3.170      -0.912\n",
      "word_freq_re                                 -0.7778      0.152     -5.115      0.000      -1.076      -0.480\n",
      "word_freq_edu                                -1.6534      0.285     -5.793      0.000      -2.213      -1.094\n",
      "word_freq_conference                         -4.5504      1.702     -2.674      0.008      -7.886      -1.215\n",
      "char_freq_exclamation                         0.2852      0.074      3.830      0.000       0.139       0.431\n",
      "char_freq_semicolon:char_freq_exclamation     3.7388      1.219      3.066      0.002       1.349       6.129\n",
      "char_freq_dollar                              3.0106      0.774      3.890      0.000       1.494       4.527\n",
      "char_freq_exclamation:char_freq_dollar       14.8007      3.707      3.993      0.000       7.535      22.066\n",
      "char_freq_hashtag                             3.5518      0.596      5.961      0.000       2.384       4.720\n",
      "char_freq_semicolon:char_freq_hashtag        -4.7141      1.991     -2.367      0.018      -8.617      -0.811\n",
      "capital_run_length_longest                    0.0124      0.002      7.078      0.000       0.009       0.016\n",
      "capital_run_length_total                      0.0005      0.000      3.136      0.002       0.000       0.001\n",
      "=============================================================================================================\n"
     ]
    }
   ],
   "source": [
    "print(mylogit.summary())"
   ]
  },
  {
   "cell_type": "markdown",
   "id": "1cf39f77",
   "metadata": {},
   "source": [
    "The used varaibles in the model are exactly the same as in R"
   ]
  },
  {
   "cell_type": "code",
   "execution_count": 84,
   "id": "a890f6e5",
   "metadata": {},
   "outputs": [
    {
     "name": "stdout",
     "output_type": "stream",
     "text": [
      "Optimization terminated successfully.\n",
      "         Current function value: 0.670523\n",
      "         Iterations 4\n",
      "Logit likelihood ratio test p-value: 0.0\n",
      "LinkTest result                  Generalized Linear Model Regression Results                  \n",
      "==============================================================================\n",
      "Dep. Variable:                      y   No. Observations:                 4601\n",
      "Model:                            GLM   Df Residuals:                     4598\n",
      "Model Family:                Binomial   Df Model:                            2\n",
      "Link Function:                  logit   Scale:                          1.0000\n",
      "Method:                          IRLS   Log-Likelihood:                -913.31\n",
      "Date:                Sun, 18 Jun 2023   Deviance:                       1826.6\n",
      "Time:                        22:38:29   Pearson chi2:                 2.82e+07\n",
      "No. Iterations:                    11   Pseudo R-squ. (CS):             0.6109\n",
      "Covariance Type:            nonrobust                                         \n",
      "==============================================================================\n",
      "                 coef    std err          z      P>|z|      [0.025      0.975]\n",
      "------------------------------------------------------------------------------\n",
      "const          0.0254      0.071      0.360      0.719      -0.113       0.164\n",
      "x1             1.0005      0.037     27.086      0.000       0.928       1.073\n",
      "x2            -0.0096      0.014     -0.688      0.492      -0.037       0.018\n",
      "==============================================================================\n"
     ]
    }
   ],
   "source": [
    "null_logit = sm.Logit(spam[\"spam\"], sm.add_constant(pd.Series([1] * len(spam)))).fit()\n",
    "logit_lrtest = stats.chi2.sf(2 * (mylogit.llf - null_logit.llf), 1)\n",
    "print(\"Logit likelihood ratio test p-value:\", logit_lrtest)\n",
    "\n",
    "linktest_result_logit = linktest_logit(mylogit)\n",
    "print(\"LinkTest result\", linktest_result_logit.summary())"
   ]
  },
  {
   "cell_type": "markdown",
   "id": "558da44f",
   "metadata": {},
   "source": [
    "It seems that yhat is significant and yhat squared is not - this means that now updated model with interactions is correctly specified. The same results were obtained in the initial research."
   ]
  },
  {
   "cell_type": "markdown",
   "id": "dc2ecfb3",
   "metadata": {},
   "source": [
    "Now let us test the probit model with interactions"
   ]
  },
  {
   "cell_type": "code",
   "execution_count": 85,
   "id": "add39fca",
   "metadata": {},
   "outputs": [
    {
     "name": "stdout",
     "output_type": "stream",
     "text": [
      "Optimization terminated successfully.\n",
      "         Current function value: 0.268006\n",
      "         Iterations 13\n",
      "Intercept                                           1.060829e-58\n",
      "word_freq_free                                      2.013689e-27\n",
      "word_freq_order                                     3.707155e-05\n",
      "word_freq_receive                                   5.922157e-01\n",
      "char_freq_hashtag                                   4.317635e-02\n",
      "char_freq_exclamation                               6.030368e-08\n",
      "char_freq_hashtag:char_freq_exclamation             9.817137e-05\n",
      "word_freq_telnet                                    1.765068e-01\n",
      "word_freq_technology                                1.495378e-03\n",
      "word_freq_conference                                4.159086e-03\n",
      "word_freq_edu                                       1.100515e-15\n",
      "word_freq_conference:word_freq_edu                  5.262433e-01\n",
      "word_freq_hp                                        8.853227e-28\n",
      "word_freq_money                                     7.248825e-08\n",
      "word_freq_credit                                    4.063458e-06\n",
      "word_freq_000                                       1.663308e-16\n",
      "char_freq_dollar                                    4.524471e-28\n",
      "word_freq_your                                      1.075997e-10\n",
      "word_freq_email                                     7.861416e-04\n",
      "word_freq_your:word_freq_email                      8.424188e-02\n",
      "word_freq_address                                   1.838695e-02\n",
      "word_freq_your:word_freq_address                    6.701269e-03\n",
      "word_freq_email:word_freq_address                   1.632713e-03\n",
      "word_freq_your:word_freq_email:word_freq_address    1.340764e-04\n",
      "word_freq_people                                    1.774247e-01\n",
      "word_freq_mail                                      6.863608e-03\n",
      "word_freq_george                                    8.802906e-10\n",
      "word_freq_our                                       5.436798e-18\n",
      "word_freq_meeting                                   1.220579e-03\n",
      "word_freq_our:word_freq_meeting                     7.867079e-01\n",
      "dtype: float64\n"
     ]
    }
   ],
   "source": [
    "formula_interactions = \"spam ~ word_freq_free + word_freq_order + word_freq_receive + char_freq_hashtag * char_freq_exclamation + word_freq_telnet + word_freq_technology + word_freq_conference * word_freq_edu + word_freq_hp + word_freq_money + word_freq_credit + word_freq_000 + char_freq_dollar + word_freq_your * word_freq_email * word_freq_address + word_freq_people + word_freq_mail + word_freq_george + word_freq_our * word_freq_meeting\"\n",
    "\n",
    "myprobit = sm.Probit.from_formula(formula=formula_interactions, data=spam).fit()\n",
    "\n",
    "p = myprobit.pvalues\n",
    "print(p)"
   ]
  },
  {
   "cell_type": "code",
   "execution_count": 86,
   "id": "f2cf4f78",
   "metadata": {},
   "outputs": [
    {
     "name": "stdout",
     "output_type": "stream",
     "text": [
      "word_freq_our:word_freq_meeting\n",
      "word_freq_our:word_freq_meeting\n",
      "Optimization terminated successfully.\n",
      "         Current function value: 0.268018\n",
      "         Iterations 13\n",
      "2524.3003032611086\n",
      "word_freq_receive\n",
      "Optimization terminated successfully.\n",
      "         Current function value: 0.268049\n",
      "         Iterations 13\n",
      "2522.5914836613906\n",
      "word_freq_conference:word_freq_edu\n",
      "Optimization terminated successfully.\n",
      "         Current function value: 0.268100\n",
      "         Iterations 13\n",
      "2521.054837918212\n",
      "word_freq_telnet\n",
      "Optimization terminated successfully.\n",
      "         Current function value: 0.268471\n",
      "         Iterations 13\n",
      "2522.4738070364815\n",
      "word_freq_people\n",
      "Optimization terminated successfully.\n",
      "         Current function value: 0.268673\n",
      "         Iterations 13\n",
      "2522.325516194447\n",
      "word_freq_your:word_freq_email\n",
      "Optimization terminated successfully.\n",
      "         Current function value: 0.269005\n",
      "         Iterations 13\n",
      "2523.385000656226\n",
      "char_freq_hashtag\n",
      "Optimization terminated successfully.\n",
      "         Current function value: 0.269430\n",
      "         Iterations 13\n",
      "2525.290846978696\n"
     ]
    }
   ],
   "source": [
    "i = 1\n",
    "while any(p > 0.05):\n",
    "    worstp = p.idxmax()\n",
    "    print(worstp)\n",
    "\n",
    "    if i == 1:\n",
    "        # Remove the outcome variable from the formula\n",
    "        formula_interactions = formula_interactions.replace(\"spam ~ \", \"\")\n",
    "\n",
    "        # Create the design matrix with interaction terms\n",
    "        Z = patsy.dmatrix(formula_interactions, data=spam)\n",
    "\n",
    "        # Convert the design matrix to a DataFrame\n",
    "        Z = pd.DataFrame(Z, columns=Z.design_info.column_names)\n",
    "        i=2\n",
    "    else:\n",
    "        Z = Z.drop(worstp, axis=1)\n",
    "        Z_names = ['Intercept'] + list(Z.columns)[1:]\n",
    "        Z.columns = Z_names\n",
    "\n",
    "        myprobit = sm.Probit(spam['spam'], Z).fit()\n",
    "\n",
    "        p = myprobit.pvalues\n",
    "        print(myprobit.aic)"
   ]
  },
  {
   "cell_type": "code",
   "execution_count": 87,
   "id": "3f2b79fc",
   "metadata": {},
   "outputs": [
    {
     "name": "stdout",
     "output_type": "stream",
     "text": [
      "                          Probit Regression Results                           \n",
      "==============================================================================\n",
      "Dep. Variable:                   spam   No. Observations:                 4601\n",
      "Model:                         Probit   Df Residuals:                     4578\n",
      "Method:                           MLE   Df Model:                           22\n",
      "Date:                Sun, 18 Jun 2023   Pseudo R-squ.:                  0.5982\n",
      "Time:                        22:38:30   Log-Likelihood:                -1239.6\n",
      "converged:                       True   LL-Null:                       -3085.1\n",
      "Covariance Type:            nonrobust   LLR p-value:                     0.000\n",
      "====================================================================================================================\n",
      "                                                       coef    std err          z      P>|z|      [0.025      0.975]\n",
      "--------------------------------------------------------------------------------------------------------------------\n",
      "Intercept                                           -0.7396      0.046    -16.142      0.000      -0.829      -0.650\n",
      "word_freq_free                                       0.6067      0.056     10.793      0.000       0.497       0.717\n",
      "word_freq_order                                      0.4560      0.110      4.156      0.000       0.241       0.671\n",
      "char_freq_exclamation                                0.1254      0.024      5.322      0.000       0.079       0.172\n",
      "char_freq_hashtag:char_freq_exclamation             16.1087      3.000      5.370      0.000      10.230      21.988\n",
      "word_freq_technology                                 0.4520      0.141      3.216      0.001       0.177       0.727\n",
      "word_freq_conference                                -1.7576      0.554     -3.172      0.002      -2.844      -0.671\n",
      "word_freq_edu                                       -0.8706      0.108     -8.055      0.000      -1.082      -0.659\n",
      "word_freq_hp                                        -1.0880      0.096    -11.377      0.000      -1.275      -0.901\n",
      "word_freq_money                                      0.3329      0.062      5.400      0.000       0.212       0.454\n",
      "word_freq_credit                                     0.8436      0.185      4.568      0.000       0.482       1.206\n",
      "word_freq_000                                        1.6985      0.203      8.374      0.000       1.301       2.096\n",
      "char_freq_dollar                                     2.9527      0.265     11.151      0.000       2.434       3.472\n",
      "word_freq_your                                       0.1546      0.023      6.856      0.000       0.110       0.199\n",
      "word_freq_email                                      0.1901      0.064      2.963      0.003       0.064       0.316\n",
      "word_freq_address                                   -0.1223      0.051     -2.414      0.016      -0.222      -0.023\n",
      "word_freq_your:word_freq_address                     0.1643      0.064      2.579      0.010       0.039       0.289\n",
      "word_freq_email:word_freq_address                    0.6467      0.196      3.293      0.001       0.262       1.032\n",
      "word_freq_your:word_freq_email:word_freq_address    -0.1923      0.044     -4.365      0.000      -0.279      -0.106\n",
      "word_freq_mail                                       0.0972      0.036      2.729      0.006       0.027       0.167\n",
      "word_freq_george                                    -3.1495      0.503     -6.261      0.000      -4.135      -2.164\n",
      "word_freq_our                                        0.3666      0.042      8.758      0.000       0.285       0.449\n",
      "word_freq_meeting                                   -1.4910      0.360     -4.137      0.000      -2.197      -0.785\n",
      "====================================================================================================================\n",
      "\n",
      "Possibly complete quasi-separation: A fraction 0.24 of observations can be\n",
      "perfectly predicted. This might indicate that there is complete\n",
      "quasi-separation. In this case some parameters will not be identified.\n"
     ]
    }
   ],
   "source": [
    "print(myprobit.summary())"
   ]
  },
  {
   "cell_type": "code",
   "execution_count": 88,
   "id": "0acdff3a",
   "metadata": {},
   "outputs": [
    {
     "name": "stdout",
     "output_type": "stream",
     "text": [
      "Optimization terminated successfully.\n",
      "         Current function value: 0.670523\n",
      "         Iterations 4\n",
      "Probitlikelihood ratio test p-value: 0.0\n",
      "LinkTest result                  Generalized Linear Model Regression Results                  \n",
      "==============================================================================\n",
      "Dep. Variable:                      y   No. Observations:                 4601\n",
      "Model:                            GLM   Df Residuals:                     4598\n",
      "Model Family:                Binomial   Df Model:                            2\n",
      "Link Function:                 probit   Scale:                          1.0000\n",
      "Method:                          IRLS   Log-Likelihood:                    nan\n",
      "Date:                Sun, 18 Jun 2023   Deviance:                       57288.\n",
      "Time:                        22:38:30   Pearson chi2:                 2.80e+18\n",
      "No. Iterations:                    30   Pseudo R-squ. (CS):                nan\n",
      "Covariance Type:            nonrobust                                         \n",
      "==============================================================================\n",
      "                 coef    std err          z      P>|z|      [0.025      0.975]\n",
      "------------------------------------------------------------------------------\n",
      "const       -2.89e+13   1.35e+05  -2.14e+08      0.000   -2.89e+13   -2.89e+13\n",
      "x1          4.013e+13   1.49e+04    2.7e+09      0.000    4.01e+13    4.01e+13\n",
      "x2          7.618e+11    642.395   1.19e+09      0.000    7.62e+11    7.62e+11\n",
      "==============================================================================\n"
     ]
    },
    {
     "name": "stderr",
     "output_type": "stream",
     "text": [
      "c:\\Users\\justy\\AppData\\Local\\Programs\\Python\\Python39\\lib\\site-packages\\statsmodels\\genmod\\families\\family.py:1014: RuntimeWarning: divide by zero encountered in log\n",
      "  special.gammaln(n - y + 1) + y * np.log(mu / (1 - mu + 1e-20)) +\n",
      "c:\\Users\\justy\\AppData\\Local\\Programs\\Python\\Python39\\lib\\site-packages\\statsmodels\\genmod\\families\\family.py:1014: RuntimeWarning: invalid value encountered in multiply\n",
      "  special.gammaln(n - y + 1) + y * np.log(mu / (1 - mu + 1e-20)) +\n"
     ]
    }
   ],
   "source": [
    "null_probit = sm.Probit(spam[\"spam\"], sm.add_constant(pd.Series([1] * len(spam)))).fit()\n",
    "logit_lrtest = stats.chi2.sf(2 * (myprobit.llf - null_probit.llf), 1)\n",
    "print(\"Probitlikelihood ratio test p-value:\", probit_lrtest)\n",
    "\n",
    "linktest_result_probit = linktest_probit(myprobit)\n",
    "print(\"LinkTest result\", linktest_result_probit.summary())"
   ]
  },
  {
   "cell_type": "markdown",
   "id": "0d4f9ae4",
   "metadata": {},
   "source": [
    "Bot yhat and yhat squared are significant - the specification of the model is not correct"
   ]
  },
  {
   "cell_type": "markdown",
   "id": "e005aadc",
   "metadata": {},
   "source": [
    "## As in previous study the Link Test and LR test draw attention to the logit model with interactions that was well specified and significant\n",
    "### Now let us perform other tests for the model"
   ]
  },
  {
   "cell_type": "code",
   "execution_count": 89,
   "id": "e5548503",
   "metadata": {},
   "outputs": [
    {
     "name": "stdout",
     "output_type": "stream",
     "text": [
      "Goodness-of-Fit Test:\n",
      "Deviance:  1827.0817098338612\n"
     ]
    }
   ],
   "source": [
    "gof_results = mylogit.deviance\n",
    "print(\"Goodness-of-Fit Test:\")\n",
    "print(\"Deviance: \", gof_results)"
   ]
  },
  {
   "cell_type": "markdown",
   "id": "22edd22d",
   "metadata": {},
   "source": [
    "## Hosmer-Lemershow test - for specification\n",
    "## Source: https://stackoverflow.com/questions/40327399/hosmer-lemeshow-goodness-of-fit-test-in-python\n",
    "### Results are in line with our calculations performed originally in R"
   ]
  },
  {
   "cell_type": "code",
   "execution_count": 90,
   "id": "d80f9b56",
   "metadata": {},
   "outputs": [
    {
     "name": "stdout",
     "output_type": "stream",
     "text": [
      "HL test: 0.0\n"
     ]
    }
   ],
   "source": [
    "predictions = mylogit.predict()\n",
    "Y = mylogit.model.endog\n",
    "\n",
    "hl_df = pd.DataFrame({\n",
    "\n",
    "\"P_i\": predictions,\n",
    "\"Outcome\": Y\n",
    "\n",
    "})\n",
    "\n",
    "hl_df[\"decile\"] = pd.qcut(hl_df[\"P_i\"],10)\n",
    "obsevents_1 = hl_df[\"Outcome\"].groupby(hl_df.decile).sum()\n",
    "obsevents_0 = hl_df[\"Outcome\"].groupby(hl_df.decile).count() - obsevents_1\n",
    "expevents_1 = hl_df[\"P_i\"].groupby(hl_df.decile).sum()\n",
    "expevents_0 = hl_df[\"P_i\"].groupby(hl_df.decile).count() - expevents_1\n",
    "hl = (((obsevents_0 - expevents_0)**2)/(expevents_0)).sum() + (((obsevents_1 - expevents_1)**2)/(expevents_1)).sum()\n",
    "pvalue = 1 - chi2.cdf(hl , 10 - 2)\n",
    "\n",
    "print('HL test:', pvalue)"
   ]
  },
  {
   "cell_type": "markdown",
   "id": "3845d367",
   "metadata": {},
   "source": [
    "## Osius-Rojek Test - the only part of code that could not be reproduced as we were not able to find the function in Python nor write with help of the Internet\n",
    "\n",
    "### The code visible in the bottom were produced by chat gpt based on the description in R function:\n",
    "\n",
    "Osius and Rojek's tests\n",
    "These are based on a power-divergence statistic PD[l] (l=1 for Pearsons test) and the standard deviation (herein, of a binomial distribution) SD. The statistic is:\n",
    "\n",
    "Z[OR] = PD[l] - lbar / SD[l]\n",
    "\n",
    "\n",
    "For logistic regression, it is calculated as:\n",
    "\n",
    "Z[OR] = (chiSq - (n - p)) / (2 * n * SUM 1/n[i])^0.5\n",
    "\n",
    "where RSS is the residual sum-of-squares from a weighted linear regression:\n",
    "\n",
    "(1 - 2 * P[i]) / SD[i] ~ X, weights = SD[i]\n",
    "\n",
    "Here \\bold{X} is the matrix of model predictors.\n",
    "A two-tailed test against a standard normal distribution N ~ (0, 1) should not be significant.\n",
    "\n",
    "Source: Osius G & Rojek D, 1992. Normal goodness-of-fit tests for multinomial models with large degrees of freedom. Journal of the American Statistical Association. 87(420):1145-52. doi: 10.1080/01621459.1992.10476271. Also available at JSTOR at https://www.jstor.org/stable/2290653"
   ]
  },
  {
   "cell_type": "code",
   "execution_count": 91,
   "id": "6adf25a5",
   "metadata": {},
   "outputs": [
    {
     "name": "stdout",
     "output_type": "stream",
     "text": [
      "Test Statistic:  202.4603855218882\n",
      "P-value:  0.0\n"
     ]
    }
   ],
   "source": [
    "result = mylogit\n",
    "pred_probs = result.predict()\n",
    "\n",
    "epsilon = 1e-12\n",
    "pred_probs = np.clip(pred_probs, epsilon, 1-epsilon)\n",
    "\n",
    "# Calculate the residuals\n",
    "residuals = (1 - 2 * pred_probs) / np.sqrt(pred_probs * (1 - pred_probs))\n",
    "\n",
    "# Calculate the standard deviation of a binomial distribution (SD)\n",
    "sd = np.sqrt(np.mean(pred_probs * (1 - pred_probs)))\n",
    "\n",
    "# Calculate the residual sum of squares (RSS)\n",
    "rss = np.sum(residuals**2)\n",
    "\n",
    "# Calculate the chi-square value\n",
    "chi_sq = result.llf * -2\n",
    "\n",
    "# Calculate the test statistic Z[OR]\n",
    "n = len(result.model.endog)\n",
    "p = result.df_model\n",
    "test_statistic = (chi_sq - p) / np.sqrt(2 * p)\n",
    "\n",
    "## Value obatined from R - good one\n",
    "#test_statistic = 0.1730284\n",
    "\n",
    "# Calculate the p-value based on a two-tailed test against a standard normal distribution\n",
    "p_value = 1 - stats.norm.cdf(test_statistic)\n",
    "\n",
    "print(\"Test Statistic: \", test_statistic)\n",
    "print(\"P-value: \", p_value)"
   ]
  },
  {
   "cell_type": "markdown",
   "id": "3f3025fa",
   "metadata": {},
   "source": [
    "## McFadden pseudo R-squared"
   ]
  },
  {
   "cell_type": "markdown",
   "id": "6f5ff822",
   "metadata": {},
   "source": [
    "McFadden's Pseudo-R-squared measures how well our model fits the data by calculating the ratio of the log likelihood for the model and an intercept-only model. The result is presented by subtracting the result from 1."
   ]
  },
  {
   "cell_type": "code",
   "execution_count": 92,
   "id": "9e9ee9e9",
   "metadata": {},
   "outputs": [
    {
     "name": "stdout",
     "output_type": "stream",
     "text": [
      "Pseudo R-squared:  0.7038838814093342\n"
     ]
    }
   ],
   "source": [
    "# Pseudo R-squared\n",
    "pseudo_r2 = 1 - (mylogit.llf / mylogit.llnull)\n",
    "print(\"Pseudo R-squared: \", pseudo_r2)"
   ]
  },
  {
   "cell_type": "markdown",
   "id": "8028d887",
   "metadata": {},
   "source": [
    "We also calculated the count statistic, which was fully in line with the outcomes produced in R"
   ]
  },
  {
   "cell_type": "code",
   "execution_count": 94,
   "id": "493ef8b2",
   "metadata": {},
   "outputs": [
    {
     "name": "stdout",
     "output_type": "stream",
     "text": [
      "Count Pseudo R-squared:  0.9280591175831341\n"
     ]
    }
   ],
   "source": [
    "pred_probs = result.predict()\n",
    "y_observed = result.model.endog\n",
    "\n",
    "# Round predicted probabilities to 0 or 1 based on the cutoff of 0.50\n",
    "pred_classes = np.where(pred_probs > 0.50, 1, 0)\n",
    "\n",
    "# Calculate the number of correctly classified cases\n",
    "correctly_classified = np.sum(pred_classes == y_observed)\n",
    "\n",
    "# Calculate the total number of cases\n",
    "total_cases = len(y_observed)\n",
    "\n",
    "# Calculate the count pseudo R-squared\n",
    "count_r2 = correctly_classified / total_cases\n",
    "\n",
    "# Calculate the number of predictors in the model\n",
    "p = result.df_model\n",
    "\n",
    "# Print the pseudo R-squared statistics\n",
    "print(\"Count Pseudo R-squared: \", count_r2)"
   ]
  },
  {
   "cell_type": "markdown",
   "id": "06e20c2b",
   "metadata": {},
   "source": [
    "## Marginal effects\n",
    "Source: https://gist.github.com/BioSciEconomist/e5e6cd377ee8ccd565db967e76a58088"
   ]
  },
  {
   "cell_type": "code",
   "execution_count": 95,
   "id": "783fadb8",
   "metadata": {},
   "outputs": [
    {
     "data": {
      "text/plain": [
       "-0.0008757521280584903"
      ]
     },
     "execution_count": 95,
     "metadata": {},
     "output_type": "execute_result"
    }
   ],
   "source": [
    "# home grown marginal effects function for logit model with 2 variables\n",
    "\n",
    "def mfx(result,mu1,mu2,par):\n",
    "    \"\"\"\n",
    "    result: model object from stats models logistic regression\n",
    "    ex: y ~ b0 + b1*x1 + b2*x2\n",
    "    mu1: mean value for first variable in model\n",
    "    mu2: mean value for 2nd variable in model\n",
    "    par: indicates index from 0 for model parameter you want to convert to a \n",
    "         marginal effect\n",
    "    note: this easily extends to more variables but does not handle predictors\n",
    "          with multiple categories (unless they are dummy coded)\n",
    "    \"\"\"\n",
    "    b0 =  result.params[0]  \n",
    "    b1 =  result.params[1] \n",
    "    b2 =  result.params[2] \n",
    "    XB = mu1*b1 + mu2*b2 + b0 \n",
    "    return (np.exp(XB)/((1+np.exp(XB))**2))*result.params[par]\n",
    "\n",
    "\n",
    "mfx(result,.5,30,1) # home grown function gives almost\n",
    "                    # exact same result as get_margeff() above"
   ]
  },
  {
   "cell_type": "code",
   "execution_count": 96,
   "id": "7b501022",
   "metadata": {},
   "outputs": [],
   "source": [
    "def mfx(result, *means, par):\n",
    "    \"\"\"\n",
    "    result: model object from statsmodels logistic regression\n",
    "    means: mean values for each variable in the model (in the same order as the coefficients)\n",
    "    par: index of the model parameter you want to convert to a marginal effect\n",
    "    \"\"\"\n",
    "    b0 = result.params[0]\n",
    "    params = result.params[1:]  # Exclude the intercept\n",
    "    XB = b0 + np.dot(params, means)\n",
    "    exp_XB = np.exp(XB)\n",
    "    marginal_effect = (exp_XB / ((1 + exp_XB) ** 2)) * result.params[par]\n",
    "    return marginal_effect"
   ]
  },
  {
   "cell_type": "code",
   "execution_count": 97,
   "id": "0bd3da4d",
   "metadata": {},
   "outputs": [
    {
     "name": "stdout",
     "output_type": "stream",
     "text": [
      "Optimization terminated successfully.\n",
      "         Current function value: 0.210805\n",
      "         Iterations 14\n",
      "                           Logit Regression Results                           \n",
      "==============================================================================\n",
      "Dep. Variable:                   spam   No. Observations:                 4601\n",
      "Model:                          Logit   Df Residuals:                     4563\n",
      "Method:                           MLE   Df Model:                           37\n",
      "Date:                Sun, 18 Jun 2023   Pseudo R-squ.:                  0.6856\n",
      "Time:                        22:39:13   Log-Likelihood:                -969.92\n",
      "converged:                       True   LL-Null:                       -3085.1\n",
      "Covariance Type:            nonrobust   LLR p-value:                     0.000\n",
      "=============================================================================================================\n",
      "                                                coef    std err          z      P>|z|      [0.025      0.975]\n",
      "-------------------------------------------------------------------------------------------------------------\n",
      "Intercept                                    -1.2451      0.107    -11.688      0.000      -1.454      -1.036\n",
      "word_freq_make                               -0.4832      0.207     -2.332      0.020      -0.889      -0.077\n",
      "word_freq_address                            -0.1490      0.064     -2.328      0.020      -0.275      -0.024\n",
      "word_freq_our                                 0.5541      0.106      5.217      0.000       0.346       0.762\n",
      "word_freq_address_word_freq_our               0.9072      0.355      2.554      0.011       0.211       1.603\n",
      "word_freq_over                                0.7683      0.246      3.119      0.002       0.285       1.251\n",
      "word_freq_remove                              2.5287      0.347      7.294      0.000       1.849       3.208\n",
      "word_freq_internet                            0.5184      0.152      3.410      0.001       0.220       0.816\n",
      "word_freq_order                               1.6759      0.333      5.038      0.000       1.024       2.328\n",
      "word_freq_free                                1.1187      0.152      7.347      0.000       0.820       1.417\n",
      "word_freq_order_word_freq_free               -1.4575      0.807     -1.807      0.071      -3.039       0.124\n",
      "word_freq_business                            1.2109      0.236      5.120      0.000       0.747       1.674\n",
      "word_freq_order_word_freq_business           -0.9479      0.161     -5.886      0.000      -1.264      -0.632\n",
      "word_freq_you                                 0.0545      0.033      1.628      0.103      -0.011       0.120\n",
      "word_freq_credit                              2.6087      0.633      4.121      0.000       1.368       3.849\n",
      "word_freq_your                                0.2238      0.048      4.699      0.000       0.130       0.317\n",
      "word_freq_credit_word_freq_your              -0.5850      0.249     -2.345      0.019      -1.074      -0.096\n",
      "word_freq_000                                 2.4533      0.481      5.095      0.000       1.510       3.397\n",
      "word_freq_money                               0.6090      0.207      2.945      0.003       0.204       1.014\n",
      "word_freq_hp                                 -2.2200      0.279     -7.958      0.000      -2.767      -1.673\n",
      "word_freq_hpl                                -1.3290      0.462     -2.873      0.004      -2.235      -0.423\n",
      "word_freq_george                             -9.3934      2.108     -4.455      0.000     -13.526      -5.261\n",
      "word_freq_650                                 0.5403      0.246      2.197      0.028       0.058       1.022\n",
      "word_freq_data                               -0.5942      0.258     -2.304      0.021      -1.100      -0.089\n",
      "word_freq_85                                 -1.8168      0.952     -1.908      0.056      -3.683       0.049\n",
      "word_freq_technology                          0.9090      0.319      2.852      0.004       0.284       1.534\n",
      "word_freq_pm                                 -1.3025      0.393     -3.318      0.001      -2.072      -0.533\n",
      "word_freq_meeting                            -2.7385      0.788     -3.474      0.001      -4.283      -1.194\n",
      "word_freq_project                            -2.4918      0.579     -4.300      0.000      -3.628      -1.356\n",
      "word_freq_re                                 -0.8653      0.152     -5.711      0.000      -1.162      -0.568\n",
      "word_freq_edu                                -1.6046      0.271     -5.927      0.000      -2.135      -1.074\n",
      "word_freq_conference                         -2.1460      0.973     -2.206      0.027      -4.053      -0.239\n",
      "char_freq_exclamation                         0.2892      0.072      4.008      0.000       0.148       0.431\n",
      "char_freq_semicolon_char_freq_exclamation     3.7338      1.211      3.082      0.002       1.360       6.108\n",
      "char_freq_dollar                              3.4195      0.712      4.801      0.000       2.024       4.815\n",
      "char_freq_exclamation_char_freq_dollar       16.7776      4.071      4.122      0.000       8.799      24.756\n",
      "char_freq_hashtag                             3.7910      0.534      7.103      0.000       2.745       4.837\n",
      "char_freq_semicolon_char_freq_hashtag        -4.3781      1.981     -2.210      0.027      -8.261      -0.495\n",
      "=============================================================================================================\n",
      "\n",
      "Possibly complete quasi-separation: A fraction 0.25 of observations can be\n",
      "perfectly predicted. This might indicate that there is complete\n",
      "quasi-separation. In this case some parameters will not be identified.\n",
      "        Logit Marginal Effects       \n",
      "=====================================\n",
      "Dep. Variable:                   spam\n",
      "Method:                          dydx\n",
      "At:                           overall\n",
      "=============================================================================================================\n",
      "                                               dy/dx    std err          z      P>|z|      [0.025      0.975]\n",
      "-------------------------------------------------------------------------------------------------------------\n",
      "word_freq_make                               -0.0321      0.014     -2.342      0.019      -0.059      -0.005\n",
      "word_freq_address                            -0.0099      0.004     -2.330      0.020      -0.018      -0.002\n",
      "word_freq_our                                 0.0368      0.007      5.339      0.000       0.023       0.050\n",
      "word_freq_address_word_freq_our               0.0603      0.024      2.559      0.010       0.014       0.106\n",
      "word_freq_over                                0.0510      0.016      3.139      0.002       0.019       0.083\n",
      "word_freq_remove                              0.1680      0.022      7.557      0.000       0.124       0.212\n",
      "word_freq_internet                            0.0344      0.010      3.443      0.001       0.015       0.054\n",
      "word_freq_order                               0.1113      0.022      5.133      0.000       0.069       0.154\n",
      "word_freq_free                                0.0743      0.010      7.642      0.000       0.055       0.093\n",
      "word_freq_order_word_freq_free               -0.0968      0.053     -1.811      0.070      -0.202       0.008\n",
      "word_freq_business                            0.0804      0.015      5.214      0.000       0.050       0.111\n",
      "word_freq_order_word_freq_business           -0.0630      0.010     -6.033      0.000      -0.083      -0.043\n",
      "word_freq_you                                 0.0036      0.002      1.632      0.103      -0.001       0.008\n",
      "word_freq_credit                              0.1733      0.042      4.162      0.000       0.092       0.255\n",
      "word_freq_your                                0.0149      0.003      4.795      0.000       0.009       0.021\n",
      "word_freq_credit_word_freq_your              -0.0389      0.017     -2.353      0.019      -0.071      -0.006\n",
      "word_freq_000                                 0.1630      0.031      5.181      0.000       0.101       0.225\n",
      "word_freq_money                               0.0405      0.014      2.965      0.003       0.014       0.067\n",
      "word_freq_hp                                 -0.1475      0.018     -8.238      0.000      -0.183      -0.112\n",
      "word_freq_hpl                                -0.0883      0.031     -2.884      0.004      -0.148      -0.028\n",
      "word_freq_george                             -0.6240      0.139     -4.501      0.000      -0.896      -0.352\n",
      "word_freq_650                                 0.0359      0.016      2.203      0.028       0.004       0.068\n",
      "word_freq_data                               -0.0395      0.017     -2.308      0.021      -0.073      -0.006\n",
      "word_freq_85                                 -0.1207      0.063     -1.911      0.056      -0.244       0.003\n",
      "word_freq_technology                          0.0604      0.021      2.871      0.004       0.019       0.102\n",
      "word_freq_pm                                 -0.0865      0.026     -3.340      0.001      -0.137      -0.036\n",
      "word_freq_meeting                            -0.1819      0.052     -3.491      0.000      -0.284      -0.080\n",
      "word_freq_project                            -0.1655      0.038     -4.341      0.000      -0.240      -0.091\n",
      "word_freq_re                                 -0.0575      0.010     -5.821      0.000      -0.077      -0.038\n",
      "word_freq_edu                                -0.1066      0.018     -6.038      0.000      -0.141      -0.072\n",
      "word_freq_conference                         -0.1426      0.064     -2.211      0.027      -0.269      -0.016\n",
      "char_freq_exclamation                         0.0192      0.005      4.062      0.000       0.010       0.028\n",
      "char_freq_semicolon_char_freq_exclamation     0.2481      0.080      3.103      0.002       0.091       0.405\n",
      "char_freq_dollar                              0.2272      0.047      4.885      0.000       0.136       0.318\n",
      "char_freq_exclamation_char_freq_dollar        1.1146      0.268      4.154      0.000       0.589       1.640\n",
      "char_freq_hashtag                             0.2519      0.034      7.311      0.000       0.184       0.319\n",
      "char_freq_semicolon_char_freq_hashtag        -0.2909      0.131     -2.215      0.027      -0.548      -0.033\n",
      "=============================================================================================================\n"
     ]
    }
   ],
   "source": [
    "X['spam'] = spam['spam']\n",
    "last_column = X.columns[-1]  # Get the name of the last column\n",
    "columns = [last_column] + list(X.columns[:-1])  # Create a new list of column names with the last column at the front\n",
    "X = X[columns]  # Reorder the columns in the DataFrame\n",
    "\n",
    "# Replace the colon with a multiplication sign in the column name\n",
    "X.rename(columns={'char_freq_semicolon:char_freq_exclamation' : 'char_freq_semicolon_char_freq_exclamation'}, inplace=True)\n",
    "X.rename(columns={'char_freq_semicolon:char_freq_hashtag' : 'char_freq_semicolon_char_freq_hashtag'}, inplace=True)\n",
    "X.rename(columns={'word_freq_credit:word_freq_your' : 'word_freq_credit_word_freq_your'}, inplace=True)\n",
    "X.rename(columns={'word_freq_address:word_freq_our' : 'word_freq_address_word_freq_our'}, inplace=True)\n",
    "X.rename(columns={'word_freq_order:word_freq_free' : 'word_freq_order_word_freq_free'}, inplace=True)\n",
    "X.rename(columns={'word_freq_order:word_freq_business' : 'word_freq_order_word_freq_business'}, inplace=True)\n",
    "X.rename(columns={'char_freq_exclamation:char_freq_dollar' : 'char_freq_exclamation_char_freq_dollar'}, inplace=True)\n",
    "\n",
    "epsilon = 1e-8\n",
    "\n",
    "X = X.replace(0, epsilon)\n",
    "\n",
    "# Fit the logistic regression model\n",
    "model = smf.logit(formula='spam ~ word_freq_make+word_freq_address+word_freq_our+word_freq_address_word_freq_our+word_freq_over+word_freq_remove+word_freq_internet+word_freq_order+word_freq_free+word_freq_order_word_freq_free+word_freq_business+word_freq_order_word_freq_business+word_freq_you+word_freq_credit+word_freq_your+word_freq_credit_word_freq_your+word_freq_000+word_freq_money+word_freq_hp+word_freq_hpl+word_freq_george+word_freq_650+word_freq_data+word_freq_85+word_freq_technology+word_freq_pm+word_freq_meeting+word_freq_project+word_freq_re+word_freq_edu+word_freq_conference+char_freq_exclamation+char_freq_semicolon_char_freq_exclamation+char_freq_dollar+char_freq_exclamation_char_freq_dollar+char_freq_hashtag+char_freq_semicolon_char_freq_hashtag', data=X).fit()\n",
    "print(model.summary())\n",
    "\n",
    "# Get marginal effects\n",
    "margeff_overall = model.get_margeff(at='overall')\n",
    "print(margeff_overall.summary())"
   ]
  },
  {
   "cell_type": "markdown",
   "id": "1dfafa57",
   "metadata": {},
   "source": [
    "The marginal effects were a little different due to the fact that we have to exclude 2 variables that could not be used in Python function. However, the results were relatively simillar, with the same sing of coefficients and signifficance of p-values."
   ]
  },
  {
   "cell_type": "markdown",
   "id": "e6588d02",
   "metadata": {},
   "source": [
    "## In summary, we have demonstrated the replicability of our approach through the use of an alternative programming language - the discrepancies were minor and resulted from differences in the implementation of models between R and Python."
   ]
  },
  {
   "cell_type": "markdown",
   "id": "301b1335",
   "metadata": {},
   "source": [
    "# Spam Detection Project - new data & new keywords\n",
    "\n",
    "### Data preprocessing part"
   ]
  },
  {
   "cell_type": "markdown",
   "id": "18f984ae",
   "metadata": {},
   "source": [
    "* Data exploration - let us check how the columns look like and delete unnecessary ones and then move to preprocessing\n",
    "* We dont need the first column 'Unnamed: 0' as it is just an ID\n",
    "* The columns 'label' and 'label_num' depict the same thing, let us only leave 'label_num' that represent spam (1) and non-spam (0) label"
   ]
  },
  {
   "cell_type": "markdown",
   "id": "0299e62d",
   "metadata": {},
   "source": [
    "Import the dataset:"
   ]
  },
  {
   "cell_type": "code",
   "execution_count": 33,
   "id": "7a486ea0",
   "metadata": {},
   "outputs": [],
   "source": [
    "data = pd.read_csv(r\"\\spam.csv\", encoding = \"latin\")"
   ]
  },
  {
   "cell_type": "code",
   "execution_count": 34,
   "id": "68214b03",
   "metadata": {},
   "outputs": [],
   "source": [
    "data = data[[\"v1\", \"v2\"]]"
   ]
  },
  {
   "cell_type": "code",
   "execution_count": 35,
   "id": "5b5562a5",
   "metadata": {},
   "outputs": [
    {
     "data": {
      "text/plain": [
       "Index(['v1', 'v2'], dtype='object')"
      ]
     },
     "execution_count": 35,
     "metadata": {},
     "output_type": "execute_result"
    }
   ],
   "source": [
    "data.columns"
   ]
  },
  {
   "cell_type": "code",
   "execution_count": 36,
   "id": "57893f7e",
   "metadata": {},
   "outputs": [],
   "source": [
    "data.rename({\"v1\": \"spam\", \"v2\":\"text\"}, axis = 1, inplace = True)"
   ]
  },
  {
   "cell_type": "code",
   "execution_count": 37,
   "id": "0ef5f4ec",
   "metadata": {},
   "outputs": [
    {
     "data": {
      "text/html": [
       "<div>\n",
       "<style scoped>\n",
       "    .dataframe tbody tr th:only-of-type {\n",
       "        vertical-align: middle;\n",
       "    }\n",
       "\n",
       "    .dataframe tbody tr th {\n",
       "        vertical-align: top;\n",
       "    }\n",
       "\n",
       "    .dataframe thead th {\n",
       "        text-align: right;\n",
       "    }\n",
       "</style>\n",
       "<table border=\"1\" class=\"dataframe\">\n",
       "  <thead>\n",
       "    <tr style=\"text-align: right;\">\n",
       "      <th></th>\n",
       "      <th>spam</th>\n",
       "      <th>text</th>\n",
       "    </tr>\n",
       "  </thead>\n",
       "  <tbody>\n",
       "    <tr>\n",
       "      <th>count</th>\n",
       "      <td>5572</td>\n",
       "      <td>5572</td>\n",
       "    </tr>\n",
       "    <tr>\n",
       "      <th>unique</th>\n",
       "      <td>2</td>\n",
       "      <td>5169</td>\n",
       "    </tr>\n",
       "    <tr>\n",
       "      <th>top</th>\n",
       "      <td>ham</td>\n",
       "      <td>Sorry, I'll call later</td>\n",
       "    </tr>\n",
       "    <tr>\n",
       "      <th>freq</th>\n",
       "      <td>4825</td>\n",
       "      <td>30</td>\n",
       "    </tr>\n",
       "  </tbody>\n",
       "</table>\n",
       "</div>"
      ],
      "text/plain": [
       "        spam                    text\n",
       "count   5572                    5572\n",
       "unique     2                    5169\n",
       "top      ham  Sorry, I'll call later\n",
       "freq    4825                      30"
      ]
     },
     "execution_count": 37,
     "metadata": {},
     "output_type": "execute_result"
    }
   ],
   "source": [
    "data.describe()"
   ]
  },
  {
   "cell_type": "markdown",
   "id": "e78effa0",
   "metadata": {},
   "source": [
    "Data preprocessing - we only need to take care of the text column\n",
    "Convert text to lowercase - the iteration is required to go through each mail (it seems that the text was already in lower case but just to make sure let us do it again)"
   ]
  },
  {
   "cell_type": "code",
   "execution_count": 38,
   "id": "e80b8702",
   "metadata": {},
   "outputs": [
    {
     "data": {
      "text/plain": [
       "'go until jurong point, crazy.. available only in bugis n great world la e buffet... cine there got amore wat...'"
      ]
     },
     "execution_count": 38,
     "metadata": {},
     "output_type": "execute_result"
    }
   ],
   "source": [
    "data['text'][0]\n",
    "\n",
    "for i in range(0,len(data)):\n",
    "    data['text'][i] = data['text'][i].lower()\n",
    "\n",
    "## Check if it worked\n",
    "\n",
    "data['text'][0]"
   ]
  },
  {
   "cell_type": "markdown",
   "id": "196f89e2",
   "metadata": {},
   "source": [
    "## Word Frequency\n",
    "\n",
    "The previous analysis was based on word frequencies appearing in the text. In order to obtain the right word frequencies, we have to remove the stopwords as well as conduct lemmantization to obtain the root of the word and reduce the number of unique words. \n",
    "Next, we count the occurence of the top 50 most frequent words, special characters and numbers in each email.\n",
    "\n",
    "We generate the functions with the help of ChatGPT."
   ]
  },
  {
   "cell_type": "code",
   "execution_count": 39,
   "id": "0f7e8d85",
   "metadata": {},
   "outputs": [
    {
     "name": "stderr",
     "output_type": "stream",
     "text": [
      "[nltk_data] Downloading package wordnet to\n",
      "[nltk_data]     C:\\Users\\serei\\AppData\\Roaming\\nltk_data...\n",
      "[nltk_data]   Package wordnet is already up-to-date!\n",
      "[nltk_data] Downloading package stopwords to\n",
      "[nltk_data]     C:\\Users\\serei\\AppData\\Roaming\\nltk_data...\n",
      "[nltk_data]   Package stopwords is already up-to-date!\n"
     ]
    }
   ],
   "source": [
    "nltk.download('wordnet')\n",
    "nltk.download('stopwords')\n",
    "\n",
    "lemmatizer = WordNetLemmatizer()\n",
    "stop_words = set(stopwords.words('english'))\n",
    "\n",
    "def preprocess_text(text):\n",
    "    # Tokenize the text into individual words\n",
    "    words = nltk.word_tokenize(text)\n",
    "    \n",
    "    # Lemmatize each word and remove stop words\n",
    "    lemmatized_words = [lemmatizer.lemmatize(word) for word in words if word.lower() not in stop_words]\n",
    "    \n",
    "    # Join the lemmatized words back into a single string\n",
    "    processed_text = ' '.join(lemmatized_words)\n",
    "    \n",
    "    return processed_text"
   ]
  },
  {
   "cell_type": "code",
   "execution_count": 40,
   "id": "ee6d98d3",
   "metadata": {},
   "outputs": [],
   "source": [
    "data['processed_text'] = data['text'].apply(preprocess_text)"
   ]
  },
  {
   "cell_type": "markdown",
   "id": "94ce9ab9",
   "metadata": {},
   "source": [
    "The words are tokenized excluding the numbers (as random selection of integers were appearing in the top 50). We obtain the 50 most frequent ones."
   ]
  },
  {
   "cell_type": "code",
   "execution_count": 41,
   "id": "d955f576",
   "metadata": {},
   "outputs": [
    {
     "name": "stdout",
     "output_type": "stream",
     "text": [
      "u 1184\n",
      "call 603\n",
      "get 396\n",
      "ur 381\n",
      "gt 318\n",
      "lt 316\n",
      "go 305\n",
      "free 278\n",
      "know 271\n",
      "ok 250\n",
      "come 250\n",
      "got 249\n",
      "like 247\n",
      "day 244\n",
      "good 242\n",
      "time 241\n",
      "text 215\n",
      "want 214\n",
      "love 209\n",
      "send 191\n",
      "one 184\n",
      "need 181\n",
      "today 173\n",
      "going 173\n",
      "r 172\n",
      "txt 169\n",
      "home 163\n",
      "lor 162\n",
      "sorry 159\n",
      "see 158\n",
      "still 155\n",
      "back 153\n",
      "stop 153\n",
      "c 152\n",
      "mobile 150\n",
      "take 150\n",
      "da 150\n",
      "n 148\n",
      "reply 147\n",
      "think 146\n",
      "tell 142\n",
      "phone 139\n",
      "dont 138\n",
      "new 136\n",
      "later 135\n",
      "week 132\n",
      "hi 132\n",
      "please 130\n",
      "pls 125\n",
      "make 124\n"
     ]
    }
   ],
   "source": [
    "# Tokenize the text into words while excluding numbers\n",
    "all_text = data['processed_text'].str.cat(sep=' ')\n",
    "words = nltk.word_tokenize(all_text)\n",
    "words = [word for word in words if word.isalpha()]\n",
    "\n",
    "# Create a frequency distribution of the words\n",
    "freq_dist = FreqDist(words)\n",
    "\n",
    "# Retrieve the most common words\n",
    "num_most_common = 50\n",
    "most_common_words = freq_dist.most_common(num_most_common)\n",
    "\n",
    "# Print the most common words and their frequencies\n",
    "for word, frequency in most_common_words:\n",
    "    print(word, frequency)\n"
   ]
  },
  {
   "cell_type": "markdown",
   "id": "ef073b64",
   "metadata": {},
   "source": [
    "A list of only the needed words is obtained."
   ]
  },
  {
   "cell_type": "code",
   "execution_count": null,
   "id": "61fb9df0",
   "metadata": {},
   "outputs": [],
   "source": [
    "word_list = [word for word, count in most_common_words]"
   ]
  },
  {
   "cell_type": "markdown",
   "id": "9d76d8f9",
   "metadata": {},
   "source": [
    "We generate a word frequency matrix for the most common words, as well as adding additional columns for special characters and integers."
   ]
  },
  {
   "cell_type": "code",
   "execution_count": null,
   "id": "a94a6c57",
   "metadata": {},
   "outputs": [],
   "source": [
    "vectorizer = CountVectorizer(vocabulary=word_list)\n",
    "X = vectorizer.fit_transform(data[\"processed_text\"])"
   ]
  },
  {
   "cell_type": "code",
   "execution_count": null,
   "id": "7dfdd7cb",
   "metadata": {},
   "outputs": [],
   "source": [
    "matrix = pd.DataFrame(X.toarray(), columns=vectorizer.get_feature_names())\n",
    "data = pd.concat([data[[\"processed_text\", \"spam\"]], matrix], axis=1)"
   ]
  },
  {
   "cell_type": "code",
   "execution_count": null,
   "id": "a641bf49",
   "metadata": {},
   "outputs": [],
   "source": [
    "for char in [\"$\", \"€\", \"!\", \"@\", \"?\"]:\n",
    "    pattern = re.escape(char)  # Escape special characters in the regex pattern\n",
    "    data[char] = data[\"processed_text\"].str.count(pattern)\n",
    "\n",
    "data[\"digit_count\"] = data[\"processed_text\"].str.count(r\"\\d\")"
   ]
  },
  {
   "cell_type": "code",
   "execution_count": null,
   "id": "8da60a35",
   "metadata": {},
   "outputs": [],
   "source": [
    "columns_to_scale = data.columns[2:57]\n",
    "\n",
    "# Initialize the MinMaxScaler\n",
    "scaler = MinMaxScaler(feature_range=(0, 1))\n",
    "\n",
    "# Fit and transform the selected columns\n",
    "data[columns_to_scale] = scaler.fit_transform(data[columns_to_scale])\n",
    "\n",
    "# Display the scaled DataFrame\n",
    "data"
   ]
  },
  {
   "cell_type": "code",
   "execution_count": null,
   "id": "d42a6661",
   "metadata": {},
   "outputs": [],
   "source": [
    "data.to_csv(r\"\\new_data_new_words.csv\")"
   ]
  },
  {
   "cell_type": "markdown",
   "id": "599256e8",
   "metadata": {},
   "source": [
    "# Word frequencies from previous analysis\n",
    "\n",
    "We also want to create a word frequency matrix with the words used in the previous analysis. We calculate the frequencies as well as dividing them by the total number of words in the text to match the previous dataset."
   ]
  },
  {
   "cell_type": "code",
   "execution_count": null,
   "id": "b663ac22",
   "metadata": {},
   "outputs": [],
   "source": [
    "data_old = pd.DataFrame(data[[\"processed_text\", \"spam\"]])\n",
    "\n",
    "words_old = ['make', 'address', 'all', '3d', 'our', 'over', 'remove', 'internet','order',\n",
    "             'mail', 'receive', 'will', 'people', 'report', 'addresses','free', 'business',\n",
    "             'email', 'you', 'credit', 'your', 'font', '000', 'money', 'hp','hpl','george',\n",
    "             '650', 'lab', 'labs', 'telnet', '857', 'data', '415', '85', 'technology', '1999', \n",
    "             'parts', 'pm', 'direct', 'cs', 'meeting', 'original', 'project', 're', 'edu', 'table',\n",
    "             'conference', ';', '(', '[', '!', '$', '#']"
   ]
  },
  {
   "cell_type": "code",
   "execution_count": null,
   "id": "381dcaea",
   "metadata": {},
   "outputs": [],
   "source": [
    "for char in words_old:\n",
    "    pattern = re.escape(char)  # Escape special characters in the regex pattern\n",
    "    data_old[char] = data[\"processed_text\"].str.count(pattern)"
   ]
  },
  {
   "cell_type": "code",
   "execution_count": null,
   "id": "f485a959",
   "metadata": {},
   "outputs": [],
   "source": [
    "data_old[\"word_count\"] = data_old[\"processed_text\"].apply(lambda x: len(x.split()))"
   ]
  },
  {
   "cell_type": "code",
   "execution_count": null,
   "id": "d66e54d0",
   "metadata": {},
   "outputs": [],
   "source": [
    "data_old[words_old] = data_old[words_old].div(data_old[\"word_count\"], axis=0)"
   ]
  },
  {
   "cell_type": "code",
   "execution_count": null,
   "id": "b3888848",
   "metadata": {},
   "outputs": [],
   "source": [
    "data_old.to_csv(r\"\\new_data_old_words.csv\")"
   ]
  },
  {
   "cell_type": "markdown",
   "id": "e861fe72",
   "metadata": {},
   "source": [
    "# The next part of the process was testing the approach on a new dataset"
   ]
  },
  {
   "cell_type": "markdown",
   "id": "23adaba6",
   "metadata": {},
   "source": [
    "The analysis will be conducted using word frequencies from the old research as well as a new word list from the new datsaset. "
   ]
  },
  {
   "cell_type": "markdown",
   "id": "fc02d7cd",
   "metadata": {},
   "source": [
    "## New Data New Words"
   ]
  },
  {
   "cell_type": "markdown",
   "id": "f69a7c26",
   "metadata": {},
   "source": [
    "Import and prepare the dataset for analysis:"
   ]
  },
  {
   "cell_type": "code",
   "execution_count": 255,
   "id": "e374216c",
   "metadata": {},
   "outputs": [],
   "source": [
    "spam = pd.read_csv(r\"C:\\Users\\justy\\Desktop\\Info\\Inne\\DSC\\UW\\Semestr IV\\RR\\RR_Project\\Updated Research\\new_data_new_words.csv\")\n",
    "spam.dropna(inplace = True)\n",
    "\n",
    "#Renaming character columns to a less error-prone form\n",
    "spam.rename(columns = {'$':'dollar',\n",
    "                       '!': 'exclamation',\n",
    "                      \"#\": \"hashtag\",\n",
    "                       \"(\":\"parenthesis\",\n",
    "                       \"[\": \"brackets\",\n",
    "                       \";\": \"semicolon\",\n",
    "                       \"€\": \"euro\",\n",
    "                       \"@\": \"at\", \n",
    "                       \"?\": \"question\"\n",
    "                      }, inplace = True)\n",
    "\n",
    "#Drop columns not neccessary to the analysis\n",
    "spam.drop(columns=['Unnamed: 0', 'processed_text', 'word_count'], inplace = True)\n",
    "\n",
    "#Rename columns to include word_freq\n",
    "column_names = spam.columns.tolist()\n",
    "new_column_names = ['spam'] + ['word_freq_' + column if column != 'spam' else column for column in column_names[1:]]\n",
    "\n",
    "spam.rename(columns=dict(zip(column_names, new_column_names)), inplace=True)\n",
    "\n",
    "#Convert the dependent variable to a numeric one\n",
    "spam['spam'] = spam['spam'].replace({\n",
    "    'spam': 1,\n",
    "    'ham': 0})"
   ]
  },
  {
   "cell_type": "code",
   "execution_count": 256,
   "id": "08b7e500",
   "metadata": {},
   "outputs": [
    {
     "data": {
      "text/plain": [
       "<bound method NDFrame.describe of       spam  word_freq_u  word_freq_call  word_freq_get  word_freq_ur  \\\n",
       "0        0          0.0            0.00            0.0           0.0   \n",
       "1        0          0.0            0.00            0.0           0.0   \n",
       "2        1          0.0            0.00            0.0           0.0   \n",
       "3        0          0.0            0.00            0.0           0.0   \n",
       "4        0          0.0            0.00            0.0           0.0   \n",
       "...    ...          ...             ...            ...           ...   \n",
       "5567     1          0.0            0.08            0.0           0.0   \n",
       "5568     0          0.0            0.00            0.0           0.0   \n",
       "5569     0          0.0            0.00            0.0           0.0   \n",
       "5570     0          0.0            0.00            0.0           0.0   \n",
       "5571     0          0.0            0.00            0.0           0.0   \n",
       "\n",
       "      word_freq_gt  word_freq_lt  word_freq_go  word_freq_free  \\\n",
       "0              0.0           0.0      0.150000        0.000000   \n",
       "1              0.0           0.0      0.000000        0.000000   \n",
       "2              0.0           0.0      0.000000        0.133333   \n",
       "3              0.0           0.0      0.000000        0.000000   \n",
       "4              0.0           0.0      0.333333        0.000000   \n",
       "...            ...           ...           ...             ...   \n",
       "5567           0.0           0.0      0.000000        0.000000   \n",
       "5568           0.0           0.0      0.000000        0.000000   \n",
       "5569           0.0           0.0      0.000000        0.000000   \n",
       "5570           0.0           0.0      0.000000        0.285714   \n",
       "5571           0.0           0.0      0.000000        0.000000   \n",
       "\n",
       "      word_freq_know  ...  word_freq_hi  word_freq_please  word_freq_pls  \\\n",
       "0                0.0  ...           0.0               0.0            0.0   \n",
       "1                0.0  ...           0.0               0.0            0.0   \n",
       "2                0.0  ...           0.0               0.0            0.0   \n",
       "3                0.0  ...           0.0               0.0            0.0   \n",
       "4                0.0  ...           0.0               0.0            0.0   \n",
       "...              ...  ...           ...               ...            ...   \n",
       "5567             0.0  ...           0.0               0.0            0.0   \n",
       "5568             0.0  ...           0.0               0.0            0.0   \n",
       "5569             0.0  ...           0.0               0.0            0.0   \n",
       "5570             0.0  ...           0.0               0.0            0.0   \n",
       "5571             0.0  ...           0.0               0.0            0.0   \n",
       "\n",
       "      word_freq_make  word_freq_dollar  word_freq_euro  word_freq_exclamation  \\\n",
       "0                0.0               0.0             0.0               0.000000   \n",
       "1                0.0               0.0             0.0               0.000000   \n",
       "2                0.0               0.0             0.0               0.000000   \n",
       "3                0.0               0.0             0.0               0.000000   \n",
       "4                0.0               0.0             0.0               0.000000   \n",
       "...              ...               ...             ...                    ...   \n",
       "5567             0.0               0.0             0.0               0.090909   \n",
       "5568             0.0               0.0             0.0               0.000000   \n",
       "5569             0.0               0.0             0.0               0.000000   \n",
       "5570             0.0               0.0             0.0               0.000000   \n",
       "5571             0.0               0.0             0.0               0.000000   \n",
       "\n",
       "      word_freq_at  word_freq_question  word_freq_digit_count  \n",
       "0              0.0            0.000000                      0  \n",
       "1              0.0            0.000000                      0  \n",
       "2              0.0            0.000000                     25  \n",
       "3              0.0            0.000000                      0  \n",
       "4              0.0            0.000000                      0  \n",
       "...            ...                 ...                    ...  \n",
       "5567           0.0            0.000000                     21  \n",
       "5568           0.0            0.083333                      0  \n",
       "5569           0.0            0.083333                      0  \n",
       "5570           0.0            0.000000                      0  \n",
       "5571           0.0            0.000000                      0  \n",
       "\n",
       "[5572 rows x 57 columns]>"
      ]
     },
     "execution_count": 256,
     "metadata": {},
     "output_type": "execute_result"
    }
   ],
   "source": [
    "spam.describe"
   ]
  },
  {
   "cell_type": "markdown",
   "id": "cf354f49",
   "metadata": {},
   "source": [
    "Very low variances in independent variables cause errors in the models. We set a treshold for the variances of the columns and keep only the columns that can be included in the analysis. This part was necessary for models to return propper values insted of Nan"
   ]
  },
  {
   "cell_type": "code",
   "execution_count": 257,
   "id": "87311ac4",
   "metadata": {},
   "outputs": [
    {
     "data": {
      "text/plain": [
       "spam                      0.116111\n",
       "word_freq_call            0.005306\n",
       "word_freq_get             0.003488\n",
       "word_freq_ur              0.003405\n",
       "word_freq_gt              0.007387\n",
       "word_freq_lt              0.009940\n",
       "word_freq_go              0.004034\n",
       "word_freq_free            0.004759\n",
       "word_freq_come            0.003268\n",
       "word_freq_day             0.003685\n",
       "word_freq_time            0.003465\n",
       "word_freq_text            0.004684\n",
       "word_freq_love            0.003443\n",
       "word_freq_send            0.003109\n",
       "word_freq_need            0.003308\n",
       "word_freq_going           0.004255\n",
       "word_freq_sorry           0.004954\n",
       "word_freq_still           0.004305\n",
       "word_freq_take            0.003129\n",
       "word_freq_da              0.004420\n",
       "word_freq_dont            0.003515\n",
       "word_freq_later           0.007791\n",
       "word_freq_exclamation     0.003834\n",
       "word_freq_digit_count    38.995783\n",
       "dtype: float64"
      ]
     },
     "execution_count": 257,
     "metadata": {},
     "output_type": "execute_result"
    }
   ],
   "source": [
    "variance = spam.var()\n",
    "\n",
    "# Set the threshold value\n",
    "threshold = 0.003\n",
    "\n",
    "# Filter columns based on variance threshold\n",
    "filtered_columns = variance[variance >= threshold].index\n",
    "\n",
    "# Create a new DataFrame with selected columns\n",
    "spam = spam[filtered_columns]\n",
    "\n",
    "spam.var()"
   ]
  },
  {
   "cell_type": "markdown",
   "id": "dbc2b2c5",
   "metadata": {},
   "source": [
    "Let us check the distribution of spam and non-spam mails"
   ]
  },
  {
   "cell_type": "code",
   "execution_count": 258,
   "id": "c163db7a",
   "metadata": {},
   "outputs": [
    {
     "data": {
      "image/png": "[encoded data removed]",
      "text/plain": [
       "<Figure size 432x288 with 1 Axes>"
      ]
     },
     "metadata": {
      "needs_background": "light"
     },
     "output_type": "display_data"
    }
   ],
   "source": [
    "spam_count = spam[\"spam\"].value_counts()\n",
    "perc_yes = round(spam_count[1] / len(spam) * 100, 2)\n",
    "perc_no = round(spam_count[0] / len(spam) * 100, 2)\n",
    "\n",
    "plt.bar([\"Non-spam\", \"Spam\"], spam_count, color=[\"#31d64f\", \"#ed3b3b\"])\n",
    "plt.title(\"Number of spam/non-spam mails\")\n",
    "plt.xlabel(\"Type of mail\")\n",
    "plt.ylabel(\"Frequency\")\n",
    "plt.legend([\"Non-spam\", \"Spam\"])\n",
    "plt.show()"
   ]
  },
  {
   "cell_type": "markdown",
   "id": "0ca044cc",
   "metadata": {},
   "source": [
    "## Start from the most general model that contains all explanatory variables"
   ]
  },
  {
   "cell_type": "code",
   "execution_count": 259,
   "id": "4fa2fbe3",
   "metadata": {},
   "outputs": [],
   "source": [
    "formula = \"spam ~ \" + \" + \".join(spam.columns[1:])"
   ]
  },
  {
   "cell_type": "markdown",
   "id": "f30798a6",
   "metadata": {},
   "source": [
    "### Probit model\n",
    "---"
   ]
  },
  {
   "cell_type": "code",
   "execution_count": 260,
   "id": "18e5d420",
   "metadata": {},
   "outputs": [
    {
     "name": "stdout",
     "output_type": "stream",
     "text": [
      "Warning: Maximum number of iterations has been exceeded.\n",
      "         Current function value: 0.084801\n",
      "         Iterations: 35\n",
      "                          Probit Regression Results                           \n",
      "==============================================================================\n",
      "Dep. Variable:                   spam   No. Observations:                 5572\n",
      "Model:                         Probit   Df Residuals:                     5548\n",
      "Method:                           MLE   Df Model:                           23\n",
      "Date:                Sun, 18 Jun 2023   Pseudo R-squ.:                  0.7848\n",
      "Time:                        23:42:11   Log-Likelihood:                -472.51\n",
      "converged:                      False   LL-Null:                       -2195.6\n",
      "Covariance Type:            nonrobust   LLR p-value:                     0.000\n",
      "=========================================================================================\n",
      "                            coef    std err          z      P>|z|      [0.025      0.975]\n",
      "-----------------------------------------------------------------------------------------\n",
      "Intercept                -2.2321      0.061    -36.431      0.000      -2.352      -2.112\n",
      "word_freq_call           -3.0682      1.010     -3.037      0.002      -5.048      -1.088\n",
      "word_freq_get            -0.1846      0.816     -0.226      0.821      -1.783       1.414\n",
      "word_freq_ur             -1.1577      0.835     -1.387      0.166      -2.794       0.479\n",
      "word_freq_gt            -14.9780   7.81e+05  -1.92e-05      1.000   -1.53e+06    1.53e+06\n",
      "word_freq_lt            -38.8083   6.73e+05  -5.77e-05      1.000   -1.32e+06    1.32e+06\n",
      "word_freq_go             -0.2868      0.757     -0.379      0.705      -1.771       1.197\n",
      "word_freq_free            3.0220      0.419      7.218      0.000       2.201       3.843\n",
      "word_freq_come           -0.5091      1.095     -0.465      0.642      -2.655       1.636\n",
      "word_freq_day            -0.3404      0.797     -0.427      0.669      -1.902       1.222\n",
      "word_freq_time           -0.8513      1.052     -0.809      0.418      -2.914       1.211\n",
      "word_freq_text            1.9207      0.347      5.528      0.000       1.240       2.602\n",
      "word_freq_love           -2.2725      1.616     -1.406      0.160      -5.440       0.895\n",
      "word_freq_send            0.5875      0.701      0.838      0.402      -0.787       1.961\n",
      "word_freq_need           -1.4221      1.381     -1.030      0.303      -4.129       1.285\n",
      "word_freq_going          -1.8651      1.649     -1.131      0.258      -5.097       1.367\n",
      "word_freq_sorry          -3.8238      2.008     -1.904      0.057      -7.760       0.112\n",
      "word_freq_still          -4.7817      3.544     -1.349      0.177     -11.728       2.165\n",
      "word_freq_take           -0.6396      1.117     -0.572      0.567      -2.830       1.550\n",
      "word_freq_da            -48.1537   1.42e+04     -0.003      0.997   -2.79e+04    2.78e+04\n",
      "word_freq_dont           -0.2995      0.984     -0.304      0.761      -2.228       1.629\n",
      "word_freq_later         -61.9383   8.22e+04     -0.001      0.999   -1.61e+05    1.61e+05\n",
      "word_freq_exclamation     2.3871      0.507      4.705      0.000       1.393       3.382\n",
      "word_freq_digit_count     0.3589      0.016     23.073      0.000       0.328       0.389\n",
      "=========================================================================================\n",
      "\n",
      "Possibly complete quasi-separation: A fraction 0.19 of observations can be\n",
      "perfectly predicted. This might indicate that there is complete\n",
      "quasi-separation. In this case some parameters will not be identified.\n"
     ]
    },
    {
     "name": "stderr",
     "output_type": "stream",
     "text": [
      "c:\\Users\\justy\\AppData\\Local\\Programs\\Python\\Python39\\lib\\site-packages\\statsmodels\\base\\model.py:604: ConvergenceWarning: Maximum Likelihood optimization failed to converge. Check mle_retvals\n",
      "  warnings.warn(\"Maximum Likelihood optimization failed to \"\n"
     ]
    }
   ],
   "source": [
    "myprobit = sm.Probit.from_formula(formula, data=spam).fit()\n",
    "print(myprobit.summary())"
   ]
  },
  {
   "cell_type": "markdown",
   "id": "0b061674",
   "metadata": {},
   "source": [
    "### Logit model\n",
    "---"
   ]
  },
  {
   "cell_type": "code",
   "execution_count": 261,
   "id": "2f01e22c",
   "metadata": {},
   "outputs": [
    {
     "name": "stdout",
     "output_type": "stream",
     "text": [
      "Warning: Maximum number of iterations has been exceeded.\n",
      "         Current function value: 0.084299\n",
      "         Iterations: 35\n",
      "                           Logit Regression Results                           \n",
      "==============================================================================\n",
      "Dep. Variable:                   spam   No. Observations:                 5572\n",
      "Model:                          Logit   Df Residuals:                     5548\n",
      "Method:                           MLE   Df Model:                           23\n",
      "Date:                Sun, 18 Jun 2023   Pseudo R-squ.:                  0.7861\n",
      "Time:                        23:42:12   Log-Likelihood:                -469.72\n",
      "converged:                      False   LL-Null:                       -2195.6\n",
      "Covariance Type:            nonrobust   LLR p-value:                     0.000\n",
      "=========================================================================================\n",
      "                            coef    std err          z      P>|z|      [0.025      0.975]\n",
      "-----------------------------------------------------------------------------------------\n",
      "Intercept                -4.2063      0.143    -29.436      0.000      -4.486      -3.926\n",
      "word_freq_call           -5.9051      2.032     -2.906      0.004      -9.887      -1.923\n",
      "word_freq_get            -0.1263      1.687     -0.075      0.940      -3.432       3.180\n",
      "word_freq_ur             -3.6651      1.709     -2.145      0.032      -7.015      -0.316\n",
      "word_freq_gt            -52.1552   1.26e+05     -0.000      1.000   -2.47e+05    2.47e+05\n",
      "word_freq_lt            -70.7824   1.08e+05     -0.001      0.999   -2.12e+05    2.12e+05\n",
      "word_freq_go             -0.7489      1.788     -0.419      0.675      -4.253       2.755\n",
      "word_freq_free            5.6490      0.834      6.770      0.000       4.013       7.285\n",
      "word_freq_come           -1.6813      2.853     -0.589      0.556      -7.272       3.910\n",
      "word_freq_day            -0.5304      1.635     -0.324      0.746      -3.735       2.674\n",
      "word_freq_time           -2.1441      2.459     -0.872      0.383      -6.963       2.675\n",
      "word_freq_text            3.6967      0.615      6.011      0.000       2.491       4.902\n",
      "word_freq_love           -6.3427      4.199     -1.510      0.131     -14.574       1.888\n",
      "word_freq_send            1.5300      1.418      1.079      0.281      -1.250       4.310\n",
      "word_freq_need           -4.3002      4.018     -1.070      0.285     -12.176       3.576\n",
      "word_freq_going          -6.3393      5.609     -1.130      0.258     -17.333       4.654\n",
      "word_freq_sorry          -6.5950      3.628     -1.818      0.069     -13.705       0.515\n",
      "word_freq_still          -9.5567      7.176     -1.332      0.183     -23.622       4.508\n",
      "word_freq_take           -2.7223      3.339     -0.815      0.415      -9.267       3.822\n",
      "word_freq_da           -100.8663   1725.577     -0.058      0.953   -3482.936    3281.203\n",
      "word_freq_dont           -0.9747      2.531     -0.385      0.700      -5.935       3.986\n",
      "word_freq_later        -149.2632   1.54e+04     -0.010      0.992   -3.04e+04    3.01e+04\n",
      "word_freq_exclamation     4.5261      0.975      4.640      0.000       2.614       6.438\n",
      "word_freq_digit_count     0.7350      0.038     19.591      0.000       0.661       0.809\n",
      "=========================================================================================\n",
      "\n",
      "Possibly complete quasi-separation: A fraction 0.16 of observations can be\n",
      "perfectly predicted. This might indicate that there is complete\n",
      "quasi-separation. In this case some parameters will not be identified.\n"
     ]
    },
    {
     "name": "stderr",
     "output_type": "stream",
     "text": [
      "c:\\Users\\justy\\AppData\\Local\\Programs\\Python\\Python39\\lib\\site-packages\\statsmodels\\base\\model.py:604: ConvergenceWarning: Maximum Likelihood optimization failed to converge. Check mle_retvals\n",
      "  warnings.warn(\"Maximum Likelihood optimization failed to \"\n"
     ]
    }
   ],
   "source": [
    "mylogit = sm.Logit.from_formula(formula, data=spam).fit()\n",
    "print(mylogit.summary())"
   ]
  },
  {
   "cell_type": "markdown",
   "id": "9d3d86db",
   "metadata": {},
   "source": [
    "# Significance test of models\n",
    "\n",
    "Both models p-values are 0, so null hypothesis can be rejected. It means that the model`s coefficients are jointly significant"
   ]
  },
  {
   "cell_type": "code",
   "execution_count": 262,
   "id": "b1c6488b",
   "metadata": {},
   "outputs": [
    {
     "name": "stdout",
     "output_type": "stream",
     "text": [
      "Optimization terminated successfully.\n",
      "         Current function value: 0.394038\n",
      "         Iterations 5\n",
      "Probit likelihood ratio test p-value: 0.0\n"
     ]
    }
   ],
   "source": [
    "null_probit = sm.Probit(spam[\"spam\"], sm.add_constant(pd.Series([1] * len(spam)))).fit()\n",
    "probit_lrtest = stats.chi2.sf(2 * (myprobit.llf - null_probit.llf), 1)\n",
    "print(\"Probit likelihood ratio test p-value:\", probit_lrtest)"
   ]
  },
  {
   "cell_type": "code",
   "execution_count": 263,
   "id": "afe87a7b",
   "metadata": {},
   "outputs": [
    {
     "name": "stdout",
     "output_type": "stream",
     "text": [
      "Optimization terminated successfully.\n",
      "         Current function value: 0.394038\n",
      "         Iterations 6\n",
      "Logit likelihood ratio test p-value: 0.0\n"
     ]
    }
   ],
   "source": [
    "null_logit = sm.Logit(spam[\"spam\"], sm.add_constant(pd.Series([1] * len(spam)))).fit()\n",
    "logit_lrtest = stats.chi2.sf(2 * (mylogit.llf - null_logit.llf), 1)\n",
    "print(\"Logit likelihood ratio test p-value:\", logit_lrtest)"
   ]
  },
  {
   "cell_type": "markdown",
   "id": "39dd4f5a",
   "metadata": {},
   "source": [
    "## Stepwise regression"
   ]
  },
  {
   "cell_type": "code",
   "execution_count": 264,
   "id": "11906d06",
   "metadata": {},
   "outputs": [
    {
     "name": "stdout",
     "output_type": "stream",
     "text": [
      "word_freq_gt\n",
      "Warning: Maximum number of iterations has been exceeded.\n",
      "         Current function value: 0.084816\n",
      "         Iterations: 35\n",
      "991.194086961016\n",
      "word_freq_da\n"
     ]
    },
    {
     "name": "stderr",
     "output_type": "stream",
     "text": [
      "c:\\Users\\justy\\AppData\\Local\\Programs\\Python\\Python39\\lib\\site-packages\\statsmodels\\base\\model.py:604: ConvergenceWarning: Maximum Likelihood optimization failed to converge. Check mle_retvals\n",
      "  warnings.warn(\"Maximum Likelihood optimization failed to \"\n"
     ]
    },
    {
     "name": "stdout",
     "output_type": "stream",
     "text": [
      "Warning: Maximum number of iterations has been exceeded.\n",
      "         Current function value: 0.085715\n",
      "         Iterations: 35\n",
      "999.2063848097096\n",
      "word_freq_lt\n"
     ]
    },
    {
     "name": "stderr",
     "output_type": "stream",
     "text": [
      "c:\\Users\\justy\\AppData\\Local\\Programs\\Python\\Python39\\lib\\site-packages\\statsmodels\\base\\model.py:604: ConvergenceWarning: Maximum Likelihood optimization failed to converge. Check mle_retvals\n",
      "  warnings.warn(\"Maximum Likelihood optimization failed to \"\n"
     ]
    },
    {
     "name": "stdout",
     "output_type": "stream",
     "text": [
      "Warning: Maximum number of iterations has been exceeded.\n",
      "         Current function value: 0.090247\n",
      "         Iterations: 35\n",
      "1047.7131104852488\n",
      "word_freq_later\n",
      "Optimization terminated successfully.\n",
      "         Current function value: 0.090668\n",
      "         Iterations 10\n",
      "1050.4072904922893\n",
      "word_freq_get\n"
     ]
    },
    {
     "name": "stderr",
     "output_type": "stream",
     "text": [
      "c:\\Users\\justy\\AppData\\Local\\Programs\\Python\\Python39\\lib\\site-packages\\statsmodels\\base\\model.py:604: ConvergenceWarning: Maximum Likelihood optimization failed to converge. Check mle_retvals\n",
      "  warnings.warn(\"Maximum Likelihood optimization failed to \"\n"
     ]
    },
    {
     "name": "stdout",
     "output_type": "stream",
     "text": [
      "Optimization terminated successfully.\n",
      "         Current function value: 0.090669\n",
      "         Iterations 10\n",
      "1048.415447819228\n",
      "word_freq_go\n",
      "Optimization terminated successfully.\n",
      "         Current function value: 0.090671\n",
      "         Iterations 10\n",
      "1046.442614216815\n",
      "word_freq_dont\n",
      "Optimization terminated successfully.\n",
      "         Current function value: 0.090676\n",
      "         Iterations 10\n",
      "1044.491797487975\n",
      "word_freq_day\n",
      "Optimization terminated successfully.\n",
      "         Current function value: 0.090683\n",
      "         Iterations 10\n",
      "1042.5711276093855\n",
      "word_freq_take\n",
      "Optimization terminated successfully.\n",
      "         Current function value: 0.090704\n",
      "         Iterations 10\n",
      "1040.8103242756306\n",
      "word_freq_come\n",
      "Optimization terminated successfully.\n",
      "         Current function value: 0.090728\n",
      "         Iterations 10\n",
      "1039.0676621119137\n",
      "word_freq_send\n",
      "Optimization terminated successfully.\n",
      "         Current function value: 0.090776\n",
      "         Iterations 10\n",
      "1037.6113412700508\n",
      "word_freq_time\n",
      "Optimization terminated successfully.\n",
      "         Current function value: 0.090851\n",
      "         Iterations 10\n",
      "1036.4489011521625\n",
      "word_freq_need\n",
      "Optimization terminated successfully.\n",
      "         Current function value: 0.090967\n",
      "         Iterations 10\n",
      "1035.7413734538893\n",
      "word_freq_going\n",
      "Optimization terminated successfully.\n",
      "         Current function value: 0.091161\n",
      "         Iterations 10\n",
      "1035.8955467500266\n",
      "word_freq_ur\n",
      "Optimization terminated successfully.\n",
      "         Current function value: 0.091284\n",
      "         Iterations 10\n",
      "1035.271195570812\n",
      "word_freq_still\n",
      "Optimization terminated successfully.\n",
      "         Current function value: 0.091649\n",
      "         Iterations 10\n",
      "1037.3409034703454\n",
      "word_freq_love\n",
      "Optimization terminated successfully.\n",
      "         Current function value: 0.091952\n",
      "         Iterations 10\n",
      "1038.7099279546592\n",
      "word_freq_sorry\n",
      "Optimization terminated successfully.\n",
      "         Current function value: 0.092441\n",
      "         Iterations 8\n",
      "1042.162601369397\n"
     ]
    }
   ],
   "source": [
    "p_probit = myprobit.pvalues\n",
    "spam_temp_probit = spam.copy()\n",
    "\n",
    "while any(p_probit > 0.05):\n",
    "    worstp = p_probit.idxmax()\n",
    "    \n",
    "    print(worstp)\n",
    "    spam_temp_probit.drop(columns=worstp, inplace=True)\n",
    "    \n",
    "    formula = \"spam ~\"\n",
    "    \n",
    "    for column in spam_temp_probit.columns[1:]:\n",
    "        formula += f\" + {column}\"\n",
    "    \n",
    "    myprobit = sm.Probit.from_formula(formula, data=spam_temp_probit).fit()\n",
    "    p_probit = myprobit.pvalues\n",
    "    print(myprobit.aic)"
   ]
  },
  {
   "cell_type": "code",
   "execution_count": 265,
   "id": "9320b44a",
   "metadata": {},
   "outputs": [
    {
     "name": "stdout",
     "output_type": "stream",
     "text": [
      "                          Probit Regression Results                           \n",
      "==============================================================================\n",
      "Dep. Variable:                   spam   No. Observations:                 5572\n",
      "Model:                         Probit   Df Residuals:                     5566\n",
      "Method:                           MLE   Df Model:                            5\n",
      "Date:                Sun, 18 Jun 2023   Pseudo R-squ.:                  0.7654\n",
      "Time:                        23:42:15   Log-Likelihood:                -515.08\n",
      "converged:                       True   LL-Null:                       -2195.6\n",
      "Covariance Type:            nonrobust   LLR p-value:                     0.000\n",
      "=========================================================================================\n",
      "                            coef    std err          z      P>|z|      [0.025      0.975]\n",
      "-----------------------------------------------------------------------------------------\n",
      "Intercept                -2.3474      0.054    -43.744      0.000      -2.453      -2.242\n",
      "word_freq_call           -2.1198      0.886     -2.394      0.017      -3.855      -0.384\n",
      "word_freq_free            2.8446      0.386      7.376      0.000       2.089       3.601\n",
      "word_freq_text            2.0743      0.334      6.205      0.000       1.419       2.730\n",
      "word_freq_exclamation     2.4478      0.467      5.244      0.000       1.533       3.363\n",
      "word_freq_digit_count     0.3318      0.013     25.563      0.000       0.306       0.357\n",
      "=========================================================================================\n"
     ]
    }
   ],
   "source": [
    "print(myprobit.summary())"
   ]
  },
  {
   "cell_type": "code",
   "execution_count": 266,
   "id": "513453b6",
   "metadata": {},
   "outputs": [
    {
     "name": "stdout",
     "output_type": "stream",
     "text": [
      "word_freq_gt\n",
      "Warning: Maximum number of iterations has been exceeded.\n",
      "         Current function value: 0.084316\n",
      "         Iterations: 35\n"
     ]
    },
    {
     "name": "stderr",
     "output_type": "stream",
     "text": [
      "c:\\Users\\justy\\AppData\\Local\\Programs\\Python\\Python39\\lib\\site-packages\\statsmodels\\discrete\\discrete_model.py:1819: RuntimeWarning: overflow encountered in exp\n",
      "  return 1/(1+np.exp(-X))\n",
      "c:\\Users\\justy\\AppData\\Local\\Programs\\Python\\Python39\\lib\\site-packages\\statsmodels\\base\\model.py:604: ConvergenceWarning: Maximum Likelihood optimization failed to converge. Check mle_retvals\n",
      "  warnings.warn(\"Maximum Likelihood optimization failed to \"\n"
     ]
    },
    {
     "name": "stdout",
     "output_type": "stream",
     "text": [
      "985.6201246859478\n",
      "word_freq_da\n",
      "Warning: Maximum number of iterations has been exceeded.\n",
      "         Current function value: 0.085355\n",
      "         Iterations: 35\n",
      "995.1955540349777\n",
      "word_freq_lt\n"
     ]
    },
    {
     "name": "stderr",
     "output_type": "stream",
     "text": [
      "c:\\Users\\justy\\AppData\\Local\\Programs\\Python\\Python39\\lib\\site-packages\\statsmodels\\base\\model.py:604: ConvergenceWarning: Maximum Likelihood optimization failed to converge. Check mle_retvals\n",
      "  warnings.warn(\"Maximum Likelihood optimization failed to \"\n"
     ]
    },
    {
     "name": "stdout",
     "output_type": "stream",
     "text": [
      "Warning: Maximum number of iterations has been exceeded.\n",
      "         Current function value: 0.090632\n",
      "         Iterations: 35\n",
      "1051.99881620514\n",
      "word_freq_later\n",
      "Optimization terminated successfully.\n",
      "         Current function value: 0.091062\n",
      "         Iterations 11\n",
      "1054.7944439196922\n",
      "word_freq_get\n",
      "Optimization terminated successfully.\n",
      "         Current function value: 0.091063\n"
     ]
    },
    {
     "name": "stderr",
     "output_type": "stream",
     "text": [
      "c:\\Users\\justy\\AppData\\Local\\Programs\\Python\\Python39\\lib\\site-packages\\statsmodels\\base\\model.py:604: ConvergenceWarning: Maximum Likelihood optimization failed to converge. Check mle_retvals\n",
      "  warnings.warn(\"Maximum Likelihood optimization failed to \"\n"
     ]
    },
    {
     "name": "stdout",
     "output_type": "stream",
     "text": [
      "         Iterations 11\n",
      "1052.801501186288\n",
      "word_freq_day\n",
      "Optimization terminated successfully.\n",
      "         Current function value: 0.091064\n",
      "         Iterations 11\n",
      "1050.8192514721536\n",
      "word_freq_go\n",
      "Optimization terminated successfully.\n",
      "         Current function value: 0.091069\n",
      "         Iterations 11\n",
      "1048.867967823806\n",
      "word_freq_dont\n",
      "Optimization terminated successfully.\n",
      "         Current function value: 0.091080\n",
      "         Iterations 11\n",
      "1046.9987516065275\n",
      "word_freq_come\n",
      "Optimization terminated successfully.\n",
      "         Current function value: 0.091120\n",
      "         Iterations 11\n",
      "1045.4394448720998\n",
      "word_freq_take\n",
      "Optimization terminated successfully.\n",
      "         Current function value: 0.091180\n",
      "         Iterations 11\n",
      "1044.1081245022165\n",
      "word_freq_time\n",
      "Optimization terminated successfully.\n",
      "         Current function value: 0.091261\n",
      "         Iterations 11\n",
      "1043.009973580889\n",
      "word_freq_send\n",
      "Optimization terminated successfully.\n",
      "         Current function value: 0.091332\n",
      "         Iterations 11\n",
      "1041.805252364585\n",
      "word_freq_need\n",
      "Optimization terminated successfully.\n",
      "         Current function value: 0.091494\n",
      "         Iterations 11\n",
      "1041.6097515128067\n",
      "word_freq_going\n",
      "Optimization terminated successfully.\n",
      "         Current function value: 0.091765\n",
      "         Iterations 11\n",
      "1042.6304617980159\n",
      "word_freq_still\n",
      "Optimization terminated successfully.\n",
      "         Current function value: 0.092112\n",
      "         Iterations 10\n",
      "1044.4921206580443\n",
      "word_freq_love\n",
      "Optimization terminated successfully.\n",
      "         Current function value: 0.092502\n",
      "         Iterations 10\n",
      "1046.8384023261974\n",
      "word_freq_sorry\n",
      "Optimization terminated successfully.\n",
      "         Current function value: 0.092979\n",
      "         Iterations 9\n",
      "1050.1593483933716\n",
      "word_freq_ur\n",
      "Optimization terminated successfully.\n",
      "         Current function value: 0.093262\n",
      "         Iterations 9\n",
      "1051.313098615638\n"
     ]
    }
   ],
   "source": [
    "p_logit = mylogit.pvalues\n",
    "spam_temp_logit = spam.copy()\n",
    "\n",
    "while any(p_logit > 0.05):\n",
    "    worstp = p_logit.idxmax()\n",
    "    \n",
    "    print(worstp)\n",
    "    spam_temp_logit.drop(columns=worstp, inplace=True)\n",
    "    \n",
    "    formula = \"spam ~\"\n",
    "    \n",
    "    for column in spam_temp_logit.columns[1:]:\n",
    "        formula += f\" + {column}\"\n",
    "    \n",
    "    mylogit = sm.Logit.from_formula(formula, data=spam_temp_logit).fit()\n",
    "    p_logit = mylogit.pvalues\n",
    "    print(mylogit.aic)"
   ]
  },
  {
   "cell_type": "code",
   "execution_count": 267,
   "id": "c2ab1eef",
   "metadata": {},
   "outputs": [
    {
     "name": "stdout",
     "output_type": "stream",
     "text": [
      "                           Logit Regression Results                           \n",
      "==============================================================================\n",
      "Dep. Variable:                   spam   No. Observations:                 5572\n",
      "Model:                          Logit   Df Residuals:                     5566\n",
      "Method:                           MLE   Df Model:                            5\n",
      "Date:                Sun, 18 Jun 2023   Pseudo R-squ.:                  0.7633\n",
      "Time:                        23:42:18   Log-Likelihood:                -519.66\n",
      "converged:                       True   LL-Null:                       -2195.6\n",
      "Covariance Type:            nonrobust   LLR p-value:                     0.000\n",
      "=========================================================================================\n",
      "                            coef    std err          z      P>|z|      [0.025      0.975]\n",
      "-----------------------------------------------------------------------------------------\n",
      "Intercept                -4.4589      0.127    -34.977      0.000      -4.709      -4.209\n",
      "word_freq_call           -4.0560      1.688     -2.403      0.016      -7.364      -0.748\n",
      "word_freq_free            5.3216      0.729      7.303      0.000       3.893       6.750\n",
      "word_freq_text            4.0642      0.589      6.903      0.000       2.910       5.218\n",
      "word_freq_exclamation     4.6051      0.859      5.362      0.000       2.922       6.288\n",
      "word_freq_digit_count     0.6596      0.030     22.189      0.000       0.601       0.718\n",
      "=========================================================================================\n"
     ]
    }
   ],
   "source": [
    "print(mylogit.summary())"
   ]
  },
  {
   "cell_type": "markdown",
   "id": "63e3e9ea",
   "metadata": {},
   "source": [
    "It seems that the stepwise regression deletes almost all new variables as their signifficance is not passing the 5% threshold"
   ]
  },
  {
   "cell_type": "markdown",
   "id": "aa614327",
   "metadata": {},
   "source": [
    "## Link test"
   ]
  },
  {
   "cell_type": "code",
   "execution_count": 268,
   "id": "b1719c38",
   "metadata": {},
   "outputs": [],
   "source": [
    "def linktest_probit(model):\n",
    "    \"\"\"\n",
    "    Function to perform linktest on a logistic regression model.\n",
    "    \n",
    "    Args:\n",
    "    - model: logistic regression model object\n",
    "    \n",
    "    Returns:\n",
    "    - aux_reg: auxiliary regression model object\n",
    "    \"\"\"\n",
    "    \n",
    "    # Prepare the data\n",
    "    y = model.model.endog\n",
    "    pred = model.predict()\n",
    "    pred = np.clip(pred, 1e-12, 1 - 1e-12)\n",
    "    yhat = np.log(pred/(1-pred))\n",
    "    yhat2 = yhat**2\n",
    "\n",
    "    # Add constant column to predictor variables\n",
    "    X = np.column_stack((np.ones_like(y), yhat, yhat2))\n",
    "\n",
    "    # Remove rows with missing or infinite values\n",
    "    valid_idx = np.isfinite(X).all(axis=1)\n",
    "    X = X[valid_idx]\n",
    "    y = y[valid_idx]\n",
    "\n",
    "    # Fit the binomial regression model\n",
    "    model = sm.GLM(y, X, family=sm.families.Binomial(link=sm.genmod.families.links.probit()))\n",
    "    result = model.fit()\n",
    "    \n",
    "    return result\n",
    "\n",
    "def linktest_logit(model):\n",
    "    \"\"\"\n",
    "    Function to perform linktest on a logistic regression model.\n",
    "    \n",
    "    Args:\n",
    "    - model: logistic regression model object\n",
    "    \n",
    "    Returns:\n",
    "    - aux_reg: auxiliary regression model object\n",
    "    \"\"\"\n",
    "    \n",
    "    # Prepare the data\n",
    "    y = model.model.endog\n",
    "    pred = model.predict()\n",
    "    pred = np.clip(pred, 1e-12, 1 - 1e-12)\n",
    "    yhat = np.log(pred/(1-pred))\n",
    "    yhat2 = yhat**2\n",
    "\n",
    "    # Add constant column to predictor variables\n",
    "    X = np.column_stack((np.ones_like(y), yhat, yhat2))\n",
    "\n",
    "    # Remove rows with missing or infinite values\n",
    "    valid_idx = np.isfinite(X).all(axis=1)\n",
    "    X = X[valid_idx]\n",
    "    y = y[valid_idx]\n",
    "\n",
    "    # Fit the binomial regression model\n",
    "    model = sm.GLM(y, X, family=sm.families.Binomial(link=sm.genmod.families.links.logit()))\n",
    "    result = model.fit()\n",
    "    \n",
    "    return result"
   ]
  },
  {
   "cell_type": "code",
   "execution_count": 269,
   "id": "aed8d9f5",
   "metadata": {},
   "outputs": [
    {
     "name": "stdout",
     "output_type": "stream",
     "text": [
      "                 Generalized Linear Model Regression Results                  \n",
      "==============================================================================\n",
      "Dep. Variable:                      y   No. Observations:                 5572\n",
      "Model:                            GLM   Df Residuals:                     5569\n",
      "Model Family:                Binomial   Df Model:                            2\n",
      "Link Function:                 probit   Scale:                          1.0000\n",
      "Method:                          IRLS   Log-Likelihood:                -498.75\n",
      "Date:                Sun, 18 Jun 2023   Deviance:                       997.50\n",
      "Time:                        23:42:24   Pearson chi2:                 6.00e+04\n",
      "No. Iterations:                    10   Pseudo R-squ. (CS):             0.4561\n",
      "Covariance Type:            nonrobust                                         \n",
      "==============================================================================\n",
      "                 coef    std err          z      P>|z|      [0.025      0.975]\n",
      "------------------------------------------------------------------------------\n",
      "const          0.1035      0.068      1.533      0.125      -0.029       0.236\n",
      "x1             0.4932      0.017     28.757      0.000       0.460       0.527\n",
      "x2            -0.0149      0.001    -16.346      0.000      -0.017      -0.013\n",
      "==============================================================================\n"
     ]
    }
   ],
   "source": [
    "# Linktest for probit model - after stepwise regression\n",
    "linktest_result_probit = linktest_probit(myprobit)\n",
    "print(linktest_result_probit.summary())"
   ]
  },
  {
   "cell_type": "code",
   "execution_count": 270,
   "id": "c298020b",
   "metadata": {},
   "outputs": [
    {
     "name": "stdout",
     "output_type": "stream",
     "text": [
      "                 Generalized Linear Model Regression Results                  \n",
      "==============================================================================\n",
      "Dep. Variable:                      y   No. Observations:                 5572\n",
      "Model:                            GLM   Df Residuals:                     5569\n",
      "Model Family:                Binomial   Df Model:                            2\n",
      "Link Function:                  logit   Scale:                          1.0000\n",
      "Method:                          IRLS   Log-Likelihood:                -506.88\n",
      "Date:                Sun, 18 Jun 2023   Deviance:                       1013.8\n",
      "Time:                        23:42:25   Pearson chi2:                 4.31e+03\n",
      "No. Iterations:                     8   Pseudo R-squ. (CS):             0.4545\n",
      "Covariance Type:            nonrobust                                         \n",
      "==============================================================================\n",
      "                 coef    std err          z      P>|z|      [0.025      0.975]\n",
      "------------------------------------------------------------------------------\n",
      "const          0.2302      0.131      1.752      0.080      -0.027       0.488\n",
      "x1             0.9447      0.036     26.424      0.000       0.875       1.015\n",
      "x2            -0.0339      0.003    -11.359      0.000      -0.040      -0.028\n",
      "==============================================================================\n"
     ]
    }
   ],
   "source": [
    "# Linktest for logit model - after stepwise regression\n",
    "linktest_result_logit = linktest_logit(mylogit)\n",
    "print(linktest_result_logit.summary())"
   ]
  },
  {
   "cell_type": "markdown",
   "id": "e56c8ca0",
   "metadata": {},
   "source": [
    "For both models the yhat and  yhat squared were significant - it indicates that the specification is wrong"
   ]
  },
  {
   "cell_type": "markdown",
   "id": "0e119155",
   "metadata": {},
   "source": [
    "### Interaction terms\n",
    "Adding interaction terms and deleting insignificant ones for probit."
   ]
  },
  {
   "cell_type": "code",
   "execution_count": 271,
   "id": "43dc870d",
   "metadata": {},
   "outputs": [
    {
     "name": "stdout",
     "output_type": "stream",
     "text": [
      "Optimization terminated successfully.\n",
      "         Current function value: 0.339735\n",
      "         Iterations 8\n"
     ]
    }
   ],
   "source": [
    "formula_interactions = \"spam ~  word_freq_free * word_freq_exclamation  + word_freq_send \"\n",
    "myprobit = sm.Probit.from_formula(formula_interactions, data=spam).fit()\n",
    "p_probit = myprobit.pvalues\n",
    "spam_temp_probit = spam.copy()\n",
    "\n",
    "while any(p_probit > 0.05):\n",
    "    worstp = p_probit.idxmax()\n",
    "    \n",
    "    print(worstp)\n",
    "    spam_temp_probit.drop(columns=worstp, inplace=True)\n",
    "    \n",
    "    formula = formula_interactions\n",
    "    \n",
    "    for column in spam_temp_probit.columns[1:]:\n",
    "        formula += f\" + {column}\"\n",
    "    \n",
    "    myprobit = sm.Probit.from_formula(formula, data=spam_temp_probit).fit()\n",
    "    p_probit = myprobit.pvalues\n",
    "    print(myprobit.aic)\n"
   ]
  },
  {
   "cell_type": "code",
   "execution_count": 272,
   "id": "32f1a33a",
   "metadata": {},
   "outputs": [
    {
     "name": "stdout",
     "output_type": "stream",
     "text": [
      "                          Probit Regression Results                           \n",
      "==============================================================================\n",
      "Dep. Variable:                   spam   No. Observations:                 5572\n",
      "Model:                         Probit   Df Residuals:                     5567\n",
      "Method:                           MLE   Df Model:                            4\n",
      "Date:                Sun, 18 Jun 2023   Pseudo R-squ.:                  0.1378\n",
      "Time:                        23:42:29   Log-Likelihood:                -1893.0\n",
      "converged:                       True   LL-Null:                       -2195.6\n",
      "Covariance Type:            nonrobust   LLR p-value:                1.186e-129\n",
      "========================================================================================================\n",
      "                                           coef    std err          z      P>|z|      [0.025      0.975]\n",
      "--------------------------------------------------------------------------------------------------------\n",
      "Intercept                               -1.3616      0.026    -52.848      0.000      -1.412      -1.311\n",
      "word_freq_free                           3.0849      0.252     12.240      0.000       2.591       3.579\n",
      "word_freq_exclamation                    4.6667      0.290     16.104      0.000       4.099       5.235\n",
      "word_freq_free:word_freq_exclamation    80.1031     14.484      5.530      0.000      51.715     108.491\n",
      "word_freq_send                           1.1674      0.349      3.341      0.001       0.483       1.852\n",
      "========================================================================================================\n"
     ]
    }
   ],
   "source": [
    "print(myprobit.summary())"
   ]
  },
  {
   "cell_type": "code",
   "execution_count": 273,
   "id": "8bab63f6",
   "metadata": {},
   "outputs": [
    {
     "name": "stdout",
     "output_type": "stream",
     "text": [
      "Optimization terminated successfully.\n",
      "         Current function value: 0.340333\n",
      "         Iterations 9\n"
     ]
    }
   ],
   "source": [
    "mylogit = sm.Logit.from_formula(formula_interactions, data=spam).fit()\n",
    "p_logit = mylogit.pvalues\n",
    "spam_temp_probit = spam.copy()\n",
    "\n",
    "while any(p_logit > 0.05):\n",
    "    worstp = p_logit.idxmax()\n",
    "    \n",
    "    print(worstp)\n",
    "    spam_temp_logit.drop(columns=worstp, inplace=True)\n",
    "    \n",
    "    formula = formula_interactions\n",
    "    \n",
    "    for column in spam_temp_logit.columns[1:]:\n",
    "        formula += f\" + {column}\"\n",
    "    \n",
    "    mylogit = sm.Logit.from_formula(formula, data=spam_temp_logit).fit()\n",
    "    p_logit = mylogit.pvalues\n",
    "    print(mylogit.aic)"
   ]
  },
  {
   "cell_type": "code",
   "execution_count": 274,
   "id": "fd219e1d",
   "metadata": {},
   "outputs": [
    {
     "name": "stdout",
     "output_type": "stream",
     "text": [
      "                           Logit Regression Results                           \n",
      "==============================================================================\n",
      "Dep. Variable:                   spam   No. Observations:                 5572\n",
      "Model:                          Logit   Df Residuals:                     5567\n",
      "Method:                           MLE   Df Model:                            4\n",
      "Date:                Sun, 18 Jun 2023   Pseudo R-squ.:                  0.1363\n",
      "Time:                        23:42:35   Log-Likelihood:                -1896.3\n",
      "converged:                       True   LL-Null:                       -2195.6\n",
      "Covariance Type:            nonrobust   LLR p-value:                3.290e-128\n",
      "========================================================================================================\n",
      "                                           coef    std err          z      P>|z|      [0.025      0.975]\n",
      "--------------------------------------------------------------------------------------------------------\n",
      "Intercept                               -2.3404      0.051    -46.226      0.000      -2.440      -2.241\n",
      "word_freq_free                           6.1390      0.594     10.332      0.000       4.974       7.304\n",
      "word_freq_exclamation                    8.8380      0.585     15.116      0.000       7.692       9.984\n",
      "word_freq_free:word_freq_exclamation   136.6312     30.253      4.516      0.000      77.337     195.925\n",
      "word_freq_send                           1.9587      0.590      3.321      0.001       0.803       3.114\n",
      "========================================================================================================\n"
     ]
    }
   ],
   "source": [
    "print(mylogit.summary())"
   ]
  },
  {
   "cell_type": "code",
   "execution_count": 275,
   "id": "d2312e58",
   "metadata": {},
   "outputs": [
    {
     "name": "stdout",
     "output_type": "stream",
     "text": [
      "Probit likelihood ratio test p-value: 1.2652102247811568e-133\n"
     ]
    }
   ],
   "source": [
    "probit_lrtest = stats.chi2.sf(2 * (myprobit.llf - null_probit.llf), 1)\n",
    "print(\"Probit likelihood ratio test p-value:\", probit_lrtest)"
   ]
  },
  {
   "cell_type": "code",
   "execution_count": 276,
   "id": "6efd3d06",
   "metadata": {},
   "outputs": [
    {
     "name": "stdout",
     "output_type": "stream",
     "text": [
      "Logit likelihood ratio test p-value: 3.567628329112654e-132\n"
     ]
    }
   ],
   "source": [
    "logit_lrtest = stats.chi2.sf(2 * (mylogit.llf - null_logit.llf), 1)\n",
    "print(\"Logit likelihood ratio test p-value:\", logit_lrtest)"
   ]
  },
  {
   "cell_type": "code",
   "execution_count": 277,
   "id": "ebf09555",
   "metadata": {},
   "outputs": [
    {
     "name": "stdout",
     "output_type": "stream",
     "text": [
      "                 Generalized Linear Model Regression Results                  \n",
      "==============================================================================\n",
      "Dep. Variable:                      y   No. Observations:                 5572\n",
      "Model:                            GLM   Df Residuals:                     5569\n",
      "Model Family:                Binomial   Df Model:                            2\n",
      "Link Function:                 probit   Scale:                          1.0000\n",
      "Method:                          IRLS   Log-Likelihood:                -1866.7\n",
      "Date:                Sun, 18 Jun 2023   Deviance:                       3733.3\n",
      "Time:                        23:43:08   Pearson chi2:                 7.95e+03\n",
      "No. Iterations:                     9   Pseudo R-squ. (CS):             0.1114\n",
      "Covariance Type:            nonrobust                                         \n",
      "==============================================================================\n",
      "                 coef    std err          z      P>|z|      [0.025      0.975]\n",
      "------------------------------------------------------------------------------\n",
      "const          0.0758      0.064      1.180      0.238      -0.050       0.202\n",
      "x1             0.5770      0.028     20.431      0.000       0.522       0.632\n",
      "x2            -0.0203      0.001    -14.468      0.000      -0.023      -0.018\n",
      "==============================================================================\n"
     ]
    }
   ],
   "source": [
    "# Linktest for probit model - after stepwise regression\n",
    "linktest_result_probit = linktest_probit(myprobit)\n",
    "print(linktest_result_probit.summary())"
   ]
  },
  {
   "cell_type": "code",
   "execution_count": null,
   "id": "a8cde6cc",
   "metadata": {},
   "outputs": [
    {
     "name": "stdout",
     "output_type": "stream",
     "text": [
      "                 Generalized Linear Model Regression Results                  \n",
      "==============================================================================\n",
      "Dep. Variable:                      y   No. Observations:                 5572\n",
      "Model:                            GLM   Df Residuals:                     5569\n",
      "Model Family:                Binomial   Df Model:                            2\n",
      "Link Function:                  logit   Scale:                          1.0000\n",
      "Method:                          IRLS   Log-Likelihood:                -1874.7\n",
      "Date:                Sun, 18 Jun 2023   Deviance:                       3749.5\n",
      "Time:                        23:00:37   Pearson chi2:                 5.55e+03\n",
      "No. Iterations:                     7   Pseudo R-squ. (CS):             0.1088\n",
      "Covariance Type:            nonrobust                                         \n",
      "==============================================================================\n",
      "                 coef    std err          z      P>|z|      [0.025      0.975]\n",
      "------------------------------------------------------------------------------\n",
      "const          0.1382      0.104      1.324      0.185      -0.066       0.343\n",
      "x1             0.9912      0.048     20.616      0.000       0.897       1.085\n",
      "x2            -0.0375      0.003    -11.095      0.000      -0.044      -0.031\n",
      "==============================================================================\n"
     ]
    }
   ],
   "source": [
    "# Linktest for logit model - after stepwise regression\n",
    "linktest_result_logit = linktest_logit(mylogit)\n",
    "print(linktest_result_logit.summary())"
   ]
  },
  {
   "cell_type": "markdown",
   "id": "1d07ec3e",
   "metadata": {},
   "source": [
    "It seems that including the set of words that we have chosen, even with interaction terms are not sufficient enough to pass the specification Link test. Most probably the set of words should be updated with different keywords. However, let us continue with the steps that were executed for the initial project."
   ]
  },
  {
   "cell_type": "markdown",
   "id": "1841771c",
   "metadata": {},
   "source": [
    "### Other tests (goodness of fit & specification) for new data and new words"
   ]
  },
  {
   "cell_type": "code",
   "execution_count": 278,
   "id": "c2aba1ca",
   "metadata": {},
   "outputs": [
    {
     "name": "stdout",
     "output_type": "stream",
     "text": [
      "Intercept                               0.000000e+00\n",
      "word_freq_free                          1.427736e-26\n",
      "word_freq_exclamation                   1.769530e-50\n",
      "word_freq_free:word_freq_exclamation    1.710706e-05\n",
      "word_freq_send                          1.309985e-03\n",
      "word_freq_get                           3.225381e-02\n",
      "word_freq_ur                            9.726582e-05\n",
      "word_freq_get:word_freq_ur              8.443402e-01\n",
      "word_freq_still                         7.665286e-03\n",
      "word_freq_sorry                         1.253296e-03\n",
      "dtype: float64\n",
      "Intercept                               0.000000e+00\n",
      "word_freq_free                          1.892276e-34\n",
      "word_freq_exclamation                   2.398555e-58\n",
      "word_freq_free:word_freq_exclamation    3.194177e-08\n",
      "word_freq_send                          8.336926e-04\n",
      "dtype: float64\n"
     ]
    }
   ],
   "source": [
    "formula_interactions = \"spam ~  word_freq_free * word_freq_exclamation  + word_freq_send + word_freq_get*word_freq_ur + word_freq_still + word_freq_sorry\"\n",
    "\n",
    "mylogit = sm.formula.glm(formula_interactions, data=spam, family=sm.families.Binomial(sm.genmod.families.links.logit())).fit()\n",
    "\n",
    "p = mylogit.pvalues\n",
    "print(p)\n",
    "\n",
    "mylogit = sm.formula.glm(formula_interactions, data=spam, family=sm.families.Binomial(sm.genmod.families.links.probit())).fit()\n",
    "\n",
    "p = myprobit.pvalues\n",
    "print(p)"
   ]
  },
  {
   "cell_type": "code",
   "execution_count": 279,
   "id": "a2ccf8e1",
   "metadata": {},
   "outputs": [],
   "source": [
    "i = 1\n",
    "while any(p > 0.05):\n",
    "    worstp = p.idxmax()\n",
    "    print(worstp)\n",
    "\n",
    "    if i == 1:\n",
    "        # Remove the outcome variable from the formula\n",
    "        formula_interactions = formula_interactions.replace(\"spam ~ \", \"\")\n",
    "\n",
    "        # Create the design matrix with interaction terms\n",
    "        X = patsy.dmatrix(formula_interactions, data=spam)\n",
    "\n",
    "        # Convert the design matrix to a DataFrame\n",
    "        X = pd.DataFrame(X, columns=X.design_info.column_names)\n",
    "        i=2\n",
    "    else:\n",
    "        X = X.drop(worstp, axis=1)\n",
    "        X_names = ['Intercept'] + list(X.columns)[1:]\n",
    "        X.columns = X_names\n",
    "\n",
    "        myprobit = sm.Probit(spam['spam'], X).fit()\n",
    "\n",
    "        print(myprobit.summary())\n",
    "        p = myprobit.pvalues\n",
    "        print(myprobit.aic)"
   ]
  },
  {
   "cell_type": "code",
   "execution_count": 280,
   "id": "498eb698",
   "metadata": {},
   "outputs": [
    {
     "name": "stdout",
     "output_type": "stream",
     "text": [
      "                          Probit Regression Results                           \n",
      "==============================================================================\n",
      "Dep. Variable:                   spam   No. Observations:                 5572\n",
      "Model:                         Probit   Df Residuals:                     5567\n",
      "Method:                           MLE   Df Model:                            4\n",
      "Date:                Sun, 18 Jun 2023   Pseudo R-squ.:                  0.1378\n",
      "Time:                        23:43:35   Log-Likelihood:                -1893.0\n",
      "converged:                       True   LL-Null:                       -2195.6\n",
      "Covariance Type:            nonrobust   LLR p-value:                1.186e-129\n",
      "========================================================================================================\n",
      "                                           coef    std err          z      P>|z|      [0.025      0.975]\n",
      "--------------------------------------------------------------------------------------------------------\n",
      "Intercept                               -1.3616      0.026    -52.848      0.000      -1.412      -1.311\n",
      "word_freq_free                           3.0849      0.252     12.240      0.000       2.591       3.579\n",
      "word_freq_exclamation                    4.6667      0.290     16.104      0.000       4.099       5.235\n",
      "word_freq_free:word_freq_exclamation    80.1031     14.484      5.530      0.000      51.715     108.491\n",
      "word_freq_send                           1.1674      0.349      3.341      0.001       0.483       1.852\n",
      "========================================================================================================\n"
     ]
    }
   ],
   "source": [
    "print(myprobit.summary())"
   ]
  },
  {
   "cell_type": "code",
   "execution_count": null,
   "id": "f044ec16",
   "metadata": {},
   "outputs": [],
   "source": [
    "i = 1\n",
    "while any(p > 0.05):\n",
    "    worstp = p.idxmax()\n",
    "    print(worstp)\n",
    "\n",
    "    if i == 1:\n",
    "        # Remove the outcome variable from the formula\n",
    "        formula_interactions = formula_interactions.replace(\"spam ~ \", \"\")\n",
    "\n",
    "        # Create the design matrix with interaction terms\n",
    "        X = patsy.dmatrix(formula_interactions, data=spam)\n",
    "\n",
    "        # Convert the design matrix to a DataFrame\n",
    "        X = pd.DataFrame(X, columns=X.design_info.column_names)\n",
    "        i=2\n",
    "    else:\n",
    "        X = X.drop(worstp, axis=1)\n",
    "        X_names = ['Intercept'] + list(X.columns)[1:]\n",
    "        X.columns = X_names\n",
    "\n",
    "        mylogit = sm.GLM(spam['spam'], X, family=sm.families.Binomial(sm.families.links.logit())).fit()\n",
    "\n",
    "        print(mylogit.summary())\n",
    "        p = mylogit.pvalues\n",
    "        print(mylogit.aic)"
   ]
  },
  {
   "cell_type": "code",
   "execution_count": 281,
   "id": "91b2ada1",
   "metadata": {},
   "outputs": [
    {
     "name": "stdout",
     "output_type": "stream",
     "text": [
      "                 Generalized Linear Model Regression Results                  \n",
      "==============================================================================\n",
      "Dep. Variable:                   spam   No. Observations:                 5572\n",
      "Model:                            GLM   Df Residuals:                     5562\n",
      "Model Family:                Binomial   Df Model:                            9\n",
      "Link Function:                 probit   Scale:                          1.0000\n",
      "Method:                          IRLS   Log-Likelihood:                -1862.2\n",
      "Date:                Sun, 18 Jun 2023   Deviance:                       3724.5\n",
      "Time:                        23:43:49   Pearson chi2:                 7.77e+03\n",
      "No. Iterations:                    19   Pseudo R-squ. (CS):             0.1128\n",
      "Covariance Type:            nonrobust                                         \n",
      "========================================================================================================\n",
      "                                           coef    std err          z      P>|z|      [0.025      0.975]\n",
      "--------------------------------------------------------------------------------------------------------\n",
      "Intercept                               -1.3423      0.027    -49.725      0.000      -1.395      -1.289\n",
      "word_freq_free                           3.2048      0.323      9.925      0.000       2.572       3.838\n",
      "word_freq_exclamation                    4.6332      0.337     13.745      0.000       3.973       5.294\n",
      "word_freq_free:word_freq_exclamation    76.5106     15.298      5.001      0.000      46.527     106.495\n",
      "word_freq_send                           1.1186      0.340      3.288      0.001       0.452       1.785\n",
      "word_freq_get                           -1.3369      0.548     -2.438      0.015      -2.412      -0.262\n",
      "word_freq_ur                             1.3363      0.324      4.118      0.000       0.700       1.972\n",
      "word_freq_get:word_freq_ur               1.3502      6.510      0.207      0.836     -11.409      14.109\n",
      "word_freq_still                         -2.6300      0.945     -2.783      0.005      -4.482      -0.778\n",
      "word_freq_sorry                         -3.4420      1.068     -3.224      0.001      -5.535      -1.349\n",
      "========================================================================================================\n"
     ]
    }
   ],
   "source": [
    "print(mylogit.summary())"
   ]
  },
  {
   "cell_type": "markdown",
   "id": "f35c2695",
   "metadata": {},
   "source": [
    "### Goodnes of fit tests\n",
    "\n",
    "Based on the Pseud R squared it seems that the model with new words right now is very poor quality"
   ]
  },
  {
   "cell_type": "code",
   "execution_count": 282,
   "id": "694ae980",
   "metadata": {},
   "outputs": [
    {
     "name": "stdout",
     "output_type": "stream",
     "text": [
      "Logit | Goodness-of-Fit Test:\n",
      "Logit | Deviance:  3724.4546891739965\n"
     ]
    }
   ],
   "source": [
    "gof_results = mylogit.deviance\n",
    "print(\"Logit | Goodness-of-Fit Test:\")\n",
    "print(\"Logit | Deviance: \", gof_results)"
   ]
  },
  {
   "cell_type": "code",
   "execution_count": 283,
   "id": "c4194f1f",
   "metadata": {},
   "outputs": [
    {
     "name": "stdout",
     "output_type": "stream",
     "text": [
      "Logit | Pseudo R-squared:  0.15182947635330224\n",
      "Probit | Pseudo R-squared:  0.13781243162991286\n"
     ]
    }
   ],
   "source": [
    "pseudo_r2 = 1 - (mylogit.llf / mylogit.llnull)\n",
    "print(\"Logit | Pseudo R-squared: \", pseudo_r2)\n",
    "\n",
    "pseudo_r2 = 1 - (myprobit.llf / myprobit.llnull)\n",
    "print(\"Probit | Pseudo R-squared: \", pseudo_r2)"
   ]
  },
  {
   "cell_type": "code",
   "execution_count": 284,
   "id": "626d0668",
   "metadata": {},
   "outputs": [
    {
     "name": "stdout",
     "output_type": "stream",
     "text": [
      "Count Pseudo R-squared:  0.8752692031586504\n"
     ]
    }
   ],
   "source": [
    "pred_probs = mylogit.predict()\n",
    "y_observed = mylogit.model.endog\n",
    "\n",
    "# Round predicted probabilities to 0 or 1 based on the cutoff of 0.50\n",
    "pred_classes = np.where(pred_probs > 0.50, 1, 0)\n",
    "\n",
    "# Calculate the number of correctly classified cases\n",
    "correctly_classified = np.sum(pred_classes == y_observed)\n",
    "\n",
    "# Calculate the total number of cases\n",
    "total_cases = len(y_observed)\n",
    "\n",
    "# Calculate the count pseudo R-squared\n",
    "count_r2 = correctly_classified / total_cases\n",
    "\n",
    "# Calculate the number of predictors in the model\n",
    "p = result.df_model\n",
    "\n",
    "# Print the pseudo R-squared statistics\n",
    "print(\"Count Pseudo R-squared: \", count_r2)"
   ]
  },
  {
   "cell_type": "markdown",
   "id": "2e8c9a06",
   "metadata": {},
   "source": [
    "#### In the end, the analysis found three main indicators that an e-mail contains spam: the word 'free', the exclamation mark, and the word 'send'. In addition, an e-mail containing both 'free' and '!' was verly likely a spam message.\n",
    "\n",
    "#### The low number of variables might be due to the type of conversations included in the dataset - as they concerned typical day-to-day topics, financial topics were often present in the non-spam part of the data."
   ]
  },
  {
   "cell_type": "markdown",
   "id": "1c82b698",
   "metadata": {},
   "source": [
    "### The analysis using the new word list was limited due to low variances in word frequencies and more varied text corpus'.The probit and logit models performed much worse even after applying the general to specific framework. The replication of our approach on a new dataset was more challenging – the key to improving results was updating the list of words, which confirms our initial observation that language in both real conversations and spam e-mail evolves."
   ]
  },
  {
   "cell_type": "markdown",
   "id": "b8003849",
   "metadata": {},
   "source": [
    "# New Data Old Words\n",
    "\n",
    "In this part of the analysis we will try to recreate the previous research on the new data directly."
   ]
  },
  {
   "cell_type": "code",
   "execution_count": null,
   "id": "ca39b025",
   "metadata": {},
   "outputs": [],
   "source": [
    "spam_previous_words = pd.read_csv(\"new_data_old_words.csv\")\n",
    "spam_previous_words.dropna(inplace = True)\n",
    "\n",
    "#Renaming character columns to a less error-prone form\n",
    "spam_previous_words.rename(columns = {'$':'dollar',\n",
    "                       '!': 'exclamation',\n",
    "                      \"#\": \"hashtag\",\n",
    "                       \"(\":\"parenthesis\",\n",
    "                       \"[\": \"brackets\",\n",
    "                       \";\": \"semicolon\",\n",
    "                       \"€\": \"euro\",\n",
    "                       \"@\": \"at\", \n",
    "                       \"?\": \"question\"\n",
    "                      }, inplace = True)\n",
    "\n",
    "#Drop columns not neccessary to the analysis\n",
    "spam_previous_words.drop(columns=['Unnamed: 0', 'processed_text', 'word_count'], inplace = True)\n",
    "\n",
    "#Rename columns to include word_freq\n",
    "column_names = spam_previous_words.columns.tolist()\n",
    "new_column_names = ['spam'] + ['word_freq_' + column if column != 'spam' else column for column in column_names[1:]]\n",
    "\n",
    "spam_previous_words.rename(columns=dict(zip(column_names, new_column_names)), inplace=True)\n",
    "\n",
    "#Convert the dependent variable to a numeric one\n",
    "spam_previous_words['spam'] = spam_previous_words['spam'].replace({\n",
    "    'spam': 1,\n",
    "    'ham': 0})"
   ]
  },
  {
   "cell_type": "code",
   "execution_count": null,
   "id": "a7c13e1d",
   "metadata": {},
   "outputs": [
    {
     "data": {
      "text/plain": [
       "<bound method NDFrame.describe of       spam  word_freq_make  word_freq_address  word_freq_all  word_freq_3d  \\\n",
       "0        0             0.0                0.0           0.00           0.0   \n",
       "1        0             0.0                0.0           0.00           0.0   \n",
       "2        1             0.0                0.0           0.00           0.0   \n",
       "3        0             0.0                0.0           0.00           0.0   \n",
       "4        0             0.0                0.0           0.00           0.0   \n",
       "...    ...             ...                ...            ...           ...   \n",
       "5567     1             0.0                0.0           0.04           0.0   \n",
       "5568     0             0.0                0.0           0.00           0.0   \n",
       "5569     0             0.0                0.0           0.00           0.0   \n",
       "5570     0             0.0                0.0           0.00           0.0   \n",
       "5571     0             0.0                0.0           0.00           0.0   \n",
       "\n",
       "      word_freq_our  word_freq_over  word_freq_remove  word_freq_internet  \\\n",
       "0               0.0        0.000000               0.0                 0.0   \n",
       "1               0.0        0.000000               0.0                 0.0   \n",
       "2               0.0        0.033333               0.0                 0.0   \n",
       "3               0.0        0.000000               0.0                 0.0   \n",
       "4               0.0        0.000000               0.0                 0.0   \n",
       "...             ...             ...               ...                 ...   \n",
       "5567            0.0        0.000000               0.0                 0.0   \n",
       "5568            0.0        0.000000               0.0                 0.0   \n",
       "5569            0.0        0.000000               0.0                 0.0   \n",
       "5570            0.0        0.000000               0.0                 0.0   \n",
       "5571            0.0        0.000000               0.0                 0.0   \n",
       "\n",
       "      word_freq_order  ...  word_freq_re  word_freq_edu  word_freq_table  \\\n",
       "0                 0.0  ...      0.100000            0.0              0.0   \n",
       "1                 0.0  ...      0.000000            0.0              0.0   \n",
       "2                 0.0  ...      0.066667            0.0              0.0   \n",
       "3                 0.0  ...      0.090909            0.0              0.0   \n",
       "4                 0.0  ...      0.000000            0.0              0.0   \n",
       "...               ...  ...           ...            ...              ...   \n",
       "5567              0.0  ...      0.000000            0.0              0.0   \n",
       "5568              0.0  ...      0.000000            0.0              0.0   \n",
       "5569              0.0  ...      0.000000            0.0              0.0   \n",
       "5570              0.0  ...      0.142857            0.0              0.0   \n",
       "5571              0.0  ...      0.000000            0.0              0.0   \n",
       "\n",
       "      word_freq_conference  word_freq_semicolon  word_freq_parenthesis  \\\n",
       "0                      0.0                  0.0               0.000000   \n",
       "1                      0.0                  0.0               0.000000   \n",
       "2                      0.0                  0.0               0.033333   \n",
       "3                      0.0                  0.0               0.000000   \n",
       "4                      0.0                  0.0               0.000000   \n",
       "...                    ...                  ...                    ...   \n",
       "5567                   0.0                  0.0               0.000000   \n",
       "5568                   0.0                  0.0               0.000000   \n",
       "5569                   0.0                  0.0               0.000000   \n",
       "5570                   0.0                  0.0               0.000000   \n",
       "5571                   0.0                  0.0               0.000000   \n",
       "\n",
       "      word_freq_brackets  word_freq_exclamation  word_freq_dollar  \\\n",
       "0                    0.0                   0.00               0.0   \n",
       "1                    0.0                   0.00               0.0   \n",
       "2                    0.0                   0.00               0.0   \n",
       "3                    0.0                   0.00               0.0   \n",
       "4                    0.0                   0.00               0.0   \n",
       "...                  ...                    ...               ...   \n",
       "5567                 0.0                   0.04               0.0   \n",
       "5568                 0.0                   0.00               0.0   \n",
       "5569                 0.0                   0.00               0.0   \n",
       "5570                 0.0                   0.00               0.0   \n",
       "5571                 0.0                   0.00               0.0   \n",
       "\n",
       "      word_freq_hashtag  \n",
       "0                   0.0  \n",
       "1                   0.0  \n",
       "2                   0.0  \n",
       "3                   0.0  \n",
       "4                   0.0  \n",
       "...                 ...  \n",
       "5567                0.0  \n",
       "5568                0.0  \n",
       "5569                0.0  \n",
       "5570                0.0  \n",
       "5571                0.0  \n",
       "\n",
       "[5572 rows x 55 columns]>"
      ]
     },
     "execution_count": 227,
     "metadata": {},
     "output_type": "execute_result"
    }
   ],
   "source": [
    "spam_previous_words.describe"
   ]
  },
  {
   "cell_type": "markdown",
   "id": "72335d16",
   "metadata": {},
   "source": [
    "We once again remove the columns with very low variances to ensure that the selected models run smoothly. We decrease the treshold as the previously used words are less frequently found in the new dataset. "
   ]
  },
  {
   "cell_type": "code",
   "execution_count": null,
   "id": "ab3f727b",
   "metadata": {},
   "outputs": [
    {
     "data": {
      "text/plain": [
       "spam                     0.116111\n",
       "word_freq_make           0.000206\n",
       "word_freq_all            0.002106\n",
       "word_freq_our            0.000249\n",
       "word_freq_free           0.000335\n",
       "word_freq_meeting        0.000171\n",
       "word_freq_re             0.005786\n",
       "word_freq_edu            0.000193\n",
       "word_freq_semicolon      0.000912\n",
       "word_freq_exclamation    0.002293\n",
       "word_freq_hashtag        0.000174\n",
       "dtype: float64"
      ]
     },
     "execution_count": 229,
     "metadata": {},
     "output_type": "execute_result"
    }
   ],
   "source": [
    "variance = spam_previous_words.var()\n",
    "\n",
    "# Set the threshold value\n",
    "threshold = 0.00017\n",
    "\n",
    "# Filter columns based on variance threshold\n",
    "filtered_columns = variance[variance >= threshold].index\n",
    "\n",
    "# Create a new DataFrame with selected columns\n",
    "spam_previous_words = spam_previous_words[filtered_columns]\n",
    "\n",
    "spam_previous_words.var()"
   ]
  },
  {
   "cell_type": "markdown",
   "id": "d970976d",
   "metadata": {},
   "source": [
    "## Start from the most general model that contains all explanatory variables"
   ]
  },
  {
   "cell_type": "code",
   "execution_count": null,
   "id": "125e3578",
   "metadata": {},
   "outputs": [],
   "source": [
    "formula = \"spam ~ \" + \" + \".join(spam_previous_words.columns[1:])"
   ]
  },
  {
   "cell_type": "markdown",
   "id": "b1ab2444",
   "metadata": {},
   "source": [
    "### Probit model\n",
    "---"
   ]
  },
  {
   "cell_type": "code",
   "execution_count": null,
   "id": "f6a8c10b",
   "metadata": {},
   "outputs": [
    {
     "name": "stdout",
     "output_type": "stream",
     "text": [
      "Warning: Maximum number of iterations has been exceeded.\n",
      "         Current function value: 0.346699\n",
      "         Iterations: 35\n",
      "                          Probit Regression Results                           \n",
      "==============================================================================\n",
      "Dep. Variable:                   spam   No. Observations:                 5572\n",
      "Model:                         Probit   Df Residuals:                     5561\n",
      "Method:                           MLE   Df Model:                           10\n",
      "Date:                Sun, 18 Jun 2023   Pseudo R-squ.:                  0.1201\n",
      "Time:                        23:36:40   Log-Likelihood:                -1931.8\n",
      "converged:                      False   LL-Null:                       -2195.6\n",
      "Covariance Type:            nonrobust   LLR p-value:                5.689e-107\n",
      "=========================================================================================\n",
      "                            coef    std err          z      P>|z|      [0.025      0.975]\n",
      "-----------------------------------------------------------------------------------------\n",
      "Intercept                -1.3365      0.030    -44.156      0.000      -1.396      -1.277\n",
      "word_freq_make           -2.8613      2.004     -1.428      0.153      -6.788       1.066\n",
      "word_freq_all             3.4102      0.418      8.157      0.000       2.591       4.230\n",
      "word_freq_our            -1.5310      1.753     -0.873      0.383      -4.967       1.905\n",
      "word_freq_free           13.3079      0.943     14.117      0.000      11.460      15.156\n",
      "word_freq_meeting       -63.2651    258.498     -0.245      0.807    -569.913     443.382\n",
      "word_freq_re              0.6952      0.293      2.370      0.018       0.120       1.270\n",
      "word_freq_edu             0.0336      1.786      0.019      0.985      -3.467       3.534\n",
      "word_freq_semicolon     -15.5432      3.426     -4.536      0.000     -22.259      -8.828\n",
      "word_freq_exclamation     3.9516      0.382     10.334      0.000       3.202       4.701\n",
      "word_freq_hashtag         8.6956      5.876      1.480      0.139      -2.821      20.212\n",
      "=========================================================================================\n"
     ]
    },
    {
     "name": "stderr",
     "output_type": "stream",
     "text": [
      "c:\\Users\\justy\\AppData\\Local\\Programs\\Python\\Python39\\lib\\site-packages\\statsmodels\\base\\model.py:604: ConvergenceWarning: Maximum Likelihood optimization failed to converge. Check mle_retvals\n",
      "  warnings.warn(\"Maximum Likelihood optimization failed to \"\n"
     ]
    }
   ],
   "source": [
    "myprobit = sm.Probit.from_formula(formula, data=spam_previous_words).fit()\n",
    "print(myprobit.summary())"
   ]
  },
  {
   "cell_type": "markdown",
   "id": "d5904585",
   "metadata": {},
   "source": [
    "### Logit model\n",
    "---"
   ]
  },
  {
   "cell_type": "code",
   "execution_count": null,
   "id": "ace24a47",
   "metadata": {},
   "outputs": [
    {
     "name": "stdout",
     "output_type": "stream",
     "text": [
      "Warning: Maximum number of iterations has been exceeded.\n",
      "         Current function value: 0.345718\n",
      "         Iterations: 35\n",
      "                           Logit Regression Results                           \n",
      "==============================================================================\n",
      "Dep. Variable:                   spam   No. Observations:                 5572\n",
      "Model:                          Logit   Df Residuals:                     5561\n",
      "Method:                           MLE   Df Model:                           10\n",
      "Date:                Sun, 18 Jun 2023   Pseudo R-squ.:                  0.1226\n",
      "Time:                        23:36:43   Log-Likelihood:                -1926.3\n",
      "converged:                      False   LL-Null:                       -2195.6\n",
      "Covariance Type:            nonrobust   LLR p-value:                2.607e-109\n",
      "=========================================================================================\n",
      "                            coef    std err          z      P>|z|      [0.025      0.975]\n",
      "-----------------------------------------------------------------------------------------\n",
      "Intercept                -2.2665      0.057    -39.851      0.000      -2.378      -2.155\n",
      "word_freq_make           -5.0935      3.852     -1.322      0.186     -12.643       2.456\n",
      "word_freq_all             5.9660      0.719      8.301      0.000       4.557       7.375\n",
      "word_freq_our            -3.1607      3.407     -0.928      0.353      -9.837       3.516\n",
      "word_freq_free           30.6567      2.325     13.185      0.000      26.100      35.214\n",
      "word_freq_meeting      -355.2737   1.48e+04     -0.024      0.981   -2.94e+04    2.86e+04\n",
      "word_freq_re              1.0368      0.521      1.988      0.047       0.015       2.059\n",
      "word_freq_edu             0.1133      3.141      0.036      0.971      -6.043       6.269\n",
      "word_freq_semicolon     -39.6419      9.498     -4.174      0.000     -58.258     -21.026\n",
      "word_freq_exclamation     6.4094      0.660      9.710      0.000       5.116       7.703\n",
      "word_freq_hashtag        22.0823     11.556      1.911      0.056      -0.566      44.731\n",
      "=========================================================================================\n"
     ]
    },
    {
     "name": "stderr",
     "output_type": "stream",
     "text": [
      "c:\\Users\\justy\\AppData\\Local\\Programs\\Python\\Python39\\lib\\site-packages\\statsmodels\\base\\model.py:604: ConvergenceWarning: Maximum Likelihood optimization failed to converge. Check mle_retvals\n",
      "  warnings.warn(\"Maximum Likelihood optimization failed to \"\n"
     ]
    }
   ],
   "source": [
    "mylogit = sm.Logit.from_formula(formula, data=spam_previous_words).fit()\n",
    "print(mylogit.summary())"
   ]
  },
  {
   "cell_type": "markdown",
   "id": "f8616469",
   "metadata": {},
   "source": [
    "# Significance test of models\n",
    "\n",
    "Both models p-values are below the 0.05 treshold, so the null hypothesis can be rejected. It means that the model`s coefficients are jointly significant"
   ]
  },
  {
   "cell_type": "markdown",
   "id": "b289a9b0",
   "metadata": {},
   "source": [
    "### Stepwise regression"
   ]
  },
  {
   "cell_type": "code",
   "execution_count": null,
   "id": "0faf5420",
   "metadata": {},
   "outputs": [
    {
     "name": "stdout",
     "output_type": "stream",
     "text": [
      "Optimization terminated successfully.\n",
      "         Current function value: 0.394038\n",
      "         Iterations 5\n",
      "Probit likelihood ratio test p-value: 9.630820582495782e-117\n"
     ]
    }
   ],
   "source": [
    "null_probit = sm.Probit(spam_previous_words[\"spam\"], sm.add_constant(pd.Series([1] * len(spam_previous_words)))).fit()\n",
    "probit_lrtest = stats.chi2.sf(2 * (myprobit.llf - null_probit.llf), 1)\n",
    "print(\"Probit likelihood ratio test p-value:\", probit_lrtest)"
   ]
  },
  {
   "cell_type": "code",
   "execution_count": null,
   "id": "80487f33",
   "metadata": {},
   "outputs": [
    {
     "name": "stdout",
     "output_type": "stream",
     "text": [
      "Optimization terminated successfully.\n",
      "         Current function value: 0.394038\n",
      "         Iterations 5\n",
      "Logit likelihood ratio test p-value: 4.026157970991869e-119\n"
     ]
    }
   ],
   "source": [
    "null_logit = sm.Probit(spam_previous_words[\"spam\"], sm.add_constant(pd.Series([1] * len(spam_previous_words)))).fit()\n",
    "logit_lrtest = stats.chi2.sf(2 * (mylogit.llf - null_logit.llf), 1)\n",
    "print(\"Logit likelihood ratio test p-value:\", logit_lrtest)"
   ]
  },
  {
   "cell_type": "code",
   "execution_count": null,
   "id": "2e4c97ce",
   "metadata": {},
   "outputs": [
    {
     "name": "stdout",
     "output_type": "stream",
     "text": [
      "word_freq_edu\n",
      "Warning: Maximum number of iterations has been exceeded.\n",
      "         Current function value: 0.346699\n",
      "         Iterations: 35\n",
      "3883.611568279135\n",
      "word_freq_meeting\n"
     ]
    },
    {
     "name": "stderr",
     "output_type": "stream",
     "text": [
      "c:\\Users\\justy\\AppData\\Local\\Programs\\Python\\Python39\\lib\\site-packages\\statsmodels\\base\\model.py:604: ConvergenceWarning: Maximum Likelihood optimization failed to converge. Check mle_retvals\n",
      "  warnings.warn(\"Maximum Likelihood optimization failed to \"\n"
     ]
    },
    {
     "name": "stdout",
     "output_type": "stream",
     "text": [
      "Optimization terminated successfully.\n",
      "         Current function value: 0.347861\n",
      "         Iterations 9\n",
      "3894.5620657017016\n",
      "word_freq_our\n",
      "Optimization terminated successfully.\n",
      "         Current function value: 0.347931\n",
      "         Iterations 9\n",
      "3893.347126774049\n",
      "word_freq_make\n",
      "Optimization terminated successfully.\n",
      "         Current function value: 0.348152\n",
      "         Iterations 9\n",
      "3893.801264632376\n",
      "word_freq_hashtag\n",
      "Optimization terminated successfully.\n",
      "         Current function value: 0.348337\n",
      "         Iterations 9\n",
      "3893.8690589270027\n"
     ]
    }
   ],
   "source": [
    "p_probit = myprobit.pvalues\n",
    "spam_temp_probit = spam_previous_words.copy()\n",
    "\n",
    "while any(p_probit > 0.05):\n",
    "    worstp = p_probit.idxmax()\n",
    "    \n",
    "    print(worstp)\n",
    "    spam_temp_probit.drop(columns=worstp, inplace=True)\n",
    "    \n",
    "    formula = \"spam ~\"\n",
    "    \n",
    "    for column in spam_temp_probit.columns[1:]:\n",
    "        formula += f\" + {column}\"\n",
    "    \n",
    "    myprobit = sm.Probit.from_formula(formula, data=spam_temp_probit).fit()\n",
    "    p_probit = myprobit.pvalues\n",
    "    print(myprobit.aic)"
   ]
  },
  {
   "cell_type": "code",
   "execution_count": null,
   "id": "413648c1",
   "metadata": {},
   "outputs": [
    {
     "name": "stdout",
     "output_type": "stream",
     "text": [
      "                          Probit Regression Results                           \n",
      "==============================================================================\n",
      "Dep. Variable:                   spam   No. Observations:                 5572\n",
      "Model:                         Probit   Df Residuals:                     5566\n",
      "Method:                           MLE   Df Model:                            5\n",
      "Date:                Sun, 18 Jun 2023   Pseudo R-squ.:                  0.1160\n",
      "Time:                        23:36:55   Log-Likelihood:                -1940.9\n",
      "converged:                       True   LL-Null:                       -2195.6\n",
      "Covariance Type:            nonrobust   LLR p-value:                7.873e-108\n",
      "=========================================================================================\n",
      "                            coef    std err          z      P>|z|      [0.025      0.975]\n",
      "-----------------------------------------------------------------------------------------\n",
      "Intercept                -1.3462      0.030    -44.882      0.000      -1.405      -1.287\n",
      "word_freq_all             3.2810      0.415      7.904      0.000       2.467       4.095\n",
      "word_freq_free           13.4103      0.942     14.231      0.000      11.563      15.257\n",
      "word_freq_re              0.6922      0.293      2.361      0.018       0.118       1.267\n",
      "word_freq_semicolon     -12.9549      3.041     -4.260      0.000     -18.915      -6.995\n",
      "word_freq_exclamation     3.9721      0.382     10.408      0.000       3.224       4.720\n",
      "=========================================================================================\n"
     ]
    }
   ],
   "source": [
    "print(myprobit.summary())"
   ]
  },
  {
   "cell_type": "code",
   "execution_count": null,
   "id": "669a9345",
   "metadata": {},
   "outputs": [
    {
     "name": "stdout",
     "output_type": "stream",
     "text": [
      "word_freq_meeting\n",
      "Optimization terminated successfully.\n",
      "         Current function value: 0.346883\n",
      "         Iterations 10\n",
      "3885.6663210969095\n",
      "word_freq_edu\n",
      "Optimization terminated successfully.\n",
      "         Current function value: 0.346883\n",
      "         Iterations 10\n",
      "3883.668076162318\n",
      "word_freq_our\n",
      "Optimization terminated successfully.\n",
      "         Current function value: 0.346967\n",
      "         Iterations 10\n",
      "3882.598757849927\n",
      "word_freq_make\n",
      "Optimization terminated successfully.\n",
      "         Current function value: 0.347171\n",
      "         Iterations 10\n",
      "3882.8707237137123\n",
      "word_freq_hashtag\n",
      "Optimization terminated successfully.\n",
      "         Current function value: 0.347500\n",
      "         Iterations 10\n",
      "3884.5432016359223\n"
     ]
    }
   ],
   "source": [
    "p_logit = mylogit.pvalues\n",
    "spam_temp_logit = spam_previous_words.copy()\n",
    "\n",
    "while any(p_logit > 0.05):\n",
    "    worstp = p_logit.idxmax()\n",
    "    \n",
    "    print(worstp)\n",
    "    spam_temp_logit.drop(columns=worstp, inplace=True)\n",
    "    \n",
    "    formula = \"spam ~\"\n",
    "    \n",
    "    for column in spam_temp_logit.columns[1:]:\n",
    "        formula += f\" + {column}\"\n",
    "    \n",
    "    mylogit = sm.Logit.from_formula(formula, data=spam_temp_logit).fit()\n",
    "    p_logit = mylogit.pvalues\n",
    "    print(mylogit.aic)"
   ]
  },
  {
   "cell_type": "code",
   "execution_count": null,
   "id": "30bdc89f",
   "metadata": {},
   "outputs": [
    {
     "name": "stdout",
     "output_type": "stream",
     "text": [
      "                           Logit Regression Results                           \n",
      "==============================================================================\n",
      "Dep. Variable:                   spam   No. Observations:                 5572\n",
      "Model:                          Logit   Df Residuals:                     5566\n",
      "Method:                           MLE   Df Model:                            5\n",
      "Date:                Sun, 18 Jun 2023   Pseudo R-squ.:                  0.1181\n",
      "Time:                        23:37:04   Log-Likelihood:                -1936.3\n",
      "converged:                       True   LL-Null:                       -2195.6\n",
      "Covariance Type:            nonrobust   LLR p-value:                7.635e-110\n",
      "=========================================================================================\n",
      "                            coef    std err          z      P>|z|      [0.025      0.975]\n",
      "-----------------------------------------------------------------------------------------\n",
      "Intercept                -2.2850      0.056    -40.489      0.000      -2.396      -2.174\n",
      "word_freq_all             5.7610      0.712      8.092      0.000       4.366       7.156\n",
      "word_freq_free           30.7868      2.332     13.203      0.000      26.216      35.357\n",
      "word_freq_re              1.0500      0.521      2.015      0.044       0.029       2.071\n",
      "word_freq_semicolon     -32.1995      8.798     -3.660      0.000     -49.443     -14.956\n",
      "word_freq_exclamation     6.4342      0.658      9.772      0.000       5.144       7.725\n",
      "=========================================================================================\n"
     ]
    }
   ],
   "source": [
    "print(mylogit.summary())"
   ]
  },
  {
   "cell_type": "code",
   "execution_count": null,
   "id": "ce166104",
   "metadata": {},
   "outputs": [
    {
     "name": "stdout",
     "output_type": "stream",
     "text": [
      "                 Generalized Linear Model Regression Results                  \n",
      "==============================================================================\n",
      "Dep. Variable:                      y   No. Observations:                 5572\n",
      "Model:                            GLM   Df Residuals:                     5569\n",
      "Model Family:                Binomial   Df Model:                            2\n",
      "Link Function:                  logit   Scale:                          1.0000\n",
      "Method:                          IRLS   Log-Likelihood:                -1820.1\n",
      "Date:                Sun, 18 Jun 2023   Deviance:                       3640.2\n",
      "Time:                        23:37:07   Pearson chi2:                 7.15e+06\n",
      "No. Iterations:                     8   Pseudo R-squ. (CS):             0.1261\n",
      "Covariance Type:            nonrobust                                         \n",
      "==============================================================================\n",
      "                 coef    std err          z      P>|z|      [0.025      0.975]\n",
      "------------------------------------------------------------------------------\n",
      "const          0.6124      0.099      6.195      0.000       0.419       0.806\n",
      "x1             0.7290      0.059     12.341      0.000       0.613       0.845\n",
      "x2            -0.2962      0.027    -10.961      0.000      -0.349      -0.243\n",
      "==============================================================================\n"
     ]
    }
   ],
   "source": [
    "# Linktest for probit model - after stepwise regression\n",
    "linktest_result_logit = linktest_logit(mylogit)\n",
    "print(linktest_result_logit.summary())"
   ]
  },
  {
   "cell_type": "markdown",
   "id": "4ff1c1f2",
   "metadata": {},
   "source": [
    "### Interaction terms\n",
    "---\n",
    "We include the interaction terms from the previous research. The variables that were discarded due to low variances are excluded from the interaction terms."
   ]
  },
  {
   "cell_type": "code",
   "execution_count": null,
   "id": "c6d6576c",
   "metadata": {},
   "outputs": [
    {
     "data": {
      "text/plain": [
       "Index(['spam', 'word_freq_make', 'word_freq_all', 'word_freq_our',\n",
       "       'word_freq_free', 'word_freq_meeting', 'word_freq_re', 'word_freq_edu',\n",
       "       'word_freq_semicolon', 'word_freq_exclamation', 'word_freq_hashtag'],\n",
       "      dtype='object')"
      ]
     },
     "execution_count": 240,
     "metadata": {},
     "output_type": "execute_result"
    }
   ],
   "source": [
    "spam_previous_words.columns"
   ]
  },
  {
   "cell_type": "markdown",
   "id": "0c6a4587",
   "metadata": {},
   "source": [
    "### Logit\n",
    "---"
   ]
  },
  {
   "cell_type": "code",
   "execution_count": null,
   "id": "8a6d1be8",
   "metadata": {},
   "outputs": [
    {
     "name": "stdout",
     "output_type": "stream",
     "text": [
      "Intercept                                                      0.000000e+00\n",
      "word_freq_make                                                 2.380242e-01\n",
      "word_freq_our                                                  3.489793e-01\n",
      "word_freq_make:word_freq_our                                   9.999865e-01\n",
      "word_freq_free                                                 4.468356e-47\n",
      "word_freq_meeting                                              9.997683e-01\n",
      "word_freq_edu                                                  9.950311e-01\n",
      "word_freq_semicolon                                            2.518382e-02\n",
      "word_freq_exclamation                                          2.167942e-20\n",
      "word_freq_semicolon:word_freq_exclamation                      9.999221e-01\n",
      "word_freq_hashtag                                              3.630297e-01\n",
      "word_freq_semicolon:word_freq_hashtag                          9.987517e-01\n",
      "word_freq_exclamation:word_freq_hashtag                        9.999173e-01\n",
      "word_freq_semicolon:word_freq_exclamation:word_freq_hashtag    9.999374e-01\n",
      "dtype: float64\n"
     ]
    },
    {
     "name": "stderr",
     "output_type": "stream",
     "text": [
      "c:\\Users\\justy\\AppData\\Local\\Programs\\Python\\Python39\\lib\\site-packages\\statsmodels\\genmod\\families\\links.py:187: RuntimeWarning: overflow encountered in exp\n",
      "  t = np.exp(-z)\n"
     ]
    }
   ],
   "source": [
    "formula_interactions = \"spam ~ word_freq_make * word_freq_our  +  word_freq_free + word_freq_meeting  + word_freq_edu +  word_freq_semicolon * word_freq_exclamation * word_freq_hashtag\"\n",
    "\n",
    "mylogit = sm.formula.glm(formula_interactions, data=spam_previous_words, family=sm.families.Binomial(sm.genmod.families.links.logit())).fit()\n",
    "\n",
    "p = mylogit.pvalues\n",
    "print(p)"
   ]
  },
  {
   "cell_type": "code",
   "execution_count": null,
   "id": "1ce506e2",
   "metadata": {},
   "outputs": [
    {
     "name": "stdout",
     "output_type": "stream",
     "text": [
      "word_freq_make:word_freq_our\n",
      "word_freq_make:word_freq_our\n"
     ]
    },
    {
     "name": "stderr",
     "output_type": "stream",
     "text": [
      "c:\\Users\\justy\\AppData\\Local\\Programs\\Python\\Python39\\lib\\site-packages\\statsmodels\\genmod\\families\\links.py:187: RuntimeWarning: overflow encountered in exp\n",
      "  t = np.exp(-z)\n",
      "c:\\Users\\justy\\AppData\\Local\\Programs\\Python\\Python39\\lib\\site-packages\\statsmodels\\genmod\\families\\links.py:187: RuntimeWarning: overflow encountered in exp\n",
      "  t = np.exp(-z)\n",
      "c:\\Users\\justy\\AppData\\Local\\Programs\\Python\\Python39\\lib\\site-packages\\statsmodels\\genmod\\families\\family.py:1014: RuntimeWarning: divide by zero encountered in log\n",
      "  special.gammaln(n - y + 1) + y * np.log(mu / (1 - mu + 1e-20)) +\n",
      "c:\\Users\\justy\\AppData\\Local\\Programs\\Python\\Python39\\lib\\site-packages\\statsmodels\\genmod\\families\\family.py:1014: RuntimeWarning: invalid value encountered in multiply\n",
      "  special.gammaln(n - y + 1) + y * np.log(mu / (1 - mu + 1e-20)) +\n"
     ]
    },
    {
     "name": "stdout",
     "output_type": "stream",
     "text": [
      "nan\n",
      "word_freq_semicolon:word_freq_exclamation:word_freq_hashtag\n"
     ]
    },
    {
     "name": "stderr",
     "output_type": "stream",
     "text": [
      "c:\\Users\\justy\\AppData\\Local\\Programs\\Python\\Python39\\lib\\site-packages\\statsmodels\\genmod\\families\\links.py:187: RuntimeWarning: overflow encountered in exp\n",
      "  t = np.exp(-z)\n",
      "c:\\Users\\justy\\AppData\\Local\\Programs\\Python\\Python39\\lib\\site-packages\\statsmodels\\genmod\\families\\family.py:1014: RuntimeWarning: divide by zero encountered in log\n",
      "  special.gammaln(n - y + 1) + y * np.log(mu / (1 - mu + 1e-20)) +\n",
      "c:\\Users\\justy\\AppData\\Local\\Programs\\Python\\Python39\\lib\\site-packages\\statsmodels\\genmod\\families\\family.py:1014: RuntimeWarning: invalid value encountered in multiply\n",
      "  special.gammaln(n - y + 1) + y * np.log(mu / (1 - mu + 1e-20)) +\n"
     ]
    },
    {
     "name": "stdout",
     "output_type": "stream",
     "text": [
      "nan\n",
      "word_freq_semicolon:word_freq_exclamation\n"
     ]
    },
    {
     "name": "stderr",
     "output_type": "stream",
     "text": [
      "c:\\Users\\justy\\AppData\\Local\\Programs\\Python\\Python39\\lib\\site-packages\\statsmodels\\genmod\\families\\links.py:187: RuntimeWarning: overflow encountered in exp\n",
      "  t = np.exp(-z)\n",
      "c:\\Users\\justy\\AppData\\Local\\Programs\\Python\\Python39\\lib\\site-packages\\statsmodels\\genmod\\families\\family.py:1014: RuntimeWarning: divide by zero encountered in log\n",
      "  special.gammaln(n - y + 1) + y * np.log(mu / (1 - mu + 1e-20)) +\n",
      "c:\\Users\\justy\\AppData\\Local\\Programs\\Python\\Python39\\lib\\site-packages\\statsmodels\\genmod\\families\\family.py:1014: RuntimeWarning: invalid value encountered in multiply\n",
      "  special.gammaln(n - y + 1) + y * np.log(mu / (1 - mu + 1e-20)) +\n"
     ]
    },
    {
     "name": "stdout",
     "output_type": "stream",
     "text": [
      "nan\n",
      "word_freq_meeting\n"
     ]
    },
    {
     "name": "stderr",
     "output_type": "stream",
     "text": [
      "c:\\Users\\justy\\AppData\\Local\\Programs\\Python\\Python39\\lib\\site-packages\\statsmodels\\genmod\\families\\links.py:187: RuntimeWarning: overflow encountered in exp\n",
      "  t = np.exp(-z)\n",
      "c:\\Users\\justy\\AppData\\Local\\Programs\\Python\\Python39\\lib\\site-packages\\statsmodels\\genmod\\families\\family.py:1014: RuntimeWarning: divide by zero encountered in log\n",
      "  special.gammaln(n - y + 1) + y * np.log(mu / (1 - mu + 1e-20)) +\n",
      "c:\\Users\\justy\\AppData\\Local\\Programs\\Python\\Python39\\lib\\site-packages\\statsmodels\\genmod\\families\\family.py:1014: RuntimeWarning: invalid value encountered in multiply\n",
      "  special.gammaln(n - y + 1) + y * np.log(mu / (1 - mu + 1e-20)) +\n"
     ]
    },
    {
     "name": "stdout",
     "output_type": "stream",
     "text": [
      "nan\n",
      "word_freq_exclamation:word_freq_hashtag\n"
     ]
    },
    {
     "name": "stderr",
     "output_type": "stream",
     "text": [
      "c:\\Users\\justy\\AppData\\Local\\Programs\\Python\\Python39\\lib\\site-packages\\statsmodels\\genmod\\families\\links.py:187: RuntimeWarning: overflow encountered in exp\n",
      "  t = np.exp(-z)\n",
      "c:\\Users\\justy\\AppData\\Local\\Programs\\Python\\Python39\\lib\\site-packages\\statsmodels\\genmod\\families\\family.py:1014: RuntimeWarning: divide by zero encountered in log\n",
      "  special.gammaln(n - y + 1) + y * np.log(mu / (1 - mu + 1e-20)) +\n",
      "c:\\Users\\justy\\AppData\\Local\\Programs\\Python\\Python39\\lib\\site-packages\\statsmodels\\genmod\\families\\family.py:1014: RuntimeWarning: invalid value encountered in multiply\n",
      "  special.gammaln(n - y + 1) + y * np.log(mu / (1 - mu + 1e-20)) +\n"
     ]
    },
    {
     "name": "stdout",
     "output_type": "stream",
     "text": [
      "nan\n",
      "word_freq_semicolon:word_freq_hashtag\n",
      "3943.371267893679\n",
      "word_freq_edu\n",
      "3941.3713547883704\n",
      "word_freq_our\n",
      "3940.51993898435\n",
      "word_freq_make\n",
      "3940.673445820663\n",
      "word_freq_hashtag\n",
      "3942.1827429271793\n"
     ]
    }
   ],
   "source": [
    "i = 1\n",
    "while any(p > 0.05):\n",
    "    worstp = p.idxmax()\n",
    "    print(worstp)\n",
    "\n",
    "    if i == 1:\n",
    "        # Remove the outcome variable from the formula\n",
    "        formula_interactions = formula_interactions.replace(\"spam ~ \", \"\")\n",
    "\n",
    "        # Create the design matrix with interaction terms\n",
    "        X = patsy.dmatrix(formula_interactions, data=spam_previous_words)\n",
    "\n",
    "        # Convert the design matrix to a DataFrame\n",
    "        X = pd.DataFrame(X, columns=X.design_info.column_names)\n",
    "        i=2\n",
    "    else:\n",
    "        X = X.drop(worstp, axis=1)\n",
    "        X_names = ['Intercept'] + list(X.columns)[1:]\n",
    "        X.columns = X_names\n",
    "\n",
    "        mylogit = sm.GLM(spam['spam'], X, family=sm.families.Binomial(sm.families.links.logit())).fit()\n",
    "\n",
    "        p = mylogit.pvalues\n",
    "        print(mylogit.aic)"
   ]
  },
  {
   "cell_type": "code",
   "execution_count": null,
   "id": "b1733944",
   "metadata": {},
   "outputs": [
    {
     "name": "stdout",
     "output_type": "stream",
     "text": [
      "                 Generalized Linear Model Regression Results                  \n",
      "==============================================================================\n",
      "Dep. Variable:                   spam   No. Observations:                 5572\n",
      "Model:                            GLM   Df Residuals:                     5558\n",
      "Model Family:                Binomial   Df Model:                           13\n",
      "Link Function:                  logit   Scale:                          1.0000\n",
      "Method:                          IRLS   Log-Likelihood:                    nan\n",
      "Date:                Sun, 18 Jun 2023   Deviance:                       3898.1\n",
      "Time:                        23:37:29   Pearson chi2:                 8.23e+03\n",
      "No. Iterations:                    28   Pseudo R-squ. (CS):                nan\n",
      "Covariance Type:            nonrobust                                         \n",
      "===============================================================================================================================\n",
      "                                                                  coef    std err          z      P>|z|      [0.025      0.975]\n",
      "-------------------------------------------------------------------------------------------------------------------------------\n",
      "Intercept                                                      -2.1012      0.048    -43.822      0.000      -2.195      -2.007\n",
      "word_freq_make                                                 -4.5450      3.852     -1.180      0.238     -12.095       3.005\n",
      "word_freq_our                                                  -3.1684      3.383     -0.937      0.349      -9.799       3.462\n",
      "word_freq_make:word_freq_our                                 -432.8237   2.55e+07   -1.7e-05      1.000      -5e+07       5e+07\n",
      "word_freq_free                                                 32.3671      2.246     14.410      0.000      27.965      36.769\n",
      "word_freq_meeting                                            -747.4641   2.57e+06     -0.000      1.000   -5.05e+06    5.04e+06\n",
      "word_freq_edu                                                   0.0191      3.064      0.006      0.995      -5.987       6.025\n",
      "word_freq_semicolon                                           -18.6867      8.348     -2.239      0.025     -35.048      -2.326\n",
      "word_freq_exclamation                                           6.0651      0.655      9.254      0.000       4.781       7.350\n",
      "word_freq_semicolon:word_freq_exclamation                   -3.003e+04   3.08e+08  -9.76e-05      1.000   -6.03e+08    6.03e+08\n",
      "word_freq_hashtag                                              11.8828     13.064      0.910      0.363     -13.722      37.487\n",
      "word_freq_semicolon:word_freq_hashtag                       -3.576e+04   2.29e+07     -0.002      0.999   -4.48e+07    4.48e+07\n",
      "word_freq_exclamation:word_freq_hashtag                      1.905e+04   1.84e+08      0.000      1.000    -3.6e+08    3.61e+08\n",
      "word_freq_semicolon:word_freq_exclamation:word_freq_hashtag  6.305e+05   8.03e+09   7.85e-05      1.000   -1.57e+10    1.57e+10\n",
      "===============================================================================================================================\n"
     ]
    }
   ],
   "source": [
    "print(mylogit.summary())"
   ]
  },
  {
   "cell_type": "code",
   "execution_count": null,
   "id": "efa37ee5",
   "metadata": {},
   "outputs": [
    {
     "name": "stdout",
     "output_type": "stream",
     "text": [
      "Optimization terminated successfully.\n",
      "         Current function value: 0.394038\n",
      "         Iterations 6\n",
      "Logit likelihood ratio test p-value: nan\n",
      "LinkTest result                  Generalized Linear Model Regression Results                  \n",
      "==============================================================================\n",
      "Dep. Variable:                      y   No. Observations:                 5572\n",
      "Model:                            GLM   Df Residuals:                     5569\n",
      "Model Family:                Binomial   Df Model:                            2\n",
      "Link Function:                 probit   Scale:                          1.0000\n",
      "Method:                          IRLS   Log-Likelihood:                -1931.5\n",
      "Date:                Sun, 18 Jun 2023   Deviance:                       3863.0\n",
      "Time:                        23:37:48   Pearson chi2:                 6.29e+03\n",
      "No. Iterations:                    17   Pseudo R-squ. (CS):            0.09043\n",
      "Covariance Type:            nonrobust                                         \n",
      "==============================================================================\n",
      "                 coef    std err          z      P>|z|      [0.025      0.975]\n",
      "------------------------------------------------------------------------------\n",
      "const         -0.0572      0.063     -0.902      0.367      -0.182       0.067\n",
      "x1             0.5268      0.030     17.523      0.000       0.468       0.586\n",
      "x2            -0.0185      0.001    -12.629      0.000      -0.021      -0.016\n",
      "==============================================================================\n"
     ]
    }
   ],
   "source": [
    "null_logit = sm.Logit(spam[\"spam\"], sm.add_constant(pd.Series([1] * len(spam_previous_words)))).fit()\n",
    "logit_lrtest = stats.chi2.sf(2 * (mylogit.llf - null_logit.llf), 1)\n",
    "print(\"Logit likelihood ratio test p-value:\", logit_lrtest)\n",
    "\n",
    "linktest_result_logit = linktest_probit(mylogit)\n",
    "print(\"LinkTest result\", linktest_result_logit.summary())"
   ]
  },
  {
   "cell_type": "markdown",
   "id": "2b8b5cc7",
   "metadata": {},
   "source": [
    "The coeeficients of model are jointly signifficant, however, the speciffication is not correct."
   ]
  },
  {
   "cell_type": "markdown",
   "id": "0a31d57b",
   "metadata": {},
   "source": [
    "### Probit\n",
    "---"
   ]
  },
  {
   "cell_type": "markdown",
   "id": "59f59531",
   "metadata": {},
   "source": [
    "formula_interactions = \"spam ~ word_freq_make * word_freq_our  +  word_freq_free + word_freq_meeting  + word_freq_edu +  word_freq_semicolon * word_freq_exclamation * word_freq_hashtag\"\n",
    "myprobit = sm.formula.glm(formula_interactions, data=spam_previous_words, family=sm.families.Binomial(sm.genmod.families.links.probit())).fit()\n",
    "\n",
    "p = myprobit.pvalues\n",
    "print(p)"
   ]
  },
  {
   "cell_type": "code",
   "execution_count": null,
   "id": "e1ae79f5",
   "metadata": {},
   "outputs": [
    {
     "name": "stdout",
     "output_type": "stream",
     "text": [
      "word_freq_make:word_freq_our\n",
      "word_freq_make:word_freq_our\n",
      "Optimization terminated successfully.\n",
      "         Current function value: nan\n",
      "         Iterations 6\n",
      "nan\n"
     ]
    },
    {
     "name": "stderr",
     "output_type": "stream",
     "text": [
      "c:\\Users\\justy\\AppData\\Local\\Programs\\Python\\Python39\\lib\\site-packages\\statsmodels\\discrete\\discrete_model.py:2201: RuntimeWarning: invalid value encountered in divide\n",
      "  L = q*self.pdf(q*XB)/self.cdf(q*XB)\n"
     ]
    }
   ],
   "source": [
    "i = 1\n",
    "while any(p > 0.05):\n",
    "    worstp = p.idxmax()\n",
    "    print(worstp)\n",
    "\n",
    "    if i == 1:\n",
    "        # Remove the outcome variable from the formula\n",
    "        formula_interactions = formula_interactions.replace(\"spam ~ \", \"\")\n",
    "\n",
    "        # Create the design matrix with interaction terms\n",
    "        Z = patsy.dmatrix(formula_interactions, data=spam_previous_words)\n",
    "\n",
    "        # Convert the design matrix to a DataFrame\n",
    "        Z = pd.DataFrame(Z, columns=Z.design_info.column_names)\n",
    "        i=2\n",
    "    else:\n",
    "        Z = Z.drop(worstp, axis=1)\n",
    "        Z_names = ['Intercept'] + list(Z.columns)[1:]\n",
    "        Z.columns = Z_names\n",
    "\n",
    "        myprobit = sm.Probit(spam['spam'], Z).fit()\n",
    "\n",
    "        p = myprobit.pvalues\n",
    "        print(myprobit.aic)"
   ]
  },
  {
   "cell_type": "code",
   "execution_count": null,
   "id": "a75ee727",
   "metadata": {},
   "outputs": [
    {
     "name": "stdout",
     "output_type": "stream",
     "text": [
      "                          Probit Regression Results                           \n",
      "==============================================================================\n",
      "Dep. Variable:                   spam   No. Observations:                 5572\n",
      "Model:                         Probit   Df Residuals:                     5559\n",
      "Method:                           MLE   Df Model:                           12\n",
      "Date:                Sun, 18 Jun 2023   Pseudo R-squ.:                     nan\n",
      "Time:                        23:38:24   Log-Likelihood:                    nan\n",
      "converged:                       True   LL-Null:                       -2195.6\n",
      "Covariance Type:            nonrobust   LLR p-value:                       nan\n",
      "===============================================================================================================================\n",
      "                                                                  coef    std err          z      P>|z|      [0.025      0.975]\n",
      "-------------------------------------------------------------------------------------------------------------------------------\n",
      "Intercept                                                          nan        nan        nan        nan         nan         nan\n",
      "word_freq_make                                                     nan        nan        nan        nan         nan         nan\n",
      "word_freq_our                                                      nan        nan        nan        nan         nan         nan\n",
      "word_freq_free                                                     nan        nan        nan        nan         nan         nan\n",
      "word_freq_meeting                                                  nan        nan        nan        nan         nan         nan\n",
      "word_freq_edu                                                      nan        nan        nan        nan         nan         nan\n",
      "word_freq_semicolon                                                nan        nan        nan        nan         nan         nan\n",
      "word_freq_exclamation                                              nan        nan        nan        nan         nan         nan\n",
      "word_freq_semicolon:word_freq_exclamation                          nan        nan        nan        nan         nan         nan\n",
      "word_freq_hashtag                                                  nan        nan        nan        nan         nan         nan\n",
      "word_freq_semicolon:word_freq_hashtag                              nan        nan        nan        nan         nan         nan\n",
      "word_freq_exclamation:word_freq_hashtag                            nan        nan        nan        nan         nan         nan\n",
      "word_freq_semicolon:word_freq_exclamation:word_freq_hashtag        nan        nan        nan        nan         nan         nan\n",
      "===============================================================================================================================\n"
     ]
    }
   ],
   "source": [
    "print(myprobit.summary())"
   ]
  },
  {
   "cell_type": "code",
   "execution_count": null,
   "id": "df0db996",
   "metadata": {},
   "outputs": [
    {
     "name": "stdout",
     "output_type": "stream",
     "text": [
      "Optimization terminated successfully.\n",
      "         Current function value: 0.394038\n",
      "         Iterations 5\n",
      "Probitlikelihood ratio test p-value: nan\n"
     ]
    },
    {
     "ename": "ValueError",
     "evalue": "zero-size array to reduction operation maximum which has no identity",
     "output_type": "error",
     "traceback": [
      "\u001b[1;31m---------------------------------------------------------------------------\u001b[0m",
      "\u001b[1;31mValueError\u001b[0m                                Traceback (most recent call last)",
      "\u001b[1;32m~\\AppData\\Local\\Temp/ipykernel_14760/2484395099.py\u001b[0m in \u001b[0;36m<module>\u001b[1;34m\u001b[0m\n\u001b[0;32m      3\u001b[0m \u001b[0mprint\u001b[0m\u001b[1;33m(\u001b[0m\u001b[1;34m\"Probitlikelihood ratio test p-value:\"\u001b[0m\u001b[1;33m,\u001b[0m \u001b[0mprobit_lrtest\u001b[0m\u001b[1;33m)\u001b[0m\u001b[1;33m\u001b[0m\u001b[1;33m\u001b[0m\u001b[0m\n\u001b[0;32m      4\u001b[0m \u001b[1;33m\u001b[0m\u001b[0m\n\u001b[1;32m----> 5\u001b[1;33m \u001b[0mlinktest_result_probit\u001b[0m \u001b[1;33m=\u001b[0m \u001b[0mlinktest_probit\u001b[0m\u001b[1;33m(\u001b[0m\u001b[0mmyprobit\u001b[0m\u001b[1;33m)\u001b[0m\u001b[1;33m\u001b[0m\u001b[1;33m\u001b[0m\u001b[0m\n\u001b[0m\u001b[0;32m      6\u001b[0m \u001b[0mprint\u001b[0m\u001b[1;33m(\u001b[0m\u001b[1;34m\"LinkTest result\"\u001b[0m\u001b[1;33m,\u001b[0m \u001b[0mlinktest_result_probit\u001b[0m\u001b[1;33m.\u001b[0m\u001b[0msummary\u001b[0m\u001b[1;33m(\u001b[0m\u001b[1;33m)\u001b[0m\u001b[1;33m)\u001b[0m\u001b[1;33m\u001b[0m\u001b[1;33m\u001b[0m\u001b[0m\n",
      "\u001b[1;32m~\\AppData\\Local\\Temp/ipykernel_14760/2035980757.py\u001b[0m in \u001b[0;36mlinktest_probit\u001b[1;34m(model)\u001b[0m\n\u001b[0;32m     26\u001b[0m \u001b[1;33m\u001b[0m\u001b[0m\n\u001b[0;32m     27\u001b[0m     \u001b[1;31m# Fit the binomial regression model\u001b[0m\u001b[1;33m\u001b[0m\u001b[1;33m\u001b[0m\u001b[0m\n\u001b[1;32m---> 28\u001b[1;33m     \u001b[0mmodel\u001b[0m \u001b[1;33m=\u001b[0m \u001b[0msm\u001b[0m\u001b[1;33m.\u001b[0m\u001b[0mGLM\u001b[0m\u001b[1;33m(\u001b[0m\u001b[0my\u001b[0m\u001b[1;33m,\u001b[0m \u001b[0mX\u001b[0m\u001b[1;33m,\u001b[0m \u001b[0mfamily\u001b[0m\u001b[1;33m=\u001b[0m\u001b[0msm\u001b[0m\u001b[1;33m.\u001b[0m\u001b[0mfamilies\u001b[0m\u001b[1;33m.\u001b[0m\u001b[0mBinomial\u001b[0m\u001b[1;33m(\u001b[0m\u001b[0mlink\u001b[0m\u001b[1;33m=\u001b[0m\u001b[0msm\u001b[0m\u001b[1;33m.\u001b[0m\u001b[0mgenmod\u001b[0m\u001b[1;33m.\u001b[0m\u001b[0mfamilies\u001b[0m\u001b[1;33m.\u001b[0m\u001b[0mlinks\u001b[0m\u001b[1;33m.\u001b[0m\u001b[0mprobit\u001b[0m\u001b[1;33m(\u001b[0m\u001b[1;33m)\u001b[0m\u001b[1;33m)\u001b[0m\u001b[1;33m)\u001b[0m\u001b[1;33m\u001b[0m\u001b[1;33m\u001b[0m\u001b[0m\n\u001b[0m\u001b[0;32m     29\u001b[0m     \u001b[0mresult\u001b[0m \u001b[1;33m=\u001b[0m \u001b[0mmodel\u001b[0m\u001b[1;33m.\u001b[0m\u001b[0mfit\u001b[0m\u001b[1;33m(\u001b[0m\u001b[1;33m)\u001b[0m\u001b[1;33m\u001b[0m\u001b[1;33m\u001b[0m\u001b[0m\n\u001b[0;32m     30\u001b[0m \u001b[1;33m\u001b[0m\u001b[0m\n",
      "\u001b[1;32mc:\\Users\\justy\\AppData\\Local\\Programs\\Python\\Python39\\lib\\site-packages\\statsmodels\\genmod\\generalized_linear_model.py\u001b[0m in \u001b[0;36m__init__\u001b[1;34m(self, endog, exog, family, offset, exposure, freq_weights, var_weights, missing, **kwargs)\u001b[0m\n\u001b[0;32m    314\u001b[0m         \u001b[0mself\u001b[0m\u001b[1;33m.\u001b[0m\u001b[0mvar_weights\u001b[0m \u001b[1;33m=\u001b[0m \u001b[0mvar_weights\u001b[0m\u001b[1;33m\u001b[0m\u001b[1;33m\u001b[0m\u001b[0m\n\u001b[0;32m    315\u001b[0m \u001b[1;33m\u001b[0m\u001b[0m\n\u001b[1;32m--> 316\u001b[1;33m         super(GLM, self).__init__(endog, exog, missing=missing,\n\u001b[0m\u001b[0;32m    317\u001b[0m                                   \u001b[0moffset\u001b[0m\u001b[1;33m=\u001b[0m\u001b[0moffset\u001b[0m\u001b[1;33m,\u001b[0m \u001b[0mexposure\u001b[0m\u001b[1;33m=\u001b[0m\u001b[0mexposure\u001b[0m\u001b[1;33m,\u001b[0m\u001b[1;33m\u001b[0m\u001b[1;33m\u001b[0m\u001b[0m\n\u001b[0;32m    318\u001b[0m                                   \u001b[0mfreq_weights\u001b[0m\u001b[1;33m=\u001b[0m\u001b[0mfreq_weights\u001b[0m\u001b[1;33m,\u001b[0m\u001b[1;33m\u001b[0m\u001b[1;33m\u001b[0m\u001b[0m\n",
      "\u001b[1;32mc:\\Users\\justy\\AppData\\Local\\Programs\\Python\\Python39\\lib\\site-packages\\statsmodels\\base\\model.py\u001b[0m in \u001b[0;36m__init__\u001b[1;34m(self, endog, exog, **kwargs)\u001b[0m\n\u001b[0;32m    265\u001b[0m \u001b[1;33m\u001b[0m\u001b[0m\n\u001b[0;32m    266\u001b[0m     \u001b[1;32mdef\u001b[0m \u001b[0m__init__\u001b[0m\u001b[1;33m(\u001b[0m\u001b[0mself\u001b[0m\u001b[1;33m,\u001b[0m \u001b[0mendog\u001b[0m\u001b[1;33m,\u001b[0m \u001b[0mexog\u001b[0m\u001b[1;33m=\u001b[0m\u001b[1;32mNone\u001b[0m\u001b[1;33m,\u001b[0m \u001b[1;33m**\u001b[0m\u001b[0mkwargs\u001b[0m\u001b[1;33m)\u001b[0m\u001b[1;33m:\u001b[0m\u001b[1;33m\u001b[0m\u001b[1;33m\u001b[0m\u001b[0m\n\u001b[1;32m--> 267\u001b[1;33m         \u001b[0msuper\u001b[0m\u001b[1;33m(\u001b[0m\u001b[1;33m)\u001b[0m\u001b[1;33m.\u001b[0m\u001b[0m__init__\u001b[0m\u001b[1;33m(\u001b[0m\u001b[0mendog\u001b[0m\u001b[1;33m,\u001b[0m \u001b[0mexog\u001b[0m\u001b[1;33m,\u001b[0m \u001b[1;33m**\u001b[0m\u001b[0mkwargs\u001b[0m\u001b[1;33m)\u001b[0m\u001b[1;33m\u001b[0m\u001b[1;33m\u001b[0m\u001b[0m\n\u001b[0m\u001b[0;32m    268\u001b[0m         \u001b[0mself\u001b[0m\u001b[1;33m.\u001b[0m\u001b[0minitialize\u001b[0m\u001b[1;33m(\u001b[0m\u001b[1;33m)\u001b[0m\u001b[1;33m\u001b[0m\u001b[1;33m\u001b[0m\u001b[0m\n\u001b[0;32m    269\u001b[0m \u001b[1;33m\u001b[0m\u001b[0m\n",
      "\u001b[1;32mc:\\Users\\justy\\AppData\\Local\\Programs\\Python\\Python39\\lib\\site-packages\\statsmodels\\base\\model.py\u001b[0m in \u001b[0;36m__init__\u001b[1;34m(self, endog, exog, **kwargs)\u001b[0m\n\u001b[0;32m     90\u001b[0m         \u001b[0mmissing\u001b[0m \u001b[1;33m=\u001b[0m \u001b[0mkwargs\u001b[0m\u001b[1;33m.\u001b[0m\u001b[0mpop\u001b[0m\u001b[1;33m(\u001b[0m\u001b[1;34m'missing'\u001b[0m\u001b[1;33m,\u001b[0m \u001b[1;34m'none'\u001b[0m\u001b[1;33m)\u001b[0m\u001b[1;33m\u001b[0m\u001b[1;33m\u001b[0m\u001b[0m\n\u001b[0;32m     91\u001b[0m         \u001b[0mhasconst\u001b[0m \u001b[1;33m=\u001b[0m \u001b[0mkwargs\u001b[0m\u001b[1;33m.\u001b[0m\u001b[0mpop\u001b[0m\u001b[1;33m(\u001b[0m\u001b[1;34m'hasconst'\u001b[0m\u001b[1;33m,\u001b[0m \u001b[1;32mNone\u001b[0m\u001b[1;33m)\u001b[0m\u001b[1;33m\u001b[0m\u001b[1;33m\u001b[0m\u001b[0m\n\u001b[1;32m---> 92\u001b[1;33m         self.data = self._handle_data(endog, exog, missing, hasconst,\n\u001b[0m\u001b[0;32m     93\u001b[0m                                       **kwargs)\n\u001b[0;32m     94\u001b[0m         \u001b[0mself\u001b[0m\u001b[1;33m.\u001b[0m\u001b[0mk_constant\u001b[0m \u001b[1;33m=\u001b[0m \u001b[0mself\u001b[0m\u001b[1;33m.\u001b[0m\u001b[0mdata\u001b[0m\u001b[1;33m.\u001b[0m\u001b[0mk_constant\u001b[0m\u001b[1;33m\u001b[0m\u001b[1;33m\u001b[0m\u001b[0m\n",
      "\u001b[1;32mc:\\Users\\justy\\AppData\\Local\\Programs\\Python\\Python39\\lib\\site-packages\\statsmodels\\base\\model.py\u001b[0m in \u001b[0;36m_handle_data\u001b[1;34m(self, endog, exog, missing, hasconst, **kwargs)\u001b[0m\n\u001b[0;32m    130\u001b[0m \u001b[1;33m\u001b[0m\u001b[0m\n\u001b[0;32m    131\u001b[0m     \u001b[1;32mdef\u001b[0m \u001b[0m_handle_data\u001b[0m\u001b[1;33m(\u001b[0m\u001b[0mself\u001b[0m\u001b[1;33m,\u001b[0m \u001b[0mendog\u001b[0m\u001b[1;33m,\u001b[0m \u001b[0mexog\u001b[0m\u001b[1;33m,\u001b[0m \u001b[0mmissing\u001b[0m\u001b[1;33m,\u001b[0m \u001b[0mhasconst\u001b[0m\u001b[1;33m,\u001b[0m \u001b[1;33m**\u001b[0m\u001b[0mkwargs\u001b[0m\u001b[1;33m)\u001b[0m\u001b[1;33m:\u001b[0m\u001b[1;33m\u001b[0m\u001b[1;33m\u001b[0m\u001b[0m\n\u001b[1;32m--> 132\u001b[1;33m         \u001b[0mdata\u001b[0m \u001b[1;33m=\u001b[0m \u001b[0mhandle_data\u001b[0m\u001b[1;33m(\u001b[0m\u001b[0mendog\u001b[0m\u001b[1;33m,\u001b[0m \u001b[0mexog\u001b[0m\u001b[1;33m,\u001b[0m \u001b[0mmissing\u001b[0m\u001b[1;33m,\u001b[0m \u001b[0mhasconst\u001b[0m\u001b[1;33m,\u001b[0m \u001b[1;33m**\u001b[0m\u001b[0mkwargs\u001b[0m\u001b[1;33m)\u001b[0m\u001b[1;33m\u001b[0m\u001b[1;33m\u001b[0m\u001b[0m\n\u001b[0m\u001b[0;32m    133\u001b[0m         \u001b[1;31m# kwargs arrays could have changed, easier to just attach here\u001b[0m\u001b[1;33m\u001b[0m\u001b[1;33m\u001b[0m\u001b[0m\n\u001b[0;32m    134\u001b[0m         \u001b[1;32mfor\u001b[0m \u001b[0mkey\u001b[0m \u001b[1;32min\u001b[0m \u001b[0mkwargs\u001b[0m\u001b[1;33m:\u001b[0m\u001b[1;33m\u001b[0m\u001b[1;33m\u001b[0m\u001b[0m\n",
      "\u001b[1;32mc:\\Users\\justy\\AppData\\Local\\Programs\\Python\\Python39\\lib\\site-packages\\statsmodels\\base\\data.py\u001b[0m in \u001b[0;36mhandle_data\u001b[1;34m(endog, exog, missing, hasconst, **kwargs)\u001b[0m\n\u001b[0;32m    671\u001b[0m \u001b[1;33m\u001b[0m\u001b[0m\n\u001b[0;32m    672\u001b[0m     \u001b[0mklass\u001b[0m \u001b[1;33m=\u001b[0m \u001b[0mhandle_data_class_factory\u001b[0m\u001b[1;33m(\u001b[0m\u001b[0mendog\u001b[0m\u001b[1;33m,\u001b[0m \u001b[0mexog\u001b[0m\u001b[1;33m)\u001b[0m\u001b[1;33m\u001b[0m\u001b[1;33m\u001b[0m\u001b[0m\n\u001b[1;32m--> 673\u001b[1;33m     return klass(endog, exog=exog, missing=missing, hasconst=hasconst,\n\u001b[0m\u001b[0;32m    674\u001b[0m                  **kwargs)\n",
      "\u001b[1;32mc:\\Users\\justy\\AppData\\Local\\Programs\\Python\\Python39\\lib\\site-packages\\statsmodels\\base\\data.py\u001b[0m in \u001b[0;36m__init__\u001b[1;34m(self, endog, exog, missing, hasconst, **kwargs)\u001b[0m\n\u001b[0;32m     84\u001b[0m         \u001b[0mself\u001b[0m\u001b[1;33m.\u001b[0m\u001b[0mconst_idx\u001b[0m \u001b[1;33m=\u001b[0m \u001b[1;32mNone\u001b[0m\u001b[1;33m\u001b[0m\u001b[1;33m\u001b[0m\u001b[0m\n\u001b[0;32m     85\u001b[0m         \u001b[0mself\u001b[0m\u001b[1;33m.\u001b[0m\u001b[0mk_constant\u001b[0m \u001b[1;33m=\u001b[0m \u001b[1;36m0\u001b[0m\u001b[1;33m\u001b[0m\u001b[1;33m\u001b[0m\u001b[0m\n\u001b[1;32m---> 86\u001b[1;33m         \u001b[0mself\u001b[0m\u001b[1;33m.\u001b[0m\u001b[0m_handle_constant\u001b[0m\u001b[1;33m(\u001b[0m\u001b[0mhasconst\u001b[0m\u001b[1;33m)\u001b[0m\u001b[1;33m\u001b[0m\u001b[1;33m\u001b[0m\u001b[0m\n\u001b[0m\u001b[0;32m     87\u001b[0m         \u001b[0mself\u001b[0m\u001b[1;33m.\u001b[0m\u001b[0m_check_integrity\u001b[0m\u001b[1;33m(\u001b[0m\u001b[1;33m)\u001b[0m\u001b[1;33m\u001b[0m\u001b[1;33m\u001b[0m\u001b[0m\n\u001b[0;32m     88\u001b[0m         \u001b[0mself\u001b[0m\u001b[1;33m.\u001b[0m\u001b[0m_cache\u001b[0m \u001b[1;33m=\u001b[0m \u001b[1;33m{\u001b[0m\u001b[1;33m}\u001b[0m\u001b[1;33m\u001b[0m\u001b[1;33m\u001b[0m\u001b[0m\n",
      "\u001b[1;32mc:\\Users\\justy\\AppData\\Local\\Programs\\Python\\Python39\\lib\\site-packages\\statsmodels\\base\\data.py\u001b[0m in \u001b[0;36m_handle_constant\u001b[1;34m(self, hasconst)\u001b[0m\n\u001b[0;32m    128\u001b[0m             \u001b[1;31m# detect where the constant is\u001b[0m\u001b[1;33m\u001b[0m\u001b[1;33m\u001b[0m\u001b[0m\n\u001b[0;32m    129\u001b[0m             \u001b[0mcheck_implicit\u001b[0m \u001b[1;33m=\u001b[0m \u001b[1;32mFalse\u001b[0m\u001b[1;33m\u001b[0m\u001b[1;33m\u001b[0m\u001b[0m\n\u001b[1;32m--> 130\u001b[1;33m             \u001b[0mexog_max\u001b[0m \u001b[1;33m=\u001b[0m \u001b[0mnp\u001b[0m\u001b[1;33m.\u001b[0m\u001b[0mmax\u001b[0m\u001b[1;33m(\u001b[0m\u001b[0mself\u001b[0m\u001b[1;33m.\u001b[0m\u001b[0mexog\u001b[0m\u001b[1;33m,\u001b[0m \u001b[0maxis\u001b[0m\u001b[1;33m=\u001b[0m\u001b[1;36m0\u001b[0m\u001b[1;33m)\u001b[0m\u001b[1;33m\u001b[0m\u001b[1;33m\u001b[0m\u001b[0m\n\u001b[0m\u001b[0;32m    131\u001b[0m             \u001b[1;32mif\u001b[0m \u001b[1;32mnot\u001b[0m \u001b[0mnp\u001b[0m\u001b[1;33m.\u001b[0m\u001b[0misfinite\u001b[0m\u001b[1;33m(\u001b[0m\u001b[0mexog_max\u001b[0m\u001b[1;33m)\u001b[0m\u001b[1;33m.\u001b[0m\u001b[0mall\u001b[0m\u001b[1;33m(\u001b[0m\u001b[1;33m)\u001b[0m\u001b[1;33m:\u001b[0m\u001b[1;33m\u001b[0m\u001b[1;33m\u001b[0m\u001b[0m\n\u001b[0;32m    132\u001b[0m                 \u001b[1;32mraise\u001b[0m \u001b[0mMissingDataError\u001b[0m\u001b[1;33m(\u001b[0m\u001b[1;34m'exog contains inf or nans'\u001b[0m\u001b[1;33m)\u001b[0m\u001b[1;33m\u001b[0m\u001b[1;33m\u001b[0m\u001b[0m\n",
      "\u001b[1;32mc:\\Users\\justy\\AppData\\Local\\Programs\\Python\\Python39\\lib\\site-packages\\numpy\\core\\overrides.py\u001b[0m in \u001b[0;36mamax\u001b[1;34m(*args, **kwargs)\u001b[0m\n",
      "\u001b[1;32mc:\\Users\\justy\\AppData\\Local\\Programs\\Python\\Python39\\lib\\site-packages\\numpy\\core\\fromnumeric.py\u001b[0m in \u001b[0;36mamax\u001b[1;34m(a, axis, out, keepdims, initial, where)\u001b[0m\n\u001b[0;32m   2791\u001b[0m     \u001b[1;36m5\u001b[0m\u001b[1;33m\u001b[0m\u001b[1;33m\u001b[0m\u001b[0m\n\u001b[0;32m   2792\u001b[0m     \"\"\"\n\u001b[1;32m-> 2793\u001b[1;33m     return _wrapreduction(a, np.maximum, 'max', axis, None, out,\n\u001b[0m\u001b[0;32m   2794\u001b[0m                           keepdims=keepdims, initial=initial, where=where)\n\u001b[0;32m   2795\u001b[0m \u001b[1;33m\u001b[0m\u001b[0m\n",
      "\u001b[1;32mc:\\Users\\justy\\AppData\\Local\\Programs\\Python\\Python39\\lib\\site-packages\\numpy\\core\\fromnumeric.py\u001b[0m in \u001b[0;36m_wrapreduction\u001b[1;34m(obj, ufunc, method, axis, dtype, out, **kwargs)\u001b[0m\n\u001b[0;32m     84\u001b[0m                 \u001b[1;32mreturn\u001b[0m \u001b[0mreduction\u001b[0m\u001b[1;33m(\u001b[0m\u001b[0maxis\u001b[0m\u001b[1;33m=\u001b[0m\u001b[0maxis\u001b[0m\u001b[1;33m,\u001b[0m \u001b[0mout\u001b[0m\u001b[1;33m=\u001b[0m\u001b[0mout\u001b[0m\u001b[1;33m,\u001b[0m \u001b[1;33m**\u001b[0m\u001b[0mpasskwargs\u001b[0m\u001b[1;33m)\u001b[0m\u001b[1;33m\u001b[0m\u001b[1;33m\u001b[0m\u001b[0m\n\u001b[0;32m     85\u001b[0m \u001b[1;33m\u001b[0m\u001b[0m\n\u001b[1;32m---> 86\u001b[1;33m     \u001b[1;32mreturn\u001b[0m \u001b[0mufunc\u001b[0m\u001b[1;33m.\u001b[0m\u001b[0mreduce\u001b[0m\u001b[1;33m(\u001b[0m\u001b[0mobj\u001b[0m\u001b[1;33m,\u001b[0m \u001b[0maxis\u001b[0m\u001b[1;33m,\u001b[0m \u001b[0mdtype\u001b[0m\u001b[1;33m,\u001b[0m \u001b[0mout\u001b[0m\u001b[1;33m,\u001b[0m \u001b[1;33m**\u001b[0m\u001b[0mpasskwargs\u001b[0m\u001b[1;33m)\u001b[0m\u001b[1;33m\u001b[0m\u001b[1;33m\u001b[0m\u001b[0m\n\u001b[0m\u001b[0;32m     87\u001b[0m \u001b[1;33m\u001b[0m\u001b[0m\n\u001b[0;32m     88\u001b[0m \u001b[1;33m\u001b[0m\u001b[0m\n",
      "\u001b[1;31mValueError\u001b[0m: zero-size array to reduction operation maximum which has no identity"
     ]
    }
   ],
   "source": [
    "null_probit = sm.Probit(spam[\"spam\"], sm.add_constant(pd.Series([1] * len(spam_previous_words)))).fit()\n",
    "probit_lrtest = stats.chi2.sf(2 * (myprobit.llf - null_probit.llf), 1)\n",
    "print(\"Probitlikelihood ratio test p-value:\", probit_lrtest)\n",
    "\n",
    "linktest_result_probit = linktest_probit(myprobit)\n",
    "print(\"LinkTest result\", linktest_result_probit.summary())"
   ]
  },
  {
   "cell_type": "markdown",
   "id": "ce6846c8",
   "metadata": {},
   "source": [
    "Same results as for Logit"
   ]
  },
  {
   "cell_type": "markdown",
   "id": "c428d60c",
   "metadata": {},
   "source": [
    "### Other goodness of fit tests\n",
    "\n",
    "As in previous study the Link Test and LR test draw attention to the logit model with interactions that was good specified and significant\n",
    "Now let us perform other tests for the model"
   ]
  },
  {
   "cell_type": "markdown",
   "id": "bb989191",
   "metadata": {},
   "source": [
    "gof_results = mylogit.deviance\n",
    "print(\"Logit | Goodness-of-Fit Test:\")\n",
    "print(\"Logit | Deviance: \", gof_results)\n",
    "\n",
    "gof_results = myprobit.deviance\n",
    "print(\"Probit | Goodness-of-Fit Test:\")\n",
    "print(\"Probit | Deviance: \", gof_results)"
   ]
  },
  {
   "cell_type": "code",
   "execution_count": null,
   "id": "138e3ac9",
   "metadata": {},
   "outputs": [
    {
     "name": "stdout",
     "output_type": "stream",
     "text": [
      "Logit | Pseudo R-squared:  nan\n",
      "Probit | Pseudo R-squared:  nan\n"
     ]
    }
   ],
   "source": [
    "pseudo_r2 = 1 - (mylogit.llf / mylogit.llnull)\n",
    "print(\"Logit | Pseudo R-squared: \", pseudo_r2)\n",
    "\n",
    "pseudo_r2 = 1 - (myprobit.llf / myprobit.llnull)\n",
    "print(\"Probit | Pseudo R-squared: \", pseudo_r2)"
   ]
  },
  {
   "cell_type": "code",
   "execution_count": null,
   "id": "a331fcde",
   "metadata": {},
   "outputs": [
    {
     "name": "stdout",
     "output_type": "stream",
     "text": [
      "Count Pseudo R-squared:  0.8752692031586504\n"
     ]
    }
   ],
   "source": [
    "pred_probs = result.predict()\n",
    "y_observed = result.model.endog\n",
    "\n",
    "# Round predicted probabilities to 0 or 1 based on the cutoff of 0.50\n",
    "pred_classes = np.where(pred_probs > 0.50, 1, 0)\n",
    "\n",
    "# Calculate the number of correctly classified cases\n",
    "correctly_classified = np.sum(pred_classes == y_observed)\n",
    "\n",
    "# Calculate the total number of cases\n",
    "total_cases = len(y_observed)\n",
    "\n",
    "# Calculate the count pseudo R-squared\n",
    "count_r2 = correctly_classified / total_cases\n",
    "\n",
    "# Calculate the number of predictors in the model\n",
    "p = result.df_model\n",
    "\n",
    "# Print the pseudo R-squared statistics\n",
    "print(\"Count Pseudo R-squared: \", count_r2)"
   ]
  },
  {
   "cell_type": "markdown",
   "id": "8eff2c93",
   "metadata": {},
   "source": [
    "## General results\n",
    "\n",
    "We were able to replicate the analysis, which was originally designed in R, in Python. Some adjustments had to be made to create new formulas and utilise a different set of packages, however the results generated in Python were the same as the results generated in R when using the same dataset.\n",
    "\n",
    "Applying the same methodologies to a new dataset were more challenging, as the initial analysis was based on the word frequencies of certain words in the text. At first, the analysis was conducted based on the most common words and characters present in the new dataset. Then the models were replicated by calculating the frequencies of the words from the initial word list. \n",
    "While it was still possible to construct the models, they were generally less efficient in detecting spam. One of the main reasons was the much lower frequencies of the selected and previously used words in the new text. This resulted in very low variances within the variable which then had to be removed to be included in the models.\n",
    "This issue was more prevalent when trying to replicate the analysis using the old word list - many of the words were highly specific to the initial dataset and thus were not found in the new data. This resulted in a big reduction in the number of variables and possible interactions, therefore the analysis could not be replicated exactly.\n",
    "\n",
    "Overall, this excercise has proven what has been discussed in the initial research report- while econometric analysis performed well or on par with more complex models, it was determined to be highly specific to the data it was built on. As spam detection is a fast evolving subject that would need frequent updating and flexibility, other models, such as machine learning, are preferable.\n",
    "\n",
    "The datasets for spam detection were limited only to certain topics (the number of observations were not sufficient) and that is why those models could rely only on certain words. If the dataset cahnges the currently working model might not fit very well in new environment. It is extremely important for email providers to both personalize their filters and update them frequently to make sure the spam messages are spotted."
   ]
  },
  {
   "cell_type": "markdown",
   "id": "cfc30d85",
   "metadata": {},
   "source": []
  }
 ],
 "metadata": {
  "kernelspec": {
   "display_name": "Python 3 (ipykernel)",
   "language": "python",
   "name": "python3"
  },
  "language_info": {
   "codemirror_mode": {
    "name": "ipython",
    "version": 3
   },
   "file_extension": ".py",
   "mimetype": "text/x-python",
   "name": "python",
   "nbconvert_exporter": "python",
   "pygments_lexer": "ipython3",
   "version": "3.9.7"
  }
 },
 "nbformat": 4,
 "nbformat_minor": 5
}
